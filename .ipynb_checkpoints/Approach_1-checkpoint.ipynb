{
 "cells": [
  {
   "cell_type": "markdown",
   "metadata": {
    "id": "AjRWWWM86HES"
   },
   "source": [
    "# Relation Extraction - SemEval 2010 Task 8\n",
    "\n",
    "Group members:<br/>\n",
    "Mohammed Mehdi Patel - y28520mp<br/>\n",
    "Antas Singh - v06383as<br/>\n",
    "Nilakhi Das - b02373nd<br/>\n",
    "Ayush Garg - c81114ag<br/>\n",
    "\n",
    "<br>\n",
    "\n",
    "This file contains the code for our first approach. It is a traditional machine learning based approach that uses an SVM model trained on features generated using NLP techniques.\n",
    "\n",
    "If you want to test our model directly by providing some inputs, you can directly go to the last 3 cells of this notebook. Instructions on how to provide inputs is provided in those cells.<br/>\n",
    "**Note: The 3rd last cell of this notebook mounts google drive since this notebook was prepared in google colab. You would not need to run this cell if you are not using google colab. Make sure you install all the required packages with the first line of this notebook and download our model and word embeddings the link for which is in the README file. The 2nd last cell uses our saved word embeddings and model.**\n",
    "\n",
    "<br/>\n",
    "\n",
    "The notebook starts with an install statement of libraries that will be required to run this notebook and then what follows is our code to preprocess the data, create features and train and evaluate the SVM model.\n",
    "\n",
    "<br/>\n",
    "\n",
    "## Code Attributions and Enhancements:<br/>\n",
    "We got some idea of preprocessing the data files from [Sahitya's repository on Github](https://github.com/sahitya0000/Relation-Classification/tree/master)\n",
    ". After preprocessing the data files and converting them to pandas dataframes, we used our own word embeddings trained on the dataset's corpus using [Google's Word2Vec model](https://www.tensorflow.org/text/tutorials/word2vec) and some NLP techniques to create features using [Spacy](https://spacy.io/). Unlike Sahitya's Deep Learning approach, we used a tradiional ML approach in this notebook.\n",
    "\n",
    "<br/>\n",
    "\n",
    "Following is a summary our implementation:\n",
    "1. Generate a corpus of all words present in the dataset.\n",
    "2. Train Word2Vec model on our generated corpus to obtain word embeddings that carry contextual information.\n",
    "3. Prepare training and testing dataframes so that it can be used for further processing.\n",
    "4. Using the word_embeddings generate the following features:\n",
    "<ul>\n",
    "<li>sentence_vector: vector representation of the sentence</li>\n",
    "<li>e1_vec: vector representation of e1(first entity)</li>\n",
    "<li>e2_vec: vector representation of e2(second entity)</li>\n",
    "</ul>\n",
    "5. Use spacy to find out POS tags of e1 and e2 and add that as a feature in the traing and testing dataframes.\n",
    "6. Generate features using TF-IDF to highlight the importance of certain words that can be helpful in the classification process for the model.\n",
    "7. Using the generated features from step 4 to 6, train an SVM model with rbf kernel and optimal hyperparameter values found using grid search.\n",
    "8. Evaluate the model on test set.\n"
   ]
  },
  {
   "cell_type": "code",
   "execution_count": 1,
   "metadata": {
    "colab": {
     "base_uri": "https://localhost:8080/"
    },
    "id": "jBHNCOYx_vCY",
    "outputId": "0fd54d61-53d5-4162-a785-76d880a43842"
   },
   "outputs": [
    {
     "name": "stdout",
     "output_type": "stream",
     "text": [
      "Collecting gensim\n",
      "  Downloading gensim-4.3.2-cp311-cp311-macosx_10_9_x86_64.whl.metadata (8.3 kB)\n",
      "Requirement already satisfied: numpy in /usr/local/lib/python3.11/site-packages (1.26.2)\n",
      "Collecting pandas\n",
      "  Downloading pandas-2.2.1-cp311-cp311-macosx_10_9_x86_64.whl.metadata (19 kB)\n",
      "Requirement already satisfied: spacy in /usr/local/lib/python3.11/site-packages (3.7.4)\n",
      "Collecting scikit-learn\n",
      "  Downloading scikit_learn-1.4.1.post1-cp311-cp311-macosx_10_9_x86_64.whl.metadata (11 kB)\n",
      "Collecting joblib\n",
      "  Using cached joblib-1.3.2-py3-none-any.whl.metadata (5.4 kB)\n",
      "Collecting seaborn\n",
      "  Downloading seaborn-0.13.2-py3-none-any.whl.metadata (5.4 kB)\n",
      "Collecting matplotlib\n",
      "  Downloading matplotlib-3.8.3-cp311-cp311-macosx_10_12_x86_64.whl.metadata (5.8 kB)\n",
      "Collecting scipy>=1.7.0 (from gensim)\n",
      "  Downloading scipy-1.12.0-cp311-cp311-macosx_10_9_x86_64.whl.metadata (60 kB)\n",
      "\u001b[2K     \u001b[90m━━━━━━━━━━━━━━━━━━━━━━━━━━━━━━━━━━━━━━━━\u001b[0m \u001b[32m60.4/60.4 kB\u001b[0m \u001b[31m1.4 MB/s\u001b[0m eta \u001b[36m0:00:00\u001b[0m\n",
      "\u001b[?25hRequirement already satisfied: smart-open>=1.8.1 in /usr/local/lib/python3.11/site-packages (from gensim) (6.4.0)\n",
      "Requirement already satisfied: python-dateutil>=2.8.2 in /usr/local/lib/python3.11/site-packages (from pandas) (2.8.2)\n",
      "Collecting pytz>=2020.1 (from pandas)\n",
      "  Downloading pytz-2024.1-py2.py3-none-any.whl.metadata (22 kB)\n",
      "Collecting tzdata>=2022.7 (from pandas)\n",
      "  Downloading tzdata-2024.1-py2.py3-none-any.whl.metadata (1.4 kB)\n",
      "Requirement already satisfied: spacy-legacy<3.1.0,>=3.0.11 in /usr/local/lib/python3.11/site-packages (from spacy) (3.0.12)\n",
      "Requirement already satisfied: spacy-loggers<2.0.0,>=1.0.0 in /usr/local/lib/python3.11/site-packages (from spacy) (1.0.5)\n",
      "Requirement already satisfied: murmurhash<1.1.0,>=0.28.0 in /usr/local/lib/python3.11/site-packages (from spacy) (1.0.10)\n",
      "Requirement already satisfied: cymem<2.1.0,>=2.0.2 in /usr/local/lib/python3.11/site-packages (from spacy) (2.0.8)\n",
      "Requirement already satisfied: preshed<3.1.0,>=3.0.2 in /usr/local/lib/python3.11/site-packages (from spacy) (3.0.9)\n",
      "Requirement already satisfied: thinc<8.3.0,>=8.2.2 in /usr/local/lib/python3.11/site-packages (from spacy) (8.2.3)\n",
      "Requirement already satisfied: wasabi<1.2.0,>=0.9.1 in /usr/local/lib/python3.11/site-packages (from spacy) (1.1.2)\n",
      "Requirement already satisfied: srsly<3.0.0,>=2.4.3 in /usr/local/lib/python3.11/site-packages (from spacy) (2.4.8)\n",
      "Requirement already satisfied: catalogue<2.1.0,>=2.0.6 in /usr/local/lib/python3.11/site-packages (from spacy) (2.0.10)\n",
      "Requirement already satisfied: weasel<0.4.0,>=0.1.0 in /usr/local/lib/python3.11/site-packages (from spacy) (0.3.4)\n",
      "Requirement already satisfied: typer<0.10.0,>=0.3.0 in /usr/local/lib/python3.11/site-packages (from spacy) (0.9.0)\n",
      "Requirement already satisfied: tqdm<5.0.0,>=4.38.0 in /usr/local/lib/python3.11/site-packages (from spacy) (4.66.2)\n",
      "Requirement already satisfied: requests<3.0.0,>=2.13.0 in /usr/local/lib/python3.11/site-packages (from spacy) (2.31.0)\n",
      "Requirement already satisfied: pydantic!=1.8,!=1.8.1,<3.0.0,>=1.7.4 in /usr/local/lib/python3.11/site-packages (from spacy) (2.6.1)\n",
      "Requirement already satisfied: jinja2 in /usr/local/lib/python3.11/site-packages (from spacy) (3.1.2)\n",
      "Requirement already satisfied: setuptools in /usr/local/lib/python3.11/site-packages (from spacy) (65.6.3)\n",
      "Requirement already satisfied: packaging>=20.0 in /usr/local/lib/python3.11/site-packages (from spacy) (23.2)\n",
      "Requirement already satisfied: langcodes<4.0.0,>=3.2.0 in /usr/local/lib/python3.11/site-packages (from spacy) (3.3.0)\n",
      "Collecting threadpoolctl>=2.0.0 (from scikit-learn)\n",
      "  Downloading threadpoolctl-3.3.0-py3-none-any.whl.metadata (13 kB)\n",
      "Collecting contourpy>=1.0.1 (from matplotlib)\n",
      "  Downloading contourpy-1.2.0-cp311-cp311-macosx_10_9_x86_64.whl.metadata (5.8 kB)\n",
      "Collecting cycler>=0.10 (from matplotlib)\n",
      "  Downloading cycler-0.12.1-py3-none-any.whl.metadata (3.8 kB)\n",
      "Collecting fonttools>=4.22.0 (from matplotlib)\n",
      "  Downloading fonttools-4.49.0-cp311-cp311-macosx_10_9_x86_64.whl.metadata (159 kB)\n",
      "\u001b[2K     \u001b[90m━━━━━━━━━━━━━━━━━━━━━━━━━━━━━━━━━━━━━━━\u001b[0m \u001b[32m159.1/159.1 kB\u001b[0m \u001b[31m1.7 MB/s\u001b[0m eta \u001b[36m0:00:00\u001b[0ma \u001b[36m0:00:01\u001b[0m\n",
      "\u001b[?25hCollecting kiwisolver>=1.3.1 (from matplotlib)\n",
      "  Downloading kiwisolver-1.4.5-cp311-cp311-macosx_10_9_x86_64.whl.metadata (6.4 kB)\n",
      "Collecting pillow>=8 (from matplotlib)\n",
      "  Downloading pillow-10.2.0-cp311-cp311-macosx_10_10_x86_64.whl.metadata (9.7 kB)\n",
      "Collecting pyparsing>=2.3.1 (from matplotlib)\n",
      "  Downloading pyparsing-3.1.2-py3-none-any.whl.metadata (5.1 kB)\n",
      "Requirement already satisfied: annotated-types>=0.4.0 in /usr/local/lib/python3.11/site-packages (from pydantic!=1.8,!=1.8.1,<3.0.0,>=1.7.4->spacy) (0.6.0)\n",
      "Requirement already satisfied: pydantic-core==2.16.2 in /usr/local/lib/python3.11/site-packages (from pydantic!=1.8,!=1.8.1,<3.0.0,>=1.7.4->spacy) (2.16.2)\n",
      "Requirement already satisfied: typing-extensions>=4.6.1 in /usr/local/lib/python3.11/site-packages (from pydantic!=1.8,!=1.8.1,<3.0.0,>=1.7.4->spacy) (4.9.0)\n",
      "Requirement already satisfied: six>=1.5 in /usr/local/lib/python3.11/site-packages (from python-dateutil>=2.8.2->pandas) (1.16.0)\n",
      "Requirement already satisfied: charset-normalizer<4,>=2 in /usr/local/lib/python3.11/site-packages (from requests<3.0.0,>=2.13.0->spacy) (3.3.2)\n",
      "Requirement already satisfied: idna<4,>=2.5 in /usr/local/lib/python3.11/site-packages (from requests<3.0.0,>=2.13.0->spacy) (3.4)\n",
      "Requirement already satisfied: urllib3<3,>=1.21.1 in /usr/local/lib/python3.11/site-packages (from requests<3.0.0,>=2.13.0->spacy) (2.1.0)\n",
      "Requirement already satisfied: certifi>=2017.4.17 in /usr/local/lib/python3.11/site-packages (from requests<3.0.0,>=2.13.0->spacy) (2023.7.22)\n",
      "Requirement already satisfied: blis<0.8.0,>=0.7.8 in /usr/local/lib/python3.11/site-packages (from thinc<8.3.0,>=8.2.2->spacy) (0.7.11)\n",
      "Requirement already satisfied: confection<1.0.0,>=0.0.1 in /usr/local/lib/python3.11/site-packages (from thinc<8.3.0,>=8.2.2->spacy) (0.1.4)\n",
      "Requirement already satisfied: click<9.0.0,>=7.1.1 in /usr/local/lib/python3.11/site-packages (from typer<0.10.0,>=0.3.0->spacy) (8.1.7)\n",
      "Requirement already satisfied: cloudpathlib<0.17.0,>=0.7.0 in /usr/local/lib/python3.11/site-packages (from weasel<0.4.0,>=0.1.0->spacy) (0.16.0)\n",
      "Requirement already satisfied: MarkupSafe>=2.0 in /usr/local/lib/python3.11/site-packages (from jinja2->spacy) (2.1.3)\n",
      "Downloading gensim-4.3.2-cp311-cp311-macosx_10_9_x86_64.whl (24.1 MB)\n",
      "\u001b[2K   \u001b[90m━━━━━━━━━━━━━━━━━━━━━━━━━━━━━━━━━━━━━━━━\u001b[0m \u001b[32m24.1/24.1 MB\u001b[0m \u001b[31m2.0 MB/s\u001b[0m eta \u001b[36m0:00:00\u001b[0m00:01\u001b[0m00:01\u001b[0m\n",
      "\u001b[?25hDownloading pandas-2.2.1-cp311-cp311-macosx_10_9_x86_64.whl (12.6 MB)\n",
      "\u001b[2K   \u001b[90m━━━━━━━━━━━━━━━━━━━━━━━━━━━━━━━━━━━━━━━━\u001b[0m \u001b[32m12.6/12.6 MB\u001b[0m \u001b[31m2.0 MB/s\u001b[0m eta \u001b[36m0:00:00\u001b[0m00:01\u001b[0m00:01\u001b[0m\n",
      "\u001b[?25hDownloading scikit_learn-1.4.1.post1-cp311-cp311-macosx_10_9_x86_64.whl (11.6 MB)\n",
      "\u001b[2K   \u001b[90m━━━━━━━━━━━━━━━━━━━━━━━━━━━━━━━━━━━━━━━━\u001b[0m \u001b[32m11.6/11.6 MB\u001b[0m \u001b[31m2.1 MB/s\u001b[0m eta \u001b[36m0:00:00\u001b[0m00:01\u001b[0m00:01\u001b[0m\n",
      "\u001b[?25hUsing cached joblib-1.3.2-py3-none-any.whl (302 kB)\n",
      "Downloading seaborn-0.13.2-py3-none-any.whl (294 kB)\n",
      "\u001b[2K   \u001b[90m━━━━━━━━━━━━━━━━━━━━━━━━━━━━━━━━━━━━━━━━\u001b[0m \u001b[32m294.9/294.9 kB\u001b[0m \u001b[31m1.8 MB/s\u001b[0m eta \u001b[36m0:00:00\u001b[0ma \u001b[36m0:00:01\u001b[0m\n",
      "\u001b[?25hDownloading matplotlib-3.8.3-cp311-cp311-macosx_10_12_x86_64.whl (7.6 MB)\n",
      "\u001b[2K   \u001b[90m━━━━━━━━━━━━━━━━━━━━━━━━━━━━━━━━━━━━━━━━\u001b[0m \u001b[32m7.6/7.6 MB\u001b[0m \u001b[31m2.1 MB/s\u001b[0m eta \u001b[36m0:00:00\u001b[0m00:01\u001b[0m00:01\u001b[0m\n",
      "\u001b[?25hDownloading contourpy-1.2.0-cp311-cp311-macosx_10_9_x86_64.whl (258 kB)\n",
      "\u001b[2K   \u001b[90m━━━━━━━━━━━━━━━━━━━━━━━━━━━━━━━━━━━━━━━━\u001b[0m \u001b[32m258.2/258.2 kB\u001b[0m \u001b[31m1.9 MB/s\u001b[0m eta \u001b[36m0:00:00\u001b[0ma \u001b[36m0:00:01\u001b[0m\n",
      "\u001b[?25hDownloading cycler-0.12.1-py3-none-any.whl (8.3 kB)\n",
      "Downloading fonttools-4.49.0-cp311-cp311-macosx_10_9_x86_64.whl (2.3 MB)\n",
      "\u001b[2K   \u001b[90m━━━━━━━━━━━━━━━━━━━━━━━━━━━━━━━━━━━━━━━━\u001b[0m \u001b[32m2.3/2.3 MB\u001b[0m \u001b[31m2.0 MB/s\u001b[0m eta \u001b[36m0:00:00\u001b[0m00:01\u001b[0m00:01\u001b[0m\n",
      "\u001b[?25hDownloading kiwisolver-1.4.5-cp311-cp311-macosx_10_9_x86_64.whl (68 kB)\n",
      "\u001b[2K   \u001b[90m━━━━━━━━━━━━━━━━━━━━━━━━━━━━━━━━━━━━━━━━\u001b[0m \u001b[32m68.2/68.2 kB\u001b[0m \u001b[31m1.8 MB/s\u001b[0m eta \u001b[36m0:00:00\u001b[0m\n",
      "\u001b[?25hDownloading pillow-10.2.0-cp311-cp311-macosx_10_10_x86_64.whl (3.5 MB)\n",
      "\u001b[2K   \u001b[90m━━━━━━━━━━━━━━━━━━━━━━━━━━━━━━━━━━━━━━━━\u001b[0m \u001b[32m3.5/3.5 MB\u001b[0m \u001b[31m2.0 MB/s\u001b[0m eta \u001b[36m0:00:00\u001b[0m00:01\u001b[0m00:01\u001b[0m\n",
      "\u001b[?25hDownloading pyparsing-3.1.2-py3-none-any.whl (103 kB)\n",
      "\u001b[2K   \u001b[90m━━━━━━━━━━━━━━━━━━━━━━━━━━━━━━━━━━━━━━━━\u001b[0m \u001b[32m103.2/103.2 kB\u001b[0m \u001b[31m1.7 MB/s\u001b[0m eta \u001b[36m0:00:00\u001b[0m \u001b[36m0:00:01\u001b[0m\n",
      "\u001b[?25hDownloading pytz-2024.1-py2.py3-none-any.whl (505 kB)\n",
      "\u001b[2K   \u001b[90m━━━━━━━━━━━━━━━━━━━━━━━━━━━━━━━━━━━━━━━━\u001b[0m \u001b[32m505.5/505.5 kB\u001b[0m \u001b[31m2.0 MB/s\u001b[0m eta \u001b[36m0:00:00\u001b[0ma \u001b[36m0:00:01\u001b[0m\n",
      "\u001b[?25hDownloading scipy-1.12.0-cp311-cp311-macosx_10_9_x86_64.whl (38.9 MB)\n",
      "\u001b[2K   \u001b[90m━━━━━━━━━━━━━━━━━━━━━━━━━━━━━━━━━━━━━━━━\u001b[0m \u001b[32m38.9/38.9 MB\u001b[0m \u001b[31m2.0 MB/s\u001b[0m eta \u001b[36m0:00:00\u001b[0m00:01\u001b[0m00:01\u001b[0m\n",
      "\u001b[?25hDownloading threadpoolctl-3.3.0-py3-none-any.whl (17 kB)\n",
      "Downloading tzdata-2024.1-py2.py3-none-any.whl (345 kB)\n",
      "\u001b[2K   \u001b[90m━━━━━━━━━━━━━━━━━━━━━━━━━━━━━━━━━━━━━━━━\u001b[0m \u001b[32m345.4/345.4 kB\u001b[0m \u001b[31m1.8 MB/s\u001b[0m eta \u001b[36m0:00:00\u001b[0ma \u001b[36m0:00:01\u001b[0m\n",
      "\u001b[?25hInstalling collected packages: pytz, tzdata, threadpoolctl, scipy, pyparsing, pillow, kiwisolver, joblib, fonttools, cycler, contourpy, scikit-learn, pandas, matplotlib, gensim, seaborn\n",
      "Successfully installed contourpy-1.2.0 cycler-0.12.1 fonttools-4.49.0 gensim-4.3.2 joblib-1.3.2 kiwisolver-1.4.5 matplotlib-3.8.3 pandas-2.2.1 pillow-10.2.0 pyparsing-3.1.2 pytz-2024.1 scikit-learn-1.4.1.post1 scipy-1.12.0 seaborn-0.13.2 threadpoolctl-3.3.0 tzdata-2024.1\n",
      "/usr/local/bin/python3: No module named spacy\n"
     ]
    }
   ],
   "source": [
    "# if you get any error related to en_core_web_sm it may be related to you python version.\n",
    "# you can then try replacing 'python3' with 'python' and 'pip3' with 'pip'.\n",
    "!pip3 install gensim numpy pandas spacy scikit-learn joblib seaborn matplotlib\n",
    "!python3 -m spacy download en_core_web_sm"
   ]
  },
  {
   "cell_type": "code",
   "execution_count": 14,
   "metadata": {
    "id": "JrXjEm5PLJKE"
   },
   "outputs": [],
   "source": [
    "#importing required librarires\n",
    "import gensim.downloader as api\n",
    "import numpy as np\n",
    "import pandas as pd\n",
    "import seaborn as sns\n",
    "import matplotlib.pyplot as plt\n",
    "import spacy\n",
    "import re\n",
    "from gensim.models import KeyedVectors\n",
    "from gensim.models import Word2Vec\n",
    "from sklearn import svm\n",
    "from sklearn.metrics import accuracy_score, f1_score, precision_score, recall_score, classification_report, confusion_matrix\n",
    "\n",
    "# loading spacy's trained pipeline on english language\n",
    "nlp = spacy.load(\"en_core_web_sm\")"
   ]
  },
  {
   "cell_type": "code",
   "execution_count": 15,
   "metadata": {
    "colab": {
     "base_uri": "https://localhost:8080/"
    },
    "id": "HaMcb35rDIP4",
    "outputId": "8f5cdb66-3d05-4c59-eae2-21ef578db0b2"
   },
   "outputs": [
    {
     "name": "stdout",
     "output_type": "stream",
     "text": [
      "Drive already mounted at /gdrive; to attempt to forcibly remount, call drive.mount(\"/gdrive\", force_remount=True).\n",
      "/gdrive/MyDrive/SemEval2010_task8_all_data\n",
      "Approach_1.ipynb\t\t\t  SemEval_BERT.ipynb\n",
      "GoogleNews-vectors.kv\t\t\t  SEMEVAL_TASK8_FULL_RELEASE_README.txt\n",
      "GoogleNews-vectors.kv.vectors.npy\t  SemEval-vectors.kv\n",
      "GoogleNews-vectors-negative300_vocab.txt  SemEval-vectors.kv.vectors_ngrams.npy\n",
      "my_svm_model.pkl\t\t\t  test.csv\n",
      "SemEval2010_task8_scorer-v1.2\t\t  tfidf_vectorizer.joblib\n",
      "SemEval2010_task8_testing\t\t  train.csv\n",
      "SemEval2010_task8_testing_keys\t\t  Untitled1.ipynb\n",
      "SemEval2010_task8_training\n"
     ]
    }
   ],
   "source": [
    "# # UNCOMMENT THE FOLLOWING CELL IF YOU ARE USING GOOGLE COLAB\n",
    "# # mount drive and change directory(specify the directory accordingly for yourself)\n",
    "# from google.colab import drive\n",
    "# drive.mount('/gdrive')\n",
    "# %cd /gdrive/MyDrive/SemEval2010_task8_all_data/\n",
    "# !ls"
   ]
  },
  {
   "cell_type": "markdown",
   "metadata": {
    "id": "_m0rokBLEJY8"
   },
   "source": [
    "# Building corpus and training word2vec model on that corpus"
   ]
  },
  {
   "cell_type": "code",
   "execution_count": 16,
   "metadata": {
    "id": "9fLc1MEaDSY9"
   },
   "outputs": [],
   "source": [
    "# function that takes a sentence and returns the same sentence as list of words after removing stop words and lowercasing all words\n",
    "def preprocess(sentence):\n",
    "  doc = nlp(sentence)\n",
    "  words = []\n",
    "  for token in doc:\n",
    "    words.append(token.text.lower())\n",
    "  return words\n",
    "\n",
    "# lines from training txt file\n",
    "lines = [line.strip() for line in open('SemEval2010_task8_training/TRAIN_FILE.TXT')]\n",
    "# lines from testing txt file\n",
    "test_lines = [line.strip() for line in open('SemEval2010_task8_testing_keys/TEST_FILE_FULL.TXT')]\n",
    "\n",
    "# traning + testing lines\n",
    "lines.extend(test_lines)\n",
    "\n",
    "# list of all sentences in the dataset\n",
    "sentences = []\n",
    "\n",
    "for i in range(0, len(lines), 4):\n",
    "\n",
    "  sentence = lines[i].split(\"\\t\")[1]\n",
    "  sentence = sentence[1:-1] # remove double quotes from start and end\n",
    "  sentence = sentence.replace(\"<e1>\", \" E1_START \").replace(\"</e1>\", \" E1_END \")\n",
    "  sentence = sentence.replace(\"<e2>\", \" E2_START \").replace(\"</e2>\", \" E2_END \")\n",
    "  sentence = re.sub(r'\\s+', ' ', sentence) # remove extra spaces\n",
    "\n",
    "  sentences.append(sentence)\n",
    "\n",
    "# initializing empty corpus\n",
    "corpus = []\n",
    "\n",
    "# building the corpus of words\n",
    "for sentence in sentences:\n",
    "  corpus.append(preprocess(sentence))"
   ]
  },
  {
   "cell_type": "code",
   "execution_count": 17,
   "metadata": {
    "colab": {
     "base_uri": "https://localhost:8080/"
    },
    "id": "qBcNeqwoI7VE",
    "outputId": "a109bd71-e443-41d7-9927-9e524236575e"
   },
   "outputs": [
    {
     "name": "stderr",
     "output_type": "stream",
     "text": [
      "WARNING:gensim.models.word2vec:Effective 'alpha' higher than previous training cycles\n"
     ]
    },
    {
     "name": "stdout",
     "output_type": "stream",
     "text": [
      "Finished Training!\n"
     ]
    }
   ],
   "source": [
    "# traning word2vec model on SemEval corpus\n",
    "model = Word2Vec(corpus, vector_size=300, window = 15, min_count = 1, workers = 15)\n",
    "model.train(corpus, total_examples=len(corpus), epochs = 30)\n",
    "print('Finished Training!')\n",
    "\n",
    "# saving word vectors as a kv file\n",
    "wv = model.wv\n",
    "wv.save('SemEval-vectors.kv')"
   ]
  },
  {
   "cell_type": "code",
   "execution_count": 18,
   "metadata": {
    "id": "HjO7PmVwJkgQ"
   },
   "outputs": [],
   "source": [
    "# loading our saved word vectors\n",
    "wv = KeyedVectors.load('SemEval-vectors.kv')"
   ]
  },
  {
   "cell_type": "code",
   "execution_count": 19,
   "metadata": {
    "colab": {
     "base_uri": "https://localhost:8080/"
    },
    "id": "mwlR55XUJtaT",
    "outputId": "1f3dbf0f-1b1e-40a8-dc6e-9cb9a8672a76"
   },
   "outputs": [
    {
     "data": {
      "text/plain": [
       "(300,)"
      ]
     },
     "execution_count": 19,
     "metadata": {},
     "output_type": "execute_result"
    }
   ],
   "source": [
    "# Every word embedding is a 300 dimensional vector\n",
    "wv['system'].shape"
   ]
  },
  {
   "cell_type": "markdown",
   "metadata": {
    "id": "87KcBqFtJ5oE"
   },
   "source": [
    "# Creating train and test dataframes"
   ]
  },
  {
   "cell_type": "code",
   "execution_count": 20,
   "metadata": {
    "id": "_UsQ2mdGKCv2"
   },
   "outputs": [],
   "source": [
    "# we want relations to be numbered classes in our dataframe\n",
    "# hence, we create a mapping between relations and their corresponding ids\n",
    "relation_ids = {\n",
    "    \"Other\": 0,\n",
    "    \"Message-Topic(e1,e2)\": 1,\n",
    "    \"Message-Topic(e2,e1)\": 2,\n",
    "    \"Product-Producer(e1,e2)\": 3,\n",
    "    \"Product-Producer(e2,e1)\": 4,\n",
    "    \"Instrument-Agency(e1,e2)\": 5,\n",
    "    \"Instrument-Agency(e2,e1)\": 6,\n",
    "    \"Entity-Destination(e1,e2)\": 7,\n",
    "    \"Entity-Destination(e2,e1)\": 8,\n",
    "    \"Cause-Effect(e1,e2)\": 9,\n",
    "    \"Cause-Effect(e2,e1)\": 10,\n",
    "    \"Component-Whole(e1,e2)\": 11,\n",
    "    \"Component-Whole(e2,e1)\": 12,\n",
    "    \"Entity-Origin(e1,e2)\": 13,\n",
    "    \"Entity-Origin(e2,e1)\": 14,\n",
    "    \"Member-Collection(e1,e2)\": 15,\n",
    "    \"Member-Collection(e2,e1)\": 16,\n",
    "    \"Content-Container(e1,e2)\": 17,\n",
    "    \"Content-Container(e2,e1)\": 18,\n",
    "}\n",
    "# here, we create a mapping between ids and their corresponding relations\n",
    "ids_to_relations = {id: relation for id, relation in enumerate(relation_ids)}"
   ]
  },
  {
   "cell_type": "code",
   "execution_count": 21,
   "metadata": {
    "id": "m6mKGSG9Kelb"
   },
   "outputs": [],
   "source": [
    "def sentence_vec(sentence):\n",
    "  '''\n",
    "  function that takes a word or a sequence of words as input and outputs the sentence's vector representation\n",
    "  by taking average of all word vectors present in the sentence\n",
    "  '''\n",
    "  words = preprocess(sentence)\n",
    "  sent_vec = np.zeros(300)\n",
    "  num_words = 0\n",
    "  for word in words:\n",
    "    if word in wv:\n",
    "      sent_vec += wv[word]\n",
    "      num_words += 1\n",
    "  sent_vec = sent_vec / num_words\n",
    "  return sent_vec\n",
    "\n",
    "# function that finds e1 and e2 and returns their POS tags\n",
    "def find_e1_e2_pos_tag(row):\n",
    "  '''\n",
    "  Function that finds out the POS tag of e1 and e2.\n",
    "  Returns a tuple containing POS tag IDs of e1 and e2\n",
    "  '''\n",
    "  sentence = row['sentence']\n",
    "  new_text = sentence.replace(\"E1_START\", \"\").replace(\"E1_END\", \"\").replace(\"E2_START\", \"\").replace(\"E2_END\", \"\")\n",
    "  # e1 and e2 can contain more than one word. So for both e1 and e2 we get the first word and find its POS tag.\n",
    "  e1 = row['e1'].split()[0]\n",
    "  e2 = row['e2'].split()[0]\n",
    "  doc = nlp(sentence)\n",
    "  e1_pos, e2_pos = 8, 8\n",
    "  for token in doc:\n",
    "    if token.text == e1:\n",
    "      e1_pos = token.pos\n",
    "    elif token.text == e2:\n",
    "      e2_pos = token.pos\n",
    "  return e1_pos, e2_pos"
   ]
  },
  {
   "cell_type": "code",
   "execution_count": 22,
   "metadata": {
    "id": "D9Bscf3GKVGa"
   },
   "outputs": [],
   "source": [
    "# creating train dataframe after doing some preprocessing of the data\n",
    "lines = [line.strip() for line in open('SemEval2010_task8_training/TRAIN_FILE.TXT')]\n",
    "\n",
    "records = []\n",
    "for i in range(0, len(lines), 4):\n",
    "\n",
    "  sentence_num, sentence = lines[i].split(\"\\t\")[0], lines[i].split(\"\\t\")[1]\n",
    "  sentence = sentence[1:-1]\n",
    "  sentence = sentence.strip()\n",
    "  relation = lines[i+1]\n",
    "\n",
    "  e1_start, e2_start = sentence.index(\"<e1>\"), sentence.index(\"<e2>\")\n",
    "  e1_end, e2_end = sentence.index(\"</e1>\"), sentence.index(\"</e2>\")\n",
    "  e1, e2 = sentence[e1_start + 4: e1_end], sentence[e2_start + 4: e2_end]\n",
    "  sentence = sentence.replace(\"<e1>\", \" E1_START \").replace(\"</e1>\", \" E1_END \")\n",
    "  sentence = sentence.replace(\"<e2>\", \" E2_START \").replace(\"</e2>\", \" E2_END \")\n",
    "  sentence = re.sub(r'\\s+', ' ', sentence) # remove extra spaces\n",
    "\n",
    "  records.append([sentence_num, sentence, relation, e1, e2])\n",
    "\n",
    "df = pd.DataFrame(records, columns=['sentence_num', 'sentence', 'relation', 'e1', 'e2'])\n",
    "\n",
    "# Converting relations to their ids\n",
    "df[\"relation\"] = df[\"relation\"].map(relation_ids)\n",
    "\n",
    "# Generating features\n",
    "df['sentence_vector'] = df['sentence'].apply(sentence_vec)\n",
    "df['e1_vec'] = df['e1'].apply(sentence_vec)\n",
    "df['e2_vec'] = df['e2'].apply(sentence_vec)\n",
    "df['e1_e2_pos_tags'] = df.apply(find_e1_e2_pos_tag, axis=1)"
   ]
  },
  {
   "cell_type": "code",
   "execution_count": 23,
   "metadata": {
    "id": "GNqCewlbLnSM"
   },
   "outputs": [],
   "source": [
    "# creating test dataframe\n",
    "lines = [line.strip() for line in open('SemEval2010_task8_testing_keys/TEST_FILE_FULL.TXT')]\n",
    "\n",
    "records = []\n",
    "for i in range(0, len(lines), 4):\n",
    "\n",
    "  sentence_num, sentence = lines[i].split(\"\\t\")[0], lines[i].split(\"\\t\")[1]\n",
    "  sentence = sentence[1:-1]\n",
    "  sentence = sentence.strip()\n",
    "  relation = lines[i+1]\n",
    "\n",
    "  e1_start, e2_start = sentence.index(\"<e1>\"), sentence.index(\"<e2>\")\n",
    "  e1_end, e2_end = sentence.index(\"</e1>\"), sentence.index(\"</e2>\")\n",
    "  e1, e2 = sentence[e1_start + 4: e1_end], sentence[e2_start + 4: e2_end]\n",
    "  sentence = sentence.replace(\"<e1>\", \" E1_START \").replace(\"</e1>\", \" E1_END \")\n",
    "  sentence = sentence.replace(\"<e2>\", \" E2_START \").replace(\"</e2>\", \" E2_END \")\n",
    "  sentence = re.sub(r'\\s+', ' ', sentence) # remove extra spaces\n",
    "\n",
    "  records.append([sentence_num, sentence, relation, e1, e2])\n",
    "\n",
    "test_df = pd.DataFrame(records, columns=['sentence_num', 'sentence', 'relation', 'e1', 'e2'])\n",
    "\n",
    "# Converting relations to their ids\n",
    "test_df[\"relation\"] = test_df[\"relation\"].map(relation_ids)\n",
    "\n",
    "# Generating features\n",
    "test_df['sentence_vector'] = test_df['sentence'].apply(sentence_vec)\n",
    "test_df['e1_vec'] = test_df['e1'].apply(sentence_vec)\n",
    "test_df['e2_vec'] = test_df['e2'].apply(sentence_vec)\n",
    "test_df['e1_e2_pos_tags'] = test_df.apply(find_e1_e2_pos_tag, axis=1)"
   ]
  },
  {
   "cell_type": "code",
   "execution_count": 24,
   "metadata": {
    "colab": {
     "base_uri": "https://localhost:8080/",
     "height": 293
    },
    "id": "4ORY_5VwL-s-",
    "outputId": "3f04464e-290a-473a-c0cb-d15d35c4fe4c"
   },
   "outputs": [
    {
     "data": {
      "application/vnd.google.colaboratory.intrinsic+json": {
       "summary": "{\n  \"name\": \"df\",\n  \"rows\": 8000,\n  \"fields\": [\n    {\n      \"column\": \"sentence_num\",\n      \"properties\": {\n        \"dtype\": \"string\",\n        \"num_unique_values\": 8000,\n        \"samples\": [\n          \"2216\",\n          \"2583\",\n          \"1663\"\n        ],\n        \"semantic_type\": \"\",\n        \"description\": \"\"\n      }\n    },\n    {\n      \"column\": \"sentence\",\n      \"properties\": {\n        \"dtype\": \"string\",\n        \"num_unique_values\": 8000,\n        \"samples\": [\n          \"The inhabitants send messages to each other by placing the E1_START message E1_END in a E2_START capsule E2_END and placing the capsule in a message tube.\",\n          \"I placed the E1_START cache E1_END in a natural E2_START cavity E2_END , at the base of a part of the fallen arch.\",\n          \"Since then, millions of E1_START dollars E1_END have gone into E2_START reconstructions E2_END for victims of tsunami in 2004.\"\n        ],\n        \"semantic_type\": \"\",\n        \"description\": \"\"\n      }\n    },\n    {\n      \"column\": \"relation\",\n      \"properties\": {\n        \"dtype\": \"number\",\n        \"std\": 5,\n        \"min\": 0,\n        \"max\": 18,\n        \"num_unique_values\": 19,\n        \"samples\": [\n          12,\n          7,\n          9\n        ],\n        \"semantic_type\": \"\",\n        \"description\": \"\"\n      }\n    },\n    {\n      \"column\": \"e1\",\n      \"properties\": {\n        \"dtype\": \"category\",\n        \"num_unique_values\": 3979,\n        \"samples\": [\n          \"camaraderie\",\n          \"sensors\",\n          \"practices\"\n        ],\n        \"semantic_type\": \"\",\n        \"description\": \"\"\n      }\n    },\n    {\n      \"column\": \"e2\",\n      \"properties\": {\n        \"dtype\": \"string\",\n        \"num_unique_values\": 4146,\n        \"samples\": [\n          \"bachelors\",\n          \"pity\",\n          \"pet\"\n        ],\n        \"semantic_type\": \"\",\n        \"description\": \"\"\n      }\n    },\n    {\n      \"column\": \"sentence_vector\",\n      \"properties\": {\n        \"dtype\": \"object\",\n        \"semantic_type\": \"\",\n        \"description\": \"\"\n      }\n    },\n    {\n      \"column\": \"e1_vec\",\n      \"properties\": {\n        \"dtype\": \"object\",\n        \"semantic_type\": \"\",\n        \"description\": \"\"\n      }\n    },\n    {\n      \"column\": \"e2_vec\",\n      \"properties\": {\n        \"dtype\": \"object\",\n        \"semantic_type\": \"\",\n        \"description\": \"\"\n      }\n    },\n    {\n      \"column\": \"e1_e2_pos_tags\",\n      \"properties\": {\n        \"dtype\": \"category\",\n        \"num_unique_values\": 37,\n        \"samples\": [\n          [\n            92,\n            98\n          ],\n          [\n            100,\n            100\n          ],\n          [\n            92,\n            8\n          ]\n        ],\n        \"semantic_type\": \"\",\n        \"description\": \"\"\n      }\n    }\n  ]\n}",
       "type": "dataframe",
       "variable_name": "df"
      },
      "text/html": [
       "\n",
       "  <div id=\"df-f9d77ddb-20f9-44b7-956a-c05f8b6575f2\" class=\"colab-df-container\">\n",
       "    <div>\n",
       "<style scoped>\n",
       "    .dataframe tbody tr th:only-of-type {\n",
       "        vertical-align: middle;\n",
       "    }\n",
       "\n",
       "    .dataframe tbody tr th {\n",
       "        vertical-align: top;\n",
       "    }\n",
       "\n",
       "    .dataframe thead th {\n",
       "        text-align: right;\n",
       "    }\n",
       "</style>\n",
       "<table border=\"1\" class=\"dataframe\">\n",
       "  <thead>\n",
       "    <tr style=\"text-align: right;\">\n",
       "      <th></th>\n",
       "      <th>sentence_num</th>\n",
       "      <th>sentence</th>\n",
       "      <th>relation</th>\n",
       "      <th>e1</th>\n",
       "      <th>e2</th>\n",
       "      <th>sentence_vector</th>\n",
       "      <th>e1_vec</th>\n",
       "      <th>e2_vec</th>\n",
       "      <th>e1_e2_pos_tags</th>\n",
       "    </tr>\n",
       "  </thead>\n",
       "  <tbody>\n",
       "    <tr>\n",
       "      <th>0</th>\n",
       "      <td>1</td>\n",
       "      <td>The system as described above has its greatest...</td>\n",
       "      <td>12</td>\n",
       "      <td>configuration</td>\n",
       "      <td>elements</td>\n",
       "      <td>[-0.3766933086195162, 0.08659234784898304, -0....</td>\n",
       "      <td>[0.1195162981748581, 0.21062128245830536, -0.1...</td>\n",
       "      <td>[0.07734458148479462, 0.3216363489627838, -0.0...</td>\n",
       "      <td>(92, 92)</td>\n",
       "    </tr>\n",
       "    <tr>\n",
       "      <th>1</th>\n",
       "      <td>2</td>\n",
       "      <td>The E1_START child E1_END was carefully wrappe...</td>\n",
       "      <td>0</td>\n",
       "      <td>child</td>\n",
       "      <td>cradle</td>\n",
       "      <td>[-0.17347684884443879, -0.04328583553433418, 0...</td>\n",
       "      <td>[0.4553864002227783, -0.033692795783281326, -0...</td>\n",
       "      <td>[-0.07555805146694183, -0.16798429191112518, -...</td>\n",
       "      <td>(92, 92)</td>\n",
       "    </tr>\n",
       "    <tr>\n",
       "      <th>2</th>\n",
       "      <td>3</td>\n",
       "      <td>The E1_START author E1_END of a keygen uses a ...</td>\n",
       "      <td>6</td>\n",
       "      <td>author</td>\n",
       "      <td>disassembler</td>\n",
       "      <td>[-0.2617930901702493, 0.15584374815225602, 0.2...</td>\n",
       "      <td>[0.6933590173721313, 1.0989211797714233, -0.77...</td>\n",
       "      <td>[-0.03922193497419357, 0.040950413793325424, -...</td>\n",
       "      <td>(92, 92)</td>\n",
       "    </tr>\n",
       "    <tr>\n",
       "      <th>3</th>\n",
       "      <td>4</td>\n",
       "      <td>A misty E1_START ridge E1_END uprises from the...</td>\n",
       "      <td>0</td>\n",
       "      <td>ridge</td>\n",
       "      <td>surge</td>\n",
       "      <td>[-0.21421265873262504, -0.16296835259223977, 0...</td>\n",
       "      <td>[-0.005579344462603331, 0.028894886374473572, ...</td>\n",
       "      <td>[0.03875246271491051, 0.05130231752991676, 0.0...</td>\n",
       "      <td>(92, 92)</td>\n",
       "    </tr>\n",
       "    <tr>\n",
       "      <th>4</th>\n",
       "      <td>5</td>\n",
       "      <td>The E1_START student E1_END E2_START associati...</td>\n",
       "      <td>15</td>\n",
       "      <td>student</td>\n",
       "      <td>association</td>\n",
       "      <td>[-0.3283341966941953, 0.04389150287955999, 0.0...</td>\n",
       "      <td>[0.05456696078181267, 0.605305552482605, -0.95...</td>\n",
       "      <td>[0.00949900597333908, 0.20093294978141785, 0.1...</td>\n",
       "      <td>(92, 96)</td>\n",
       "    </tr>\n",
       "  </tbody>\n",
       "</table>\n",
       "</div>\n",
       "    <div class=\"colab-df-buttons\">\n",
       "\n",
       "  <div class=\"colab-df-container\">\n",
       "    <button class=\"colab-df-convert\" onclick=\"convertToInteractive('df-f9d77ddb-20f9-44b7-956a-c05f8b6575f2')\"\n",
       "            title=\"Convert this dataframe to an interactive table.\"\n",
       "            style=\"display:none;\">\n",
       "\n",
       "  <svg xmlns=\"http://www.w3.org/2000/svg\" height=\"24px\" viewBox=\"0 -960 960 960\">\n",
       "    <path d=\"M120-120v-720h720v720H120Zm60-500h600v-160H180v160Zm220 220h160v-160H400v160Zm0 220h160v-160H400v160ZM180-400h160v-160H180v160Zm440 0h160v-160H620v160ZM180-180h160v-160H180v160Zm440 0h160v-160H620v160Z\"/>\n",
       "  </svg>\n",
       "    </button>\n",
       "\n",
       "  <style>\n",
       "    .colab-df-container {\n",
       "      display:flex;\n",
       "      gap: 12px;\n",
       "    }\n",
       "\n",
       "    .colab-df-convert {\n",
       "      background-color: #E8F0FE;\n",
       "      border: none;\n",
       "      border-radius: 50%;\n",
       "      cursor: pointer;\n",
       "      display: none;\n",
       "      fill: #1967D2;\n",
       "      height: 32px;\n",
       "      padding: 0 0 0 0;\n",
       "      width: 32px;\n",
       "    }\n",
       "\n",
       "    .colab-df-convert:hover {\n",
       "      background-color: #E2EBFA;\n",
       "      box-shadow: 0px 1px 2px rgba(60, 64, 67, 0.3), 0px 1px 3px 1px rgba(60, 64, 67, 0.15);\n",
       "      fill: #174EA6;\n",
       "    }\n",
       "\n",
       "    .colab-df-buttons div {\n",
       "      margin-bottom: 4px;\n",
       "    }\n",
       "\n",
       "    [theme=dark] .colab-df-convert {\n",
       "      background-color: #3B4455;\n",
       "      fill: #D2E3FC;\n",
       "    }\n",
       "\n",
       "    [theme=dark] .colab-df-convert:hover {\n",
       "      background-color: #434B5C;\n",
       "      box-shadow: 0px 1px 3px 1px rgba(0, 0, 0, 0.15);\n",
       "      filter: drop-shadow(0px 1px 2px rgba(0, 0, 0, 0.3));\n",
       "      fill: #FFFFFF;\n",
       "    }\n",
       "  </style>\n",
       "\n",
       "    <script>\n",
       "      const buttonEl =\n",
       "        document.querySelector('#df-f9d77ddb-20f9-44b7-956a-c05f8b6575f2 button.colab-df-convert');\n",
       "      buttonEl.style.display =\n",
       "        google.colab.kernel.accessAllowed ? 'block' : 'none';\n",
       "\n",
       "      async function convertToInteractive(key) {\n",
       "        const element = document.querySelector('#df-f9d77ddb-20f9-44b7-956a-c05f8b6575f2');\n",
       "        const dataTable =\n",
       "          await google.colab.kernel.invokeFunction('convertToInteractive',\n",
       "                                                    [key], {});\n",
       "        if (!dataTable) return;\n",
       "\n",
       "        const docLinkHtml = 'Like what you see? Visit the ' +\n",
       "          '<a target=\"_blank\" href=https://colab.research.google.com/notebooks/data_table.ipynb>data table notebook</a>'\n",
       "          + ' to learn more about interactive tables.';\n",
       "        element.innerHTML = '';\n",
       "        dataTable['output_type'] = 'display_data';\n",
       "        await google.colab.output.renderOutput(dataTable, element);\n",
       "        const docLink = document.createElement('div');\n",
       "        docLink.innerHTML = docLinkHtml;\n",
       "        element.appendChild(docLink);\n",
       "      }\n",
       "    </script>\n",
       "  </div>\n",
       "\n",
       "\n",
       "<div id=\"df-95e47171-b081-4fa9-8026-6af452b04fe5\">\n",
       "  <button class=\"colab-df-quickchart\" onclick=\"quickchart('df-95e47171-b081-4fa9-8026-6af452b04fe5')\"\n",
       "            title=\"Suggest charts\"\n",
       "            style=\"display:none;\">\n",
       "\n",
       "<svg xmlns=\"http://www.w3.org/2000/svg\" height=\"24px\"viewBox=\"0 0 24 24\"\n",
       "     width=\"24px\">\n",
       "    <g>\n",
       "        <path d=\"M19 3H5c-1.1 0-2 .9-2 2v14c0 1.1.9 2 2 2h14c1.1 0 2-.9 2-2V5c0-1.1-.9-2-2-2zM9 17H7v-7h2v7zm4 0h-2V7h2v10zm4 0h-2v-4h2v4z\"/>\n",
       "    </g>\n",
       "</svg>\n",
       "  </button>\n",
       "\n",
       "<style>\n",
       "  .colab-df-quickchart {\n",
       "      --bg-color: #E8F0FE;\n",
       "      --fill-color: #1967D2;\n",
       "      --hover-bg-color: #E2EBFA;\n",
       "      --hover-fill-color: #174EA6;\n",
       "      --disabled-fill-color: #AAA;\n",
       "      --disabled-bg-color: #DDD;\n",
       "  }\n",
       "\n",
       "  [theme=dark] .colab-df-quickchart {\n",
       "      --bg-color: #3B4455;\n",
       "      --fill-color: #D2E3FC;\n",
       "      --hover-bg-color: #434B5C;\n",
       "      --hover-fill-color: #FFFFFF;\n",
       "      --disabled-bg-color: #3B4455;\n",
       "      --disabled-fill-color: #666;\n",
       "  }\n",
       "\n",
       "  .colab-df-quickchart {\n",
       "    background-color: var(--bg-color);\n",
       "    border: none;\n",
       "    border-radius: 50%;\n",
       "    cursor: pointer;\n",
       "    display: none;\n",
       "    fill: var(--fill-color);\n",
       "    height: 32px;\n",
       "    padding: 0;\n",
       "    width: 32px;\n",
       "  }\n",
       "\n",
       "  .colab-df-quickchart:hover {\n",
       "    background-color: var(--hover-bg-color);\n",
       "    box-shadow: 0 1px 2px rgba(60, 64, 67, 0.3), 0 1px 3px 1px rgba(60, 64, 67, 0.15);\n",
       "    fill: var(--button-hover-fill-color);\n",
       "  }\n",
       "\n",
       "  .colab-df-quickchart-complete:disabled,\n",
       "  .colab-df-quickchart-complete:disabled:hover {\n",
       "    background-color: var(--disabled-bg-color);\n",
       "    fill: var(--disabled-fill-color);\n",
       "    box-shadow: none;\n",
       "  }\n",
       "\n",
       "  .colab-df-spinner {\n",
       "    border: 2px solid var(--fill-color);\n",
       "    border-color: transparent;\n",
       "    border-bottom-color: var(--fill-color);\n",
       "    animation:\n",
       "      spin 1s steps(1) infinite;\n",
       "  }\n",
       "\n",
       "  @keyframes spin {\n",
       "    0% {\n",
       "      border-color: transparent;\n",
       "      border-bottom-color: var(--fill-color);\n",
       "      border-left-color: var(--fill-color);\n",
       "    }\n",
       "    20% {\n",
       "      border-color: transparent;\n",
       "      border-left-color: var(--fill-color);\n",
       "      border-top-color: var(--fill-color);\n",
       "    }\n",
       "    30% {\n",
       "      border-color: transparent;\n",
       "      border-left-color: var(--fill-color);\n",
       "      border-top-color: var(--fill-color);\n",
       "      border-right-color: var(--fill-color);\n",
       "    }\n",
       "    40% {\n",
       "      border-color: transparent;\n",
       "      border-right-color: var(--fill-color);\n",
       "      border-top-color: var(--fill-color);\n",
       "    }\n",
       "    60% {\n",
       "      border-color: transparent;\n",
       "      border-right-color: var(--fill-color);\n",
       "    }\n",
       "    80% {\n",
       "      border-color: transparent;\n",
       "      border-right-color: var(--fill-color);\n",
       "      border-bottom-color: var(--fill-color);\n",
       "    }\n",
       "    90% {\n",
       "      border-color: transparent;\n",
       "      border-bottom-color: var(--fill-color);\n",
       "    }\n",
       "  }\n",
       "</style>\n",
       "\n",
       "  <script>\n",
       "    async function quickchart(key) {\n",
       "      const quickchartButtonEl =\n",
       "        document.querySelector('#' + key + ' button');\n",
       "      quickchartButtonEl.disabled = true;  // To prevent multiple clicks.\n",
       "      quickchartButtonEl.classList.add('colab-df-spinner');\n",
       "      try {\n",
       "        const charts = await google.colab.kernel.invokeFunction(\n",
       "            'suggestCharts', [key], {});\n",
       "      } catch (error) {\n",
       "        console.error('Error during call to suggestCharts:', error);\n",
       "      }\n",
       "      quickchartButtonEl.classList.remove('colab-df-spinner');\n",
       "      quickchartButtonEl.classList.add('colab-df-quickchart-complete');\n",
       "    }\n",
       "    (() => {\n",
       "      let quickchartButtonEl =\n",
       "        document.querySelector('#df-95e47171-b081-4fa9-8026-6af452b04fe5 button');\n",
       "      quickchartButtonEl.style.display =\n",
       "        google.colab.kernel.accessAllowed ? 'block' : 'none';\n",
       "    })();\n",
       "  </script>\n",
       "</div>\n",
       "    </div>\n",
       "  </div>\n"
      ],
      "text/plain": [
       "  sentence_num                                           sentence  relation  \\\n",
       "0            1  The system as described above has its greatest...        12   \n",
       "1            2  The E1_START child E1_END was carefully wrappe...         0   \n",
       "2            3  The E1_START author E1_END of a keygen uses a ...         6   \n",
       "3            4  A misty E1_START ridge E1_END uprises from the...         0   \n",
       "4            5  The E1_START student E1_END E2_START associati...        15   \n",
       "\n",
       "              e1            e2  \\\n",
       "0  configuration      elements   \n",
       "1          child        cradle   \n",
       "2         author  disassembler   \n",
       "3          ridge         surge   \n",
       "4        student   association   \n",
       "\n",
       "                                     sentence_vector  \\\n",
       "0  [-0.3766933086195162, 0.08659234784898304, -0....   \n",
       "1  [-0.17347684884443879, -0.04328583553433418, 0...   \n",
       "2  [-0.2617930901702493, 0.15584374815225602, 0.2...   \n",
       "3  [-0.21421265873262504, -0.16296835259223977, 0...   \n",
       "4  [-0.3283341966941953, 0.04389150287955999, 0.0...   \n",
       "\n",
       "                                              e1_vec  \\\n",
       "0  [0.1195162981748581, 0.21062128245830536, -0.1...   \n",
       "1  [0.4553864002227783, -0.033692795783281326, -0...   \n",
       "2  [0.6933590173721313, 1.0989211797714233, -0.77...   \n",
       "3  [-0.005579344462603331, 0.028894886374473572, ...   \n",
       "4  [0.05456696078181267, 0.605305552482605, -0.95...   \n",
       "\n",
       "                                              e2_vec e1_e2_pos_tags  \n",
       "0  [0.07734458148479462, 0.3216363489627838, -0.0...       (92, 92)  \n",
       "1  [-0.07555805146694183, -0.16798429191112518, -...       (92, 92)  \n",
       "2  [-0.03922193497419357, 0.040950413793325424, -...       (92, 92)  \n",
       "3  [0.03875246271491051, 0.05130231752991676, 0.0...       (92, 92)  \n",
       "4  [0.00949900597333908, 0.20093294978141785, 0.1...       (92, 96)  "
      ]
     },
     "execution_count": 24,
     "metadata": {},
     "output_type": "execute_result"
    }
   ],
   "source": [
    "df.head()"
   ]
  },
  {
   "cell_type": "code",
   "execution_count": 25,
   "metadata": {
    "colab": {
     "base_uri": "https://localhost:8080/",
     "height": 293
    },
    "id": "x52Pg-QqMB0h",
    "outputId": "b7156f5b-3c56-45dc-cf4f-ae7b62b7caac"
   },
   "outputs": [
    {
     "data": {
      "application/vnd.google.colaboratory.intrinsic+json": {
       "summary": "{\n  \"name\": \"test_df\",\n  \"rows\": 2717,\n  \"fields\": [\n    {\n      \"column\": \"sentence_num\",\n      \"properties\": {\n        \"dtype\": \"string\",\n        \"num_unique_values\": 2717,\n        \"samples\": [\n          \"10072\",\n          \"8444\",\n          \"9398\"\n        ],\n        \"semantic_type\": \"\",\n        \"description\": \"\"\n      }\n    },\n    {\n      \"column\": \"sentence\",\n      \"properties\": {\n        \"dtype\": \"string\",\n        \"num_unique_values\": 2717,\n        \"samples\": [\n          \"The E1_START letter E1_END contains instructions for completion, and encloses a blank E2_START copy E2_END of the Assurance of Compliance.\",\n          \"The outlet has the single L-shaped prong for the dryer, but the E1_START oven E1_END has the standard 3-prong flat E2_START plug E2_END .\",\n          \"Pressure E1_START regulation E1_END using the E2_START valve E2_END and different amounts of fluid goes a long way in keeping your hydraulic log splitter in action.\"\n        ],\n        \"semantic_type\": \"\",\n        \"description\": \"\"\n      }\n    },\n    {\n      \"column\": \"relation\",\n      \"properties\": {\n        \"dtype\": \"number\",\n        \"std\": 5,\n        \"min\": 0,\n        \"max\": 18,\n        \"num_unique_values\": 19,\n        \"samples\": [\n          1,\n          11,\n          14\n        ],\n        \"semantic_type\": \"\",\n        \"description\": \"\"\n      }\n    },\n    {\n      \"column\": \"e1\",\n      \"properties\": {\n        \"dtype\": \"string\",\n        \"num_unique_values\": 1829,\n        \"samples\": [\n          \"horse\",\n          \"supreme court\",\n          \"woofers\"\n        ],\n        \"semantic_type\": \"\",\n        \"description\": \"\"\n      }\n    },\n    {\n      \"column\": \"e2\",\n      \"properties\": {\n        \"dtype\": \"string\",\n        \"num_unique_values\": 1905,\n        \"samples\": [\n          \"monsters\",\n          \"smell\",\n          \"behaviour\"\n        ],\n        \"semantic_type\": \"\",\n        \"description\": \"\"\n      }\n    },\n    {\n      \"column\": \"sentence_vector\",\n      \"properties\": {\n        \"dtype\": \"object\",\n        \"semantic_type\": \"\",\n        \"description\": \"\"\n      }\n    },\n    {\n      \"column\": \"e1_vec\",\n      \"properties\": {\n        \"dtype\": \"object\",\n        \"semantic_type\": \"\",\n        \"description\": \"\"\n      }\n    },\n    {\n      \"column\": \"e2_vec\",\n      \"properties\": {\n        \"dtype\": \"object\",\n        \"semantic_type\": \"\",\n        \"description\": \"\"\n      }\n    },\n    {\n      \"column\": \"e1_e2_pos_tags\",\n      \"properties\": {\n        \"dtype\": \"category\",\n        \"num_unique_values\": 31,\n        \"samples\": [\n          [\n            8,\n            100\n          ],\n          [\n            100,\n            100\n          ],\n          [\n            84,\n            96\n          ]\n        ],\n        \"semantic_type\": \"\",\n        \"description\": \"\"\n      }\n    }\n  ]\n}",
       "type": "dataframe",
       "variable_name": "test_df"
      },
      "text/html": [
       "\n",
       "  <div id=\"df-cbed2a6e-653b-4627-be6d-99c8fc59afe8\" class=\"colab-df-container\">\n",
       "    <div>\n",
       "<style scoped>\n",
       "    .dataframe tbody tr th:only-of-type {\n",
       "        vertical-align: middle;\n",
       "    }\n",
       "\n",
       "    .dataframe tbody tr th {\n",
       "        vertical-align: top;\n",
       "    }\n",
       "\n",
       "    .dataframe thead th {\n",
       "        text-align: right;\n",
       "    }\n",
       "</style>\n",
       "<table border=\"1\" class=\"dataframe\">\n",
       "  <thead>\n",
       "    <tr style=\"text-align: right;\">\n",
       "      <th></th>\n",
       "      <th>sentence_num</th>\n",
       "      <th>sentence</th>\n",
       "      <th>relation</th>\n",
       "      <th>e1</th>\n",
       "      <th>e2</th>\n",
       "      <th>sentence_vector</th>\n",
       "      <th>e1_vec</th>\n",
       "      <th>e2_vec</th>\n",
       "      <th>e1_e2_pos_tags</th>\n",
       "    </tr>\n",
       "  </thead>\n",
       "  <tbody>\n",
       "    <tr>\n",
       "      <th>0</th>\n",
       "      <td>8001</td>\n",
       "      <td>The most common E1_START audits E1_END were ab...</td>\n",
       "      <td>1</td>\n",
       "      <td>audits</td>\n",
       "      <td>waste</td>\n",
       "      <td>[0.11538687820679375, 0.15861934957034204, 0.0...</td>\n",
       "      <td>[0.014768221415579319, 8.024667477002367e-05, ...</td>\n",
       "      <td>[-0.008939936757087708, -0.45314228534698486, ...</td>\n",
       "      <td>(92, 92)</td>\n",
       "    </tr>\n",
       "    <tr>\n",
       "      <th>1</th>\n",
       "      <td>8002</td>\n",
       "      <td>The E1_START company E1_END fabricates plastic...</td>\n",
       "      <td>4</td>\n",
       "      <td>company</td>\n",
       "      <td>chairs</td>\n",
       "      <td>[-0.2854708606377244, 0.060467340797185895, 0....</td>\n",
       "      <td>[0.30123239755630493, 0.6172452569007874, -0.7...</td>\n",
       "      <td>[-0.04444650188088417, -0.05285509303212166, 0...</td>\n",
       "      <td>(92, 92)</td>\n",
       "    </tr>\n",
       "    <tr>\n",
       "      <th>2</th>\n",
       "      <td>8003</td>\n",
       "      <td>The school E1_START master E1_END teaches the ...</td>\n",
       "      <td>6</td>\n",
       "      <td>master</td>\n",
       "      <td>stick</td>\n",
       "      <td>[-0.25524735038301777, 0.07126109949604142, 0....</td>\n",
       "      <td>[-0.06634196639060974, 0.13752180337905884, -0...</td>\n",
       "      <td>[0.08100049197673798, -0.2764813005924225, 0.0...</td>\n",
       "      <td>(92, 92)</td>\n",
       "    </tr>\n",
       "    <tr>\n",
       "      <th>3</th>\n",
       "      <td>8004</td>\n",
       "      <td>The suspect dumped the dead E1_START body E1_E...</td>\n",
       "      <td>7</td>\n",
       "      <td>body</td>\n",
       "      <td>reservoir</td>\n",
       "      <td>[-0.19770617975542942, -0.32034935330351194, 0...</td>\n",
       "      <td>[0.2767714858055115, -0.9650935530662537, 0.19...</td>\n",
       "      <td>[-0.09666845947504044, -0.0860244631767273, 0....</td>\n",
       "      <td>(92, 96)</td>\n",
       "    </tr>\n",
       "    <tr>\n",
       "      <th>4</th>\n",
       "      <td>8005</td>\n",
       "      <td>Avian E1_START influenza E1_END is an infectio...</td>\n",
       "      <td>10</td>\n",
       "      <td>influenza</td>\n",
       "      <td>virus</td>\n",
       "      <td>[-0.18694225588644092, 0.22767734781584956, 0....</td>\n",
       "      <td>[0.07473770529031754, 0.33993154764175415, -0....</td>\n",
       "      <td>[0.6823881268501282, 0.9319864511489868, 0.002...</td>\n",
       "      <td>(92, 92)</td>\n",
       "    </tr>\n",
       "  </tbody>\n",
       "</table>\n",
       "</div>\n",
       "    <div class=\"colab-df-buttons\">\n",
       "\n",
       "  <div class=\"colab-df-container\">\n",
       "    <button class=\"colab-df-convert\" onclick=\"convertToInteractive('df-cbed2a6e-653b-4627-be6d-99c8fc59afe8')\"\n",
       "            title=\"Convert this dataframe to an interactive table.\"\n",
       "            style=\"display:none;\">\n",
       "\n",
       "  <svg xmlns=\"http://www.w3.org/2000/svg\" height=\"24px\" viewBox=\"0 -960 960 960\">\n",
       "    <path d=\"M120-120v-720h720v720H120Zm60-500h600v-160H180v160Zm220 220h160v-160H400v160Zm0 220h160v-160H400v160ZM180-400h160v-160H180v160Zm440 0h160v-160H620v160ZM180-180h160v-160H180v160Zm440 0h160v-160H620v160Z\"/>\n",
       "  </svg>\n",
       "    </button>\n",
       "\n",
       "  <style>\n",
       "    .colab-df-container {\n",
       "      display:flex;\n",
       "      gap: 12px;\n",
       "    }\n",
       "\n",
       "    .colab-df-convert {\n",
       "      background-color: #E8F0FE;\n",
       "      border: none;\n",
       "      border-radius: 50%;\n",
       "      cursor: pointer;\n",
       "      display: none;\n",
       "      fill: #1967D2;\n",
       "      height: 32px;\n",
       "      padding: 0 0 0 0;\n",
       "      width: 32px;\n",
       "    }\n",
       "\n",
       "    .colab-df-convert:hover {\n",
       "      background-color: #E2EBFA;\n",
       "      box-shadow: 0px 1px 2px rgba(60, 64, 67, 0.3), 0px 1px 3px 1px rgba(60, 64, 67, 0.15);\n",
       "      fill: #174EA6;\n",
       "    }\n",
       "\n",
       "    .colab-df-buttons div {\n",
       "      margin-bottom: 4px;\n",
       "    }\n",
       "\n",
       "    [theme=dark] .colab-df-convert {\n",
       "      background-color: #3B4455;\n",
       "      fill: #D2E3FC;\n",
       "    }\n",
       "\n",
       "    [theme=dark] .colab-df-convert:hover {\n",
       "      background-color: #434B5C;\n",
       "      box-shadow: 0px 1px 3px 1px rgba(0, 0, 0, 0.15);\n",
       "      filter: drop-shadow(0px 1px 2px rgba(0, 0, 0, 0.3));\n",
       "      fill: #FFFFFF;\n",
       "    }\n",
       "  </style>\n",
       "\n",
       "    <script>\n",
       "      const buttonEl =\n",
       "        document.querySelector('#df-cbed2a6e-653b-4627-be6d-99c8fc59afe8 button.colab-df-convert');\n",
       "      buttonEl.style.display =\n",
       "        google.colab.kernel.accessAllowed ? 'block' : 'none';\n",
       "\n",
       "      async function convertToInteractive(key) {\n",
       "        const element = document.querySelector('#df-cbed2a6e-653b-4627-be6d-99c8fc59afe8');\n",
       "        const dataTable =\n",
       "          await google.colab.kernel.invokeFunction('convertToInteractive',\n",
       "                                                    [key], {});\n",
       "        if (!dataTable) return;\n",
       "\n",
       "        const docLinkHtml = 'Like what you see? Visit the ' +\n",
       "          '<a target=\"_blank\" href=https://colab.research.google.com/notebooks/data_table.ipynb>data table notebook</a>'\n",
       "          + ' to learn more about interactive tables.';\n",
       "        element.innerHTML = '';\n",
       "        dataTable['output_type'] = 'display_data';\n",
       "        await google.colab.output.renderOutput(dataTable, element);\n",
       "        const docLink = document.createElement('div');\n",
       "        docLink.innerHTML = docLinkHtml;\n",
       "        element.appendChild(docLink);\n",
       "      }\n",
       "    </script>\n",
       "  </div>\n",
       "\n",
       "\n",
       "<div id=\"df-a9e274f9-faba-49d5-8a8c-5b1c26eee67f\">\n",
       "  <button class=\"colab-df-quickchart\" onclick=\"quickchart('df-a9e274f9-faba-49d5-8a8c-5b1c26eee67f')\"\n",
       "            title=\"Suggest charts\"\n",
       "            style=\"display:none;\">\n",
       "\n",
       "<svg xmlns=\"http://www.w3.org/2000/svg\" height=\"24px\"viewBox=\"0 0 24 24\"\n",
       "     width=\"24px\">\n",
       "    <g>\n",
       "        <path d=\"M19 3H5c-1.1 0-2 .9-2 2v14c0 1.1.9 2 2 2h14c1.1 0 2-.9 2-2V5c0-1.1-.9-2-2-2zM9 17H7v-7h2v7zm4 0h-2V7h2v10zm4 0h-2v-4h2v4z\"/>\n",
       "    </g>\n",
       "</svg>\n",
       "  </button>\n",
       "\n",
       "<style>\n",
       "  .colab-df-quickchart {\n",
       "      --bg-color: #E8F0FE;\n",
       "      --fill-color: #1967D2;\n",
       "      --hover-bg-color: #E2EBFA;\n",
       "      --hover-fill-color: #174EA6;\n",
       "      --disabled-fill-color: #AAA;\n",
       "      --disabled-bg-color: #DDD;\n",
       "  }\n",
       "\n",
       "  [theme=dark] .colab-df-quickchart {\n",
       "      --bg-color: #3B4455;\n",
       "      --fill-color: #D2E3FC;\n",
       "      --hover-bg-color: #434B5C;\n",
       "      --hover-fill-color: #FFFFFF;\n",
       "      --disabled-bg-color: #3B4455;\n",
       "      --disabled-fill-color: #666;\n",
       "  }\n",
       "\n",
       "  .colab-df-quickchart {\n",
       "    background-color: var(--bg-color);\n",
       "    border: none;\n",
       "    border-radius: 50%;\n",
       "    cursor: pointer;\n",
       "    display: none;\n",
       "    fill: var(--fill-color);\n",
       "    height: 32px;\n",
       "    padding: 0;\n",
       "    width: 32px;\n",
       "  }\n",
       "\n",
       "  .colab-df-quickchart:hover {\n",
       "    background-color: var(--hover-bg-color);\n",
       "    box-shadow: 0 1px 2px rgba(60, 64, 67, 0.3), 0 1px 3px 1px rgba(60, 64, 67, 0.15);\n",
       "    fill: var(--button-hover-fill-color);\n",
       "  }\n",
       "\n",
       "  .colab-df-quickchart-complete:disabled,\n",
       "  .colab-df-quickchart-complete:disabled:hover {\n",
       "    background-color: var(--disabled-bg-color);\n",
       "    fill: var(--disabled-fill-color);\n",
       "    box-shadow: none;\n",
       "  }\n",
       "\n",
       "  .colab-df-spinner {\n",
       "    border: 2px solid var(--fill-color);\n",
       "    border-color: transparent;\n",
       "    border-bottom-color: var(--fill-color);\n",
       "    animation:\n",
       "      spin 1s steps(1) infinite;\n",
       "  }\n",
       "\n",
       "  @keyframes spin {\n",
       "    0% {\n",
       "      border-color: transparent;\n",
       "      border-bottom-color: var(--fill-color);\n",
       "      border-left-color: var(--fill-color);\n",
       "    }\n",
       "    20% {\n",
       "      border-color: transparent;\n",
       "      border-left-color: var(--fill-color);\n",
       "      border-top-color: var(--fill-color);\n",
       "    }\n",
       "    30% {\n",
       "      border-color: transparent;\n",
       "      border-left-color: var(--fill-color);\n",
       "      border-top-color: var(--fill-color);\n",
       "      border-right-color: var(--fill-color);\n",
       "    }\n",
       "    40% {\n",
       "      border-color: transparent;\n",
       "      border-right-color: var(--fill-color);\n",
       "      border-top-color: var(--fill-color);\n",
       "    }\n",
       "    60% {\n",
       "      border-color: transparent;\n",
       "      border-right-color: var(--fill-color);\n",
       "    }\n",
       "    80% {\n",
       "      border-color: transparent;\n",
       "      border-right-color: var(--fill-color);\n",
       "      border-bottom-color: var(--fill-color);\n",
       "    }\n",
       "    90% {\n",
       "      border-color: transparent;\n",
       "      border-bottom-color: var(--fill-color);\n",
       "    }\n",
       "  }\n",
       "</style>\n",
       "\n",
       "  <script>\n",
       "    async function quickchart(key) {\n",
       "      const quickchartButtonEl =\n",
       "        document.querySelector('#' + key + ' button');\n",
       "      quickchartButtonEl.disabled = true;  // To prevent multiple clicks.\n",
       "      quickchartButtonEl.classList.add('colab-df-spinner');\n",
       "      try {\n",
       "        const charts = await google.colab.kernel.invokeFunction(\n",
       "            'suggestCharts', [key], {});\n",
       "      } catch (error) {\n",
       "        console.error('Error during call to suggestCharts:', error);\n",
       "      }\n",
       "      quickchartButtonEl.classList.remove('colab-df-spinner');\n",
       "      quickchartButtonEl.classList.add('colab-df-quickchart-complete');\n",
       "    }\n",
       "    (() => {\n",
       "      let quickchartButtonEl =\n",
       "        document.querySelector('#df-a9e274f9-faba-49d5-8a8c-5b1c26eee67f button');\n",
       "      quickchartButtonEl.style.display =\n",
       "        google.colab.kernel.accessAllowed ? 'block' : 'none';\n",
       "    })();\n",
       "  </script>\n",
       "</div>\n",
       "    </div>\n",
       "  </div>\n"
      ],
      "text/plain": [
       "  sentence_num                                           sentence  relation  \\\n",
       "0         8001  The most common E1_START audits E1_END were ab...         1   \n",
       "1         8002  The E1_START company E1_END fabricates plastic...         4   \n",
       "2         8003  The school E1_START master E1_END teaches the ...         6   \n",
       "3         8004  The suspect dumped the dead E1_START body E1_E...         7   \n",
       "4         8005  Avian E1_START influenza E1_END is an infectio...        10   \n",
       "\n",
       "          e1         e2                                    sentence_vector  \\\n",
       "0     audits      waste  [0.11538687820679375, 0.15861934957034204, 0.0...   \n",
       "1    company     chairs  [-0.2854708606377244, 0.060467340797185895, 0....   \n",
       "2     master      stick  [-0.25524735038301777, 0.07126109949604142, 0....   \n",
       "3       body  reservoir  [-0.19770617975542942, -0.32034935330351194, 0...   \n",
       "4  influenza      virus  [-0.18694225588644092, 0.22767734781584956, 0....   \n",
       "\n",
       "                                              e1_vec  \\\n",
       "0  [0.014768221415579319, 8.024667477002367e-05, ...   \n",
       "1  [0.30123239755630493, 0.6172452569007874, -0.7...   \n",
       "2  [-0.06634196639060974, 0.13752180337905884, -0...   \n",
       "3  [0.2767714858055115, -0.9650935530662537, 0.19...   \n",
       "4  [0.07473770529031754, 0.33993154764175415, -0....   \n",
       "\n",
       "                                              e2_vec e1_e2_pos_tags  \n",
       "0  [-0.008939936757087708, -0.45314228534698486, ...       (92, 92)  \n",
       "1  [-0.04444650188088417, -0.05285509303212166, 0...       (92, 92)  \n",
       "2  [0.08100049197673798, -0.2764813005924225, 0.0...       (92, 92)  \n",
       "3  [-0.09666845947504044, -0.0860244631767273, 0....       (92, 96)  \n",
       "4  [0.6823881268501282, 0.9319864511489868, 0.002...       (92, 92)  "
      ]
     },
     "execution_count": 25,
     "metadata": {},
     "output_type": "execute_result"
    }
   ],
   "source": [
    "test_df.head()"
   ]
  },
  {
   "cell_type": "code",
   "execution_count": 26,
   "metadata": {
    "id": "KM7gQPLsL2Tv"
   },
   "outputs": [],
   "source": [
    "# saving our dataframes so we can use it later if in case we need it\n",
    "df.to_csv('train.csv', index=False)\n",
    "test_df.to_csv('test.csv', index=False)"
   ]
  },
  {
   "cell_type": "code",
   "execution_count": 27,
   "metadata": {
    "colab": {
     "base_uri": "https://localhost:8080/"
    },
    "id": "vGC-Z5iKAuML",
    "outputId": "884b5b0f-c7d9-4756-9dcc-e5180e642965"
   },
   "outputs": [
    {
     "data": {
      "text/plain": [
       "0     1410\n",
       "7      844\n",
       "10     659\n",
       "16     612\n",
       "13     568\n",
       "1      490\n",
       "12     471\n",
       "11     470\n",
       "6      407\n",
       "4      394\n",
       "17     374\n",
       "9      344\n",
       "3      323\n",
       "18     166\n",
       "14     148\n",
       "2      144\n",
       "5       97\n",
       "15      78\n",
       "8        1\n",
       "Name: relation, dtype: int64"
      ]
     },
     "execution_count": 27,
     "metadata": {},
     "output_type": "execute_result"
    }
   ],
   "source": [
    "df['relation'].value_counts()"
   ]
  },
  {
   "cell_type": "code",
   "execution_count": 28,
   "metadata": {
    "colab": {
     "base_uri": "https://localhost:8080/",
     "height": 573
    },
    "id": "6hJdd_A0_yqF",
    "outputId": "f3eccb6a-2b7b-4a96-c002-dddb53e0f740"
   },
   "outputs": [
    {
     "data": {
      "image/png": "[encoded data removed]",
      "text/plain": [
       "<Figure size 1000x600 with 1 Axes>"
      ]
     },
     "metadata": {},
     "output_type": "display_data"
    }
   ],
   "source": [
    "# Count the number of instances of each class\n",
    "class_counts = df['relation'].value_counts()\n",
    "\n",
    "# Plot the counts using a bar plot\n",
    "plt.figure(figsize=(10, 6))\n",
    "class_counts.plot(kind='bar', color='skyblue')\n",
    "plt.xlabel('Class')\n",
    "plt.ylabel('Count')\n",
    "plt.title('Number of Instances per class in training data')\n",
    "plt.xticks(rotation=45)\n",
    "plt.grid(axis='y', linestyle='--', alpha=0.7)\n",
    "plt.show()"
   ]
  },
  {
   "cell_type": "code",
   "execution_count": 29,
   "metadata": {
    "colab": {
     "base_uri": "https://localhost:8080/"
    },
    "id": "lEjDy83_B48l",
    "outputId": "870500ed-3497-490d-c3a0-c3d6b09b2d4e"
   },
   "outputs": [
    {
     "data": {
      "text/plain": [
       "0     454\n",
       "7     291\n",
       "13    211\n",
       "1     210\n",
       "16    201\n",
       "10    194\n",
       "11    162\n",
       "17    153\n",
       "12    150\n",
       "6     134\n",
       "9     134\n",
       "4     123\n",
       "3     108\n",
       "2      51\n",
       "14     47\n",
       "18     39\n",
       "15     32\n",
       "5      22\n",
       "8       1\n",
       "Name: relation, dtype: int64"
      ]
     },
     "execution_count": 29,
     "metadata": {},
     "output_type": "execute_result"
    }
   ],
   "source": [
    "test_df['relation'].value_counts()"
   ]
  },
  {
   "cell_type": "code",
   "execution_count": 30,
   "metadata": {
    "colab": {
     "base_uri": "https://localhost:8080/",
     "height": 573
    },
    "id": "SxBb_EIQAhKq",
    "outputId": "ba0315d0-6cda-412a-dbad-06d23939c2dc"
   },
   "outputs": [
    {
     "data": {
      "image/png": "[encoded data removed]",
      "text/plain": [
       "<Figure size 1000x600 with 1 Axes>"
      ]
     },
     "metadata": {},
     "output_type": "display_data"
    }
   ],
   "source": [
    "# Count the number of instances of each class\n",
    "class_counts = test_df['relation'].value_counts()\n",
    "\n",
    "# Plot the counts using a bar plot\n",
    "plt.figure(figsize=(10, 6))\n",
    "class_counts.plot(kind='bar', color='skyblue')\n",
    "plt.xlabel('Class')\n",
    "plt.ylabel('Count')\n",
    "plt.title('Number of Instances per class in testing data')\n",
    "plt.xticks(rotation=45)\n",
    "plt.grid(axis='y', linestyle='--', alpha=0.7)\n",
    "plt.show()"
   ]
  },
  {
   "cell_type": "markdown",
   "metadata": {
    "id": "wr-XdV7oB-_1"
   },
   "source": [
    "We can see from the above bar graphs that we have a problem of class imbalanace. For class 8(Entity-Destination(e2,e1)) we only have 1 instance both in the train and test set."
   ]
  },
  {
   "cell_type": "markdown",
   "metadata": {
    "id": "CZyenMjE4LBh"
   },
   "source": [
    "## Creating a TF-IDF Vectorizer and limiting the number of features (words) from the dataset to 200"
   ]
  },
  {
   "cell_type": "code",
   "execution_count": 31,
   "metadata": {
    "id": "FPiqrHZ4r5-F"
   },
   "outputs": [],
   "source": [
    "from sklearn.feature_extraction.text import TfidfVectorizer\n",
    "tfidf_vectorizer = TfidfVectorizer(max_features=200) # this optimal value for max_features parameter was found using multiple experiments.\n",
    "tfidf_vectorizer.fit(sentences)\n",
    "# transforming into tf-idf features that can be used for training and testing\n",
    "tfidf_features = tfidf_vectorizer.transform(df['sentence'].to_list()).toarray()\n",
    "tfidf_features_test = tfidf_vectorizer.transform(test_df['sentence'].to_list()).toarray()"
   ]
  },
  {
   "cell_type": "markdown",
   "metadata": {
    "id": "u4efMYu6MLIA"
   },
   "source": [
    "# Defining X_train, y_train, X_test, y_test"
   ]
  },
  {
   "cell_type": "code",
   "execution_count": 32,
   "metadata": {
    "id": "83p5QzpAMDOe"
   },
   "outputs": [],
   "source": [
    "X_train = [np.concatenate((row['sentence_vector'], row['e1_vec'], row['e2_vec'], row[\"e1_e2_pos_tags\"], tfidf_features[idx])) for idx, row in df.iterrows()]\n",
    "y_train = df['relation'].to_list()\n",
    "X_test = [np.concatenate((row['sentence_vector'], row['e1_vec'], row['e2_vec'], row['e1_e2_pos_tags'], tfidf_features_test[idx])) for idx, row in test_df.iterrows()]\n",
    "y_test = test_df['relation'].to_list()"
   ]
  },
  {
   "cell_type": "code",
   "execution_count": 33,
   "metadata": {
    "colab": {
     "base_uri": "https://localhost:8080/"
    },
    "id": "z6erL_3JMtUH",
    "outputId": "d1e0cf90-6034-4358-f688-0823da93a838"
   },
   "outputs": [
    {
     "name": "stdout",
     "output_type": "stream",
     "text": [
      "len(X_train):  8000\n",
      "len(X_test):  2717\n",
      "X_train[0] shape:  (1102,)\n",
      "X_test[0] shape:  (1102,)\n"
     ]
    }
   ],
   "source": [
    "print(\"len(X_train): \", len(X_train))\n",
    "print(\"len(X_test): \", len(X_test))\n",
    "print(\"X_train[0] shape: \", X_train[0].shape)\n",
    "print(\"X_test[0] shape: \", X_test[0].shape)"
   ]
  },
  {
   "cell_type": "markdown",
   "metadata": {
    "id": "1O4r7di0FryM"
   },
   "source": [
    "# Using Grid Search to find optimal values for hyperparameters"
   ]
  },
  {
   "cell_type": "code",
   "execution_count": 34,
   "metadata": {
    "colab": {
     "base_uri": "https://localhost:8080/"
    },
    "id": "iidvPU4aKvPY",
    "outputId": "9a3de2d1-00ca-4ce7-91f5-b988c9db0a0a"
   },
   "outputs": [
    {
     "name": "stderr",
     "output_type": "stream",
     "text": [
      "/usr/local/lib/python3.10/dist-packages/sklearn/metrics/_classification.py:1344: UndefinedMetricWarning: Precision is ill-defined and being set to 0.0 in labels with no predicted samples. Use `zero_division` parameter to control this behavior.\n",
      "  _warn_prf(average, modifier, msg_start, len(result))\n"
     ]
    },
    {
     "name": "stdout",
     "output_type": "stream",
     "text": [
      "Model with C= 50  gamma= 0.1\n",
      "Accuracy: 0.30879646669120353\n",
      "F1 Score: 0.2967292157306689\n",
      "Precision: 0.6360359672598458\n",
      "Recall: 0.30879646669120353\n"
     ]
    },
    {
     "name": "stderr",
     "output_type": "stream",
     "text": [
      "/usr/local/lib/python3.10/dist-packages/sklearn/metrics/_classification.py:1344: UndefinedMetricWarning: Precision is ill-defined and being set to 0.0 in labels with no predicted samples. Use `zero_division` parameter to control this behavior.\n",
      "  _warn_prf(average, modifier, msg_start, len(result))\n"
     ]
    },
    {
     "name": "stdout",
     "output_type": "stream",
     "text": [
      "Model with C= 50  gamma= 0.01\n",
      "Accuracy: 0.582995951417004\n",
      "F1 Score: 0.5875800105576955\n",
      "Precision: 0.6037084339558516\n",
      "Recall: 0.582995951417004\n"
     ]
    },
    {
     "name": "stderr",
     "output_type": "stream",
     "text": [
      "/usr/local/lib/python3.10/dist-packages/sklearn/metrics/_classification.py:1344: UndefinedMetricWarning: Precision is ill-defined and being set to 0.0 in labels with no predicted samples. Use `zero_division` parameter to control this behavior.\n",
      "  _warn_prf(average, modifier, msg_start, len(result))\n"
     ]
    },
    {
     "name": "stdout",
     "output_type": "stream",
     "text": [
      "Model with C= 50  gamma= 0.001\n",
      "Accuracy: 0.590725064409275\n",
      "F1 Score: 0.5909172505282976\n",
      "Precision: 0.6092465538013954\n",
      "Recall: 0.590725064409275\n"
     ]
    },
    {
     "name": "stderr",
     "output_type": "stream",
     "text": [
      "/usr/local/lib/python3.10/dist-packages/sklearn/metrics/_classification.py:1344: UndefinedMetricWarning: Precision is ill-defined and being set to 0.0 in labels with no predicted samples. Use `zero_division` parameter to control this behavior.\n",
      "  _warn_prf(average, modifier, msg_start, len(result))\n"
     ]
    },
    {
     "name": "stdout",
     "output_type": "stream",
     "text": [
      "Model with C= 50  gamma= 0.0001\n",
      "Accuracy: 0.5380934854619065\n",
      "F1 Score: 0.5373999661277468\n",
      "Precision: 0.5918977985087809\n",
      "Recall: 0.5380934854619065\n"
     ]
    },
    {
     "name": "stderr",
     "output_type": "stream",
     "text": [
      "/usr/local/lib/python3.10/dist-packages/sklearn/metrics/_classification.py:1344: UndefinedMetricWarning: Precision is ill-defined and being set to 0.0 in labels with no predicted samples. Use `zero_division` parameter to control this behavior.\n",
      "  _warn_prf(average, modifier, msg_start, len(result))\n"
     ]
    },
    {
     "name": "stdout",
     "output_type": "stream",
     "text": [
      "Model with C= 100  gamma= 0.1\n",
      "Accuracy: 0.30879646669120353\n",
      "F1 Score: 0.2967292157306689\n",
      "Precision: 0.6360359672598458\n",
      "Recall: 0.30879646669120353\n"
     ]
    },
    {
     "name": "stderr",
     "output_type": "stream",
     "text": [
      "/usr/local/lib/python3.10/dist-packages/sklearn/metrics/_classification.py:1344: UndefinedMetricWarning: Precision is ill-defined and being set to 0.0 in labels with no predicted samples. Use `zero_division` parameter to control this behavior.\n",
      "  _warn_prf(average, modifier, msg_start, len(result))\n"
     ]
    },
    {
     "name": "stdout",
     "output_type": "stream",
     "text": [
      "Model with C= 100  gamma= 0.01\n",
      "Accuracy: 0.582995951417004\n",
      "F1 Score: 0.5875892326083798\n",
      "Precision: 0.6036284809156355\n",
      "Recall: 0.582995951417004\n"
     ]
    },
    {
     "name": "stderr",
     "output_type": "stream",
     "text": [
      "/usr/local/lib/python3.10/dist-packages/sklearn/metrics/_classification.py:1344: UndefinedMetricWarning: Precision is ill-defined and being set to 0.0 in labels with no predicted samples. Use `zero_division` parameter to control this behavior.\n",
      "  _warn_prf(average, modifier, msg_start, len(result))\n"
     ]
    },
    {
     "name": "stdout",
     "output_type": "stream",
     "text": [
      "Model with C= 100  gamma= 0.001\n",
      "Accuracy: 0.5925653294074347\n",
      "F1 Score: 0.5942071427766886\n",
      "Precision: 0.6100777091198948\n",
      "Recall: 0.5925653294074347\n"
     ]
    },
    {
     "name": "stderr",
     "output_type": "stream",
     "text": [
      "/usr/local/lib/python3.10/dist-packages/sklearn/metrics/_classification.py:1344: UndefinedMetricWarning: Precision is ill-defined and being set to 0.0 in labels with no predicted samples. Use `zero_division` parameter to control this behavior.\n",
      "  _warn_prf(average, modifier, msg_start, len(result))\n"
     ]
    },
    {
     "name": "stdout",
     "output_type": "stream",
     "text": [
      "Model with C= 100  gamma= 0.0001\n",
      "Accuracy: 0.5616488774383511\n",
      "F1 Score: 0.5598204455319581\n",
      "Precision: 0.5928377567233026\n",
      "Recall: 0.5616488774383511\n"
     ]
    },
    {
     "name": "stderr",
     "output_type": "stream",
     "text": [
      "/usr/local/lib/python3.10/dist-packages/sklearn/metrics/_classification.py:1344: UndefinedMetricWarning: Precision is ill-defined and being set to 0.0 in labels with no predicted samples. Use `zero_division` parameter to control this behavior.\n",
      "  _warn_prf(average, modifier, msg_start, len(result))\n"
     ]
    },
    {
     "name": "stdout",
     "output_type": "stream",
     "text": [
      "Model with C= 150  gamma= 0.1\n",
      "Accuracy: 0.30879646669120353\n",
      "F1 Score: 0.2967292157306689\n",
      "Precision: 0.6360359672598458\n",
      "Recall: 0.30879646669120353\n"
     ]
    },
    {
     "name": "stderr",
     "output_type": "stream",
     "text": [
      "/usr/local/lib/python3.10/dist-packages/sklearn/metrics/_classification.py:1344: UndefinedMetricWarning: Precision is ill-defined and being set to 0.0 in labels with no predicted samples. Use `zero_division` parameter to control this behavior.\n",
      "  _warn_prf(average, modifier, msg_start, len(result))\n"
     ]
    },
    {
     "name": "stdout",
     "output_type": "stream",
     "text": [
      "Model with C= 150  gamma= 0.01\n",
      "Accuracy: 0.5826278984173721\n",
      "F1 Score: 0.5873373431116982\n",
      "Precision: 0.6035527206559472\n",
      "Recall: 0.5826278984173721\n"
     ]
    },
    {
     "name": "stderr",
     "output_type": "stream",
     "text": [
      "/usr/local/lib/python3.10/dist-packages/sklearn/metrics/_classification.py:1344: UndefinedMetricWarning: Precision is ill-defined and being set to 0.0 in labels with no predicted samples. Use `zero_division` parameter to control this behavior.\n",
      "  _warn_prf(average, modifier, msg_start, len(result))\n"
     ]
    },
    {
     "name": "stdout",
     "output_type": "stream",
     "text": [
      "Model with C= 150  gamma= 0.001\n",
      "Accuracy: 0.5866764814133235\n",
      "F1 Score: 0.5894781226117666\n",
      "Precision: 0.6054236397145086\n",
      "Recall: 0.5866764814133235\n"
     ]
    },
    {
     "name": "stderr",
     "output_type": "stream",
     "text": [
      "/usr/local/lib/python3.10/dist-packages/sklearn/metrics/_classification.py:1344: UndefinedMetricWarning: Precision is ill-defined and being set to 0.0 in labels with no predicted samples. Use `zero_division` parameter to control this behavior.\n",
      "  _warn_prf(average, modifier, msg_start, len(result))\n"
     ]
    },
    {
     "name": "stdout",
     "output_type": "stream",
     "text": [
      "Model with C= 150  gamma= 0.0001\n",
      "Accuracy: 0.5638571954361428\n",
      "F1 Score: 0.5639391758973886\n",
      "Precision: 0.5919747550158534\n",
      "Recall: 0.5638571954361428\n"
     ]
    },
    {
     "name": "stderr",
     "output_type": "stream",
     "text": [
      "/usr/local/lib/python3.10/dist-packages/sklearn/metrics/_classification.py:1344: UndefinedMetricWarning: Precision is ill-defined and being set to 0.0 in labels with no predicted samples. Use `zero_division` parameter to control this behavior.\n",
      "  _warn_prf(average, modifier, msg_start, len(result))\n"
     ]
    },
    {
     "name": "stdout",
     "output_type": "stream",
     "text": [
      "Model with C= 200  gamma= 0.1\n",
      "Accuracy: 0.30879646669120353\n",
      "F1 Score: 0.2967292157306689\n",
      "Precision: 0.6360359672598458\n",
      "Recall: 0.30879646669120353\n"
     ]
    },
    {
     "name": "stderr",
     "output_type": "stream",
     "text": [
      "/usr/local/lib/python3.10/dist-packages/sklearn/metrics/_classification.py:1344: UndefinedMetricWarning: Precision is ill-defined and being set to 0.0 in labels with no predicted samples. Use `zero_division` parameter to control this behavior.\n",
      "  _warn_prf(average, modifier, msg_start, len(result))\n"
     ]
    },
    {
     "name": "stdout",
     "output_type": "stream",
     "text": [
      "Model with C= 200  gamma= 0.01\n",
      "Accuracy: 0.5826278984173721\n",
      "F1 Score: 0.5873373431116982\n",
      "Precision: 0.6035527206559472\n",
      "Recall: 0.5826278984173721\n"
     ]
    },
    {
     "name": "stderr",
     "output_type": "stream",
     "text": [
      "/usr/local/lib/python3.10/dist-packages/sklearn/metrics/_classification.py:1344: UndefinedMetricWarning: Precision is ill-defined and being set to 0.0 in labels with no predicted samples. Use `zero_division` parameter to control this behavior.\n",
      "  _warn_prf(average, modifier, msg_start, len(result))\n"
     ]
    },
    {
     "name": "stdout",
     "output_type": "stream",
     "text": [
      "Model with C= 200  gamma= 0.001\n",
      "Accuracy: 0.5796834744203165\n",
      "F1 Score: 0.582867432414555\n",
      "Precision: 0.5998316597367016\n",
      "Recall: 0.5796834744203165\n",
      "Model with C= 200  gamma= 0.0001\n",
      "Accuracy: 0.5686418844313581\n",
      "F1 Score: 0.5676241915056134\n",
      "Precision: 0.5912179441004489\n",
      "Recall: 0.5686418844313581\n"
     ]
    },
    {
     "name": "stderr",
     "output_type": "stream",
     "text": [
      "/usr/local/lib/python3.10/dist-packages/sklearn/metrics/_classification.py:1344: UndefinedMetricWarning: Precision is ill-defined and being set to 0.0 in labels with no predicted samples. Use `zero_division` parameter to control this behavior.\n",
      "  _warn_prf(average, modifier, msg_start, len(result))\n"
     ]
    }
   ],
   "source": [
    "C_values = [50, 100, 150, 200]\n",
    "gamma_values = [0.1, 0.01, 0.001, 0.0001]\n",
    "\n",
    "for C in C_values:\n",
    "  for gamma in gamma_values:\n",
    "    svm_model = svm.SVC(kernel='rbf', C=C, gamma=gamma)\n",
    "    svm_model.fit(X_train, y_train)\n",
    "    y_pred = svm_model.predict(X_test)\n",
    "\n",
    "    # Calculate evaluation metrics\n",
    "    accuracy = accuracy_score(y_test, y_pred)\n",
    "    f1 = f1_score(y_test, y_pred, average='weighted')  # weighted F1 score for multiclass classification\n",
    "    precision = precision_score(y_test, y_pred, average='weighted')  # weighted precision for multiclass classification\n",
    "    recall = recall_score(y_test, y_pred, average='weighted')  # weighted recall for multiclass classification\n",
    "\n",
    "    # Print the evaluation metrics\n",
    "    print(\"Model with C=\", C, \" gamma=\", gamma)\n",
    "    print(\"Accuracy:\", accuracy)\n",
    "    print(\"F1 Score:\", f1)\n",
    "    print(\"Precision:\", precision)\n",
    "    print(\"Recall:\", recall)"
   ]
  },
  {
   "cell_type": "markdown",
   "metadata": {
    "id": "2qsiIM5PF1Ia"
   },
   "source": [
    "### With our grid search, we find out that the optimal values for C and gamma are **100** and **0.001** respectively."
   ]
  },
  {
   "cell_type": "markdown",
   "metadata": {
    "id": "Gk2JvrVsMRvm"
   },
   "source": [
    "# Creating an SVM Model and training the model on our data with optimal hyperparameter values"
   ]
  },
  {
   "cell_type": "code",
   "execution_count": 46,
   "metadata": {
    "colab": {
     "base_uri": "https://localhost:8080/",
     "height": 75
    },
    "id": "-8BKvOBRMXC1",
    "outputId": "1dbfa242-2102-4dfd-d5c6-1c18da1c8d13"
   },
   "outputs": [
    {
     "data": {
      "text/html": [
       "<style>#sk-container-id-2 {color: black;background-color: white;}#sk-container-id-2 pre{padding: 0;}#sk-container-id-2 div.sk-toggleable {background-color: white;}#sk-container-id-2 label.sk-toggleable__label {cursor: pointer;display: block;width: 100%;margin-bottom: 0;padding: 0.3em;box-sizing: border-box;text-align: center;}#sk-container-id-2 label.sk-toggleable__label-arrow:before {content: \"▸\";float: left;margin-right: 0.25em;color: #696969;}#sk-container-id-2 label.sk-toggleable__label-arrow:hover:before {color: black;}#sk-container-id-2 div.sk-estimator:hover label.sk-toggleable__label-arrow:before {color: black;}#sk-container-id-2 div.sk-toggleable__content {max-height: 0;max-width: 0;overflow: hidden;text-align: left;background-color: #f0f8ff;}#sk-container-id-2 div.sk-toggleable__content pre {margin: 0.2em;color: black;border-radius: 0.25em;background-color: #f0f8ff;}#sk-container-id-2 input.sk-toggleable__control:checked~div.sk-toggleable__content {max-height: 200px;max-width: 100%;overflow: auto;}#sk-container-id-2 input.sk-toggleable__control:checked~label.sk-toggleable__label-arrow:before {content: \"▾\";}#sk-container-id-2 div.sk-estimator input.sk-toggleable__control:checked~label.sk-toggleable__label {background-color: #d4ebff;}#sk-container-id-2 div.sk-label input.sk-toggleable__control:checked~label.sk-toggleable__label {background-color: #d4ebff;}#sk-container-id-2 input.sk-hidden--visually {border: 0;clip: rect(1px 1px 1px 1px);clip: rect(1px, 1px, 1px, 1px);height: 1px;margin: -1px;overflow: hidden;padding: 0;position: absolute;width: 1px;}#sk-container-id-2 div.sk-estimator {font-family: monospace;background-color: #f0f8ff;border: 1px dotted black;border-radius: 0.25em;box-sizing: border-box;margin-bottom: 0.5em;}#sk-container-id-2 div.sk-estimator:hover {background-color: #d4ebff;}#sk-container-id-2 div.sk-parallel-item::after {content: \"\";width: 100%;border-bottom: 1px solid gray;flex-grow: 1;}#sk-container-id-2 div.sk-label:hover label.sk-toggleable__label {background-color: #d4ebff;}#sk-container-id-2 div.sk-serial::before {content: \"\";position: absolute;border-left: 1px solid gray;box-sizing: border-box;top: 0;bottom: 0;left: 50%;z-index: 0;}#sk-container-id-2 div.sk-serial {display: flex;flex-direction: column;align-items: center;background-color: white;padding-right: 0.2em;padding-left: 0.2em;position: relative;}#sk-container-id-2 div.sk-item {position: relative;z-index: 1;}#sk-container-id-2 div.sk-parallel {display: flex;align-items: stretch;justify-content: center;background-color: white;position: relative;}#sk-container-id-2 div.sk-item::before, #sk-container-id-2 div.sk-parallel-item::before {content: \"\";position: absolute;border-left: 1px solid gray;box-sizing: border-box;top: 0;bottom: 0;left: 50%;z-index: -1;}#sk-container-id-2 div.sk-parallel-item {display: flex;flex-direction: column;z-index: 1;position: relative;background-color: white;}#sk-container-id-2 div.sk-parallel-item:first-child::after {align-self: flex-end;width: 50%;}#sk-container-id-2 div.sk-parallel-item:last-child::after {align-self: flex-start;width: 50%;}#sk-container-id-2 div.sk-parallel-item:only-child::after {width: 0;}#sk-container-id-2 div.sk-dashed-wrapped {border: 1px dashed gray;margin: 0 0.4em 0.5em 0.4em;box-sizing: border-box;padding-bottom: 0.4em;background-color: white;}#sk-container-id-2 div.sk-label label {font-family: monospace;font-weight: bold;display: inline-block;line-height: 1.2em;}#sk-container-id-2 div.sk-label-container {text-align: center;}#sk-container-id-2 div.sk-container {/* jupyter's `normalize.less` sets `[hidden] { display: none; }` but bootstrap.min.css set `[hidden] { display: none !important; }` so we also need the `!important` here to be able to override the default hidden behavior on the sphinx rendered scikit-learn.org. See: https://github.com/scikit-learn/scikit-learn/issues/21755 */display: inline-block !important;position: relative;}#sk-container-id-2 div.sk-text-repr-fallback {display: none;}</style><div id=\"sk-container-id-2\" class=\"sk-top-container\"><div class=\"sk-text-repr-fallback\"><pre>SVC(C=100, gamma=0.001)</pre><b>In a Jupyter environment, please rerun this cell to show the HTML representation or trust the notebook. <br />On GitHub, the HTML representation is unable to render, please try loading this page with nbviewer.org.</b></div><div class=\"sk-container\" hidden><div class=\"sk-item\"><div class=\"sk-estimator sk-toggleable\"><input class=\"sk-toggleable__control sk-hidden--visually\" id=\"sk-estimator-id-2\" type=\"checkbox\" checked><label for=\"sk-estimator-id-2\" class=\"sk-toggleable__label sk-toggleable__label-arrow\">SVC</label><div class=\"sk-toggleable__content\"><pre>SVC(C=100, gamma=0.001)</pre></div></div></div></div></div>"
      ],
      "text/plain": [
       "SVC(C=100, gamma=0.001)"
      ]
     },
     "execution_count": 46,
     "metadata": {},
     "output_type": "execute_result"
    }
   ],
   "source": [
    "clf_svm = svm.SVC(kernel='rbf', C=100, gamma=0.001)\n",
    "clf_svm.fit(X_train, y_train)"
   ]
  },
  {
   "cell_type": "markdown",
   "metadata": {
    "id": "DWbLMoR-MebF"
   },
   "source": [
    "# Model evaluation"
   ]
  },
  {
   "cell_type": "code",
   "execution_count": 47,
   "metadata": {
    "colab": {
     "base_uri": "https://localhost:8080/"
    },
    "id": "GbWsdeVtMl6h",
    "outputId": "5135ec6e-1c92-48bc-d79f-7df3c16417d1"
   },
   "outputs": [
    {
     "name": "stdout",
     "output_type": "stream",
     "text": [
      "Accuracy: 0.5925653294074347\n",
      "F1 Score: 0.5942071427766886\n",
      "Precision: 0.6100777091198948\n",
      "Recall: 0.5925653294074347\n",
      "Micro F1 score: 0.5925653294074347\n",
      "Macro F1 score: 0.5450656829118184\n"
     ]
    },
    {
     "name": "stderr",
     "output_type": "stream",
     "text": [
      "/usr/local/lib/python3.10/dist-packages/sklearn/metrics/_classification.py:1344: UndefinedMetricWarning: Precision is ill-defined and being set to 0.0 in labels with no predicted samples. Use `zero_division` parameter to control this behavior.\n",
      "  _warn_prf(average, modifier, msg_start, len(result))\n"
     ]
    }
   ],
   "source": [
    "# making predictions on the test set\n",
    "y_pred = clf_svm.predict(X_test)\n",
    "\n",
    "# Calculate evaluation metrics\n",
    "accuracy = accuracy_score(y_test, y_pred)\n",
    "f1 = f1_score(y_test, y_pred, average='weighted')  # weighted F1 score for multiclass classification\n",
    "precision = precision_score(y_test, y_pred, average='weighted')  # weighted precision for multiclass classification\n",
    "recall = recall_score(y_test, y_pred, average='weighted')  # weighted recall for multiclass classification\n",
    "# Calculate micro F1 score\n",
    "micro_f1 = f1_score(y_test, y_pred, average='micro')\n",
    "# Calculate macro F1 score\n",
    "macro_f1 = f1_score(y_test, y_pred, average='macro')\n",
    "\n",
    "# Print the evaluation metrics\n",
    "print(\"Accuracy:\", accuracy)\n",
    "print(\"F1 Score:\", f1)\n",
    "print(\"Precision:\", precision)\n",
    "print(\"Recall:\", recall)\n",
    "print(\"Micro F1 score:\", micro_f1)\n",
    "print(\"Macro F1 score:\", macro_f1)"
   ]
  },
  {
   "cell_type": "code",
   "execution_count": 48,
   "metadata": {
    "colab": {
     "base_uri": "https://localhost:8080/"
    },
    "id": "rVJcE3xdn9Rd",
    "outputId": "121f9f66-c843-4ea7-8a87-c940e4d8d246"
   },
   "outputs": [
    {
     "name": "stdout",
     "output_type": "stream",
     "text": [
      "              precision    recall  f1-score   support\n",
      "\n",
      "           0       0.33      0.48      0.39       454\n",
      "           1       0.66      0.63      0.65       210\n",
      "           2       0.54      0.51      0.53        51\n",
      "           3       0.57      0.45      0.51       108\n",
      "           4       0.49      0.30      0.37       123\n",
      "           5       0.50      0.18      0.27        22\n",
      "           6       0.54      0.40      0.46       134\n",
      "           7       0.78      0.78      0.78       291\n",
      "           8       0.00      0.00      0.00         1\n",
      "           9       0.84      0.73      0.78       134\n",
      "          10       0.79      0.82      0.81       194\n",
      "          11       0.60      0.56      0.58       162\n",
      "          12       0.53      0.35      0.42       150\n",
      "          13       0.70      0.64      0.67       211\n",
      "          14       0.81      0.62      0.70        47\n",
      "          15       0.45      0.28      0.35        32\n",
      "          16       0.60      0.72      0.66       201\n",
      "          17       0.75      0.78      0.77       153\n",
      "          18       0.79      0.59      0.68        39\n",
      "\n",
      "    accuracy                           0.59      2717\n",
      "   macro avg       0.59      0.52      0.55      2717\n",
      "weighted avg       0.61      0.59      0.59      2717\n",
      "\n"
     ]
    },
    {
     "name": "stderr",
     "output_type": "stream",
     "text": [
      "/usr/local/lib/python3.10/dist-packages/sklearn/metrics/_classification.py:1344: UndefinedMetricWarning: Precision and F-score are ill-defined and being set to 0.0 in labels with no predicted samples. Use `zero_division` parameter to control this behavior.\n",
      "  _warn_prf(average, modifier, msg_start, len(result))\n",
      "/usr/local/lib/python3.10/dist-packages/sklearn/metrics/_classification.py:1344: UndefinedMetricWarning: Precision and F-score are ill-defined and being set to 0.0 in labels with no predicted samples. Use `zero_division` parameter to control this behavior.\n",
      "  _warn_prf(average, modifier, msg_start, len(result))\n",
      "/usr/local/lib/python3.10/dist-packages/sklearn/metrics/_classification.py:1344: UndefinedMetricWarning: Precision and F-score are ill-defined and being set to 0.0 in labels with no predicted samples. Use `zero_division` parameter to control this behavior.\n",
      "  _warn_prf(average, modifier, msg_start, len(result))\n"
     ]
    }
   ],
   "source": [
    "# printing a classification report\n",
    "print(classification_report(y_pred=y_pred, y_true=y_test))"
   ]
  },
  {
   "cell_type": "code",
   "execution_count": 49,
   "metadata": {
    "colab": {
     "base_uri": "https://localhost:8080/"
    },
    "id": "ObeuzJxkUzMN",
    "outputId": "d2b254cf-535a-4bfc-b947-e4bfd93c0993"
   },
   "outputs": [
    {
     "name": "stdout",
     "output_type": "stream",
     "text": [
      "[[217  20  11  14   7   1  12  33   0  10  15  13  16  20   2   4  43  15\n",
      "    1]\n",
      " [ 53 132   1   1   0   0   2   2   0   1   1   2   4   2   1   1   6   1\n",
      "    0]\n",
      " [ 12   9  26   0   0   0   0   1   0   0   1   1   0   0   0   0   0   1\n",
      "    0]\n",
      " [ 29   7   1  49   2   2   0   1   0   0   6   1   0   5   0   2   2   1\n",
      "    0]\n",
      " [ 46   2   1   2  37   0  11   5   0   0   0   4   4   4   0   1   6   0\n",
      "    0]\n",
      " [  9   0   0   1   0   4   4   1   0   0   0   1   0   0   0   0   2   0\n",
      "    0]\n",
      " [ 38   2   1   1  11   0  54   3   0   0   1   5   6   8   0   0   3   0\n",
      "    1]\n",
      " [ 38   1   0   1   1   0   1 227   0   1   0   3   0   1   0   1   2  14\n",
      "    0]\n",
      " [  0   0   0   0   0   0   0   1   0   0   0   0   0   0   0   0   0   0\n",
      "    0]\n",
      " [ 16   3   0   0   0   0   1   2   0  98  10   0   1   1   0   0   2   0\n",
      "    0]\n",
      " [ 14   0   0   7   0   0   0   0   0   2 160   2   0   8   0   0   1   0\n",
      "    0]\n",
      " [ 30   0   2   1   4   1   1   3   0   3   1  91  12   1   0   1  11   0\n",
      "    0]\n",
      " [ 44   9   2   1   2   0   8   1   0   0   0  19  53   1   1   1   6   1\n",
      "    1]\n",
      " [ 35   3   2   6   6   0   2   4   0   1   5   4   0 136   2   0   5   0\n",
      "    0]\n",
      " [ 13   0   0   0   2   0   1   1   0   0   0   0   0   0  29   0   0   1\n",
      "    0]\n",
      " [  7   1   1   1   2   0   1   0   0   0   1   1   1   2   0   9   4   1\n",
      "    0]\n",
      " [ 36   8   0   1   1   0   2   0   0   0   2   2   1   2   0   0 145   1\n",
      "    0]\n",
      " [ 14   1   0   0   0   0   0   6   0   0   0   3   1   4   0   0   1 120\n",
      "    3]\n",
      " [  7   1   0   0   0   0   0   1   0   0   0   0   1   0   1   0   1   4\n",
      "   23]]\n"
     ]
    }
   ],
   "source": [
    "# Calculate confusion matrix\n",
    "cm = confusion_matrix(y_test, y_pred)\n",
    "print(cm)"
   ]
  },
  {
   "cell_type": "code",
   "execution_count": 50,
   "metadata": {
    "colab": {
     "base_uri": "https://localhost:8080/",
     "height": 564
    },
    "id": "oGzpXD4FVflX",
    "outputId": "bd3bcc5c-e85b-4b54-f710-cf2e48bafcba"
   },
   "outputs": [
    {
     "data": {
      "image/png": "[encoded data removed]",
      "text/plain": [
       "<Figure size 800x600 with 2 Axes>"
      ]
     },
     "metadata": {},
     "output_type": "display_data"
    }
   ],
   "source": [
    "# Plot heatmap\n",
    "labels = [i for i in range(19)]\n",
    "plt.figure(figsize=(8, 6))\n",
    "sns.heatmap(cm, annot=True, cmap='Blues', fmt='g', xticklabels=labels, yticklabels=labels)\n",
    "plt.xlabel('Predicted labels')\n",
    "plt.ylabel('True labels')\n",
    "plt.title('Confusion Matrix plotted as a heatmap')\n",
    "plt.show()"
   ]
  },
  {
   "cell_type": "code",
   "execution_count": 51,
   "metadata": {
    "colab": {
     "base_uri": "https://localhost:8080/"
    },
    "id": "UoPyWXDJuTkx",
    "outputId": "6e1e06e9-2c44-48b6-9e9e-f143a6302c3f"
   },
   "outputs": [
    {
     "name": "stdout",
     "output_type": "stream",
     "text": [
      "Saved SVM model and TF-IDF vectorizer!\n"
     ]
    }
   ],
   "source": [
    "# save model and tf-idf vectorizer\n",
    "from joblib import dump\n",
    "\n",
    "dump(clf_svm, 'my_svm_model.pkl')\n",
    "dump(tfidf_vectorizer, 'tfidf_vectorizer.joblib')\n",
    "\n",
    "print(\"Saved SVM model and TF-IDF vectorizer!\")"
   ]
  },
  {
   "cell_type": "markdown",
   "metadata": {
    "id": "iPiPPtOZV-la"
   },
   "source": [
    "# The following code can be used to test our model on user provided input"
   ]
  },
  {
   "cell_type": "code",
   "execution_count": 52,
   "metadata": {
    "colab": {
     "base_uri": "https://localhost:8080/"
    },
    "id": "F9PFYX87Gd7N",
    "outputId": "c6341bc9-5da3-4acd-ebe4-645f51c7dce1"
   },
   "outputs": [
    {
     "name": "stdout",
     "output_type": "stream",
     "text": [
      "Drive already mounted at /gdrive; to attempt to forcibly remount, call drive.mount(\"/gdrive\", force_remount=True).\n",
      "/gdrive/MyDrive/SemEval2010_task8_all_data\n"
     ]
    }
   ],
   "source": [
    "# # UNCOMMENT AND RUN THIS CELL IF YOU ARE USING GOOGLE COLAB\n",
    "# # mount drive and change directory(specify the directory accordingly for yourself)\n",
    "# from google.colab import drive\n",
    "# drive.mount('/gdrive')\n",
    "# %cd /gdrive/MyDrive/SemEval2010_task8_all_data/"
   ]
  },
  {
   "cell_type": "markdown",
   "metadata": {
    "id": "lYFXVAqLR7Q3"
   },
   "source": [
    "Run the following cell to load our word embedding, model, tf-idf vectorizer and some libraries and functions that will be used for preprocessing the input"
   ]
  },
  {
   "cell_type": "code",
   "execution_count": 62,
   "metadata": {
    "id": "RDoCMBGXN0ob"
   },
   "outputs": [],
   "source": [
    "from joblib import load\n",
    "import re\n",
    "import pandas as pd\n",
    "import numpy as np\n",
    "import spacy\n",
    "from spacy.tokenizer import Tokenizer\n",
    "from gensim.models import KeyedVectors\n",
    "\n",
    "nlp = spacy.load('en_core_web_sm')\n",
    "\n",
    "# load saved word embeddings. Please download the following file from the link provided in the README file.\n",
    "wv = KeyedVectors.load('SemEval-vectors.kv')\n",
    "\n",
    "# load saved svm model and tf-idf vectorizer. Please download the model file from the link provided in the README file.\n",
    "loaded_model = load('my_svm_model.pkl')\n",
    "loaded_tfidf_vectorizer = load(\"tfidf_vectorizer.joblib\")\n",
    "\n",
    "# Following is a mapping between relations and their corresponding ids\n",
    "relation_ids = {\n",
    "    \"Other\": 0,\n",
    "    \"Message-Topic(e1,e2)\": 1,\n",
    "    \"Message-Topic(e2,e1)\": 2,\n",
    "    \"Product-Producer(e1,e2)\": 3,\n",
    "    \"Product-Producer(e2,e1)\": 4,\n",
    "    \"Instrument-Agency(e1,e2)\": 5,\n",
    "    \"Instrument-Agency(e2,e1)\": 6,\n",
    "    \"Entity-Destination(e1,e2)\": 7,\n",
    "    \"Entity-Destination(e2,e1)\": 8,\n",
    "    \"Cause-Effect(e1,e2)\": 9,\n",
    "    \"Cause-Effect(e2,e1)\": 10,\n",
    "    \"Component-Whole(e1,e2)\": 11,\n",
    "    \"Component-Whole(e2,e1)\": 12,\n",
    "    \"Entity-Origin(e1,e2)\": 13,\n",
    "    \"Entity-Origin(e2,e1)\": 14,\n",
    "    \"Member-Collection(e1,e2)\": 15,\n",
    "    \"Member-Collection(e2,e1)\": 16,\n",
    "    \"Content-Container(e1,e2)\": 17,\n",
    "    \"Content-Container(e2,e1)\": 18,\n",
    "}\n",
    "# Following is a mapping between relations and their corresponding ids\n",
    "ids_to_relations = {id: relation for id, relation in enumerate(relation_ids)}\n",
    "\n",
    "def preprocess(sentence):\n",
    "  '''\n",
    "  Function that takes a sentence and returns the same sentence as list of words after removing stop words and lowercasing all words\n",
    "  '''\n",
    "  doc = nlp(sentence)\n",
    "  words = []\n",
    "  for token in doc:\n",
    "    words.append(token.text.lower())\n",
    "  return words\n",
    "\n",
    "def sentence_vec(sentence):\n",
    "  '''\n",
    "  function that takes a word or a sequence of words as input and outputs the sentence's vector representation\n",
    "  by taking average of all word vectors present in the sentence\n",
    "  '''\n",
    "  words = preprocess(sentence)\n",
    "  sent_vec = np.zeros(300)\n",
    "  num_words = 0\n",
    "  for word in words:\n",
    "    if word in wv:\n",
    "      sent_vec += wv[word]\n",
    "      num_words += 1\n",
    "  sent_vec = sent_vec / num_words\n",
    "  return sent_vec\n",
    "\n",
    "# function that finds e1 and e2 and returns their POS tags\n",
    "def find_e1_e2_pos_tag(row):\n",
    "  '''\n",
    "  Function that finds out the POS tag of e1 and e2.\n",
    "  Returns a tuple containing POS tag IDs of e1 and e2\n",
    "  '''\n",
    "  sentence = row['sentence']\n",
    "  new_text = sentence.replace(\"E1_START\", \"\").replace(\"E1_END\", \"\").replace(\"E2_START\", \"\").replace(\"E2_END\", \"\")\n",
    "  # e1 and e2 can contain more than one word. So for both e1 and e2 we get the first word and find its POS tag.\n",
    "  e1 = row['e1'].split()[0]\n",
    "  e2 = row['e2'].split()[0]\n",
    "  doc = nlp(sentence)\n",
    "  e1_pos, e2_pos = 8, 8\n",
    "  for token in doc:\n",
    "    if token.text == e1:\n",
    "      e1_pos = token.pos\n",
    "    elif token.text == e2:\n",
    "      e2_pos = token.pos\n",
    "  return e1_pos, e2_pos\n",
    "\n",
    "# function to make predictions\n",
    "def predict_with_loaded_model(sentences):\n",
    "  records = []\n",
    "  for sentence in sentences:\n",
    "    e1_start, e2_start = sentence.index(\"<e1>\"), sentence.index(\"<e2>\")\n",
    "    e1_end, e2_end = sentence.index(\"</e1>\"), sentence.index(\"</e2>\")\n",
    "    e1, e2 = sentence[e1_start + 4: e1_end], sentence[e2_start + 4: e2_end]\n",
    "    sentence = sentence.replace(\"<e1>\", \" E1_START \").replace(\"</e1>\", \" E1_END \")\n",
    "    sentence = sentence.replace(\"<e2>\", \" E2_START \").replace(\"</e2>\", \" E2_END \")\n",
    "    sentence = re.sub(r'\\s+', ' ', sentence) # remove extra spaces\n",
    "\n",
    "    records.append([sentence, e1, e2])\n",
    "\n",
    "  prediction_df = pd.DataFrame(records, columns=['sentence', 'e1', 'e2'])\n",
    "\n",
    "  prediction_df['sentence_vector'] = prediction_df['sentence'].apply(sentence_vec)\n",
    "  prediction_df['e1_vec'] = prediction_df['e1'].apply(sentence_vec)\n",
    "  prediction_df['e2_vec'] = prediction_df['e2'].apply(sentence_vec)\n",
    "  prediction_df['e1_e2_pos_tags'] = prediction_df.apply(find_e1_e2_pos_tag, axis=1)\n",
    "  tfidf_features_for_prediction = loaded_tfidf_vectorizer.transform(prediction_df['sentence'].to_list()).toarray()\n",
    "\n",
    "  X = [np.concatenate((row['sentence_vector'], row['e1_vec'], row['e2_vec'], row[\"e1_e2_pos_tags\"], tfidf_features_for_prediction[idx])) for idx, row in prediction_df.iterrows()]\n",
    "\n",
    "  predictions = loaded_model.predict(X)\n",
    "\n",
    "  # Each prediction is an id correspoding to the respective relation\n",
    "  # Hence, we convert each id to its corresponding relation text\n",
    "  predictions = [ids_to_relations[id] for id in predictions]\n",
    "\n",
    "  print(predictions)"
   ]
  },
  {
   "cell_type": "markdown",
   "metadata": {
    "id": "M0MlUthYSK9r"
   },
   "source": [
    "Here you can provide inputs in the form of a list of strings and you will get outputs as a list. Make sure to add e1 and e2 tags to the entities otherwise the code won't work."
   ]
  },
  {
   "cell_type": "code",
   "execution_count": 63,
   "metadata": {
    "colab": {
     "base_uri": "https://localhost:8080/"
    },
    "id": "qWO7m4U5j1OY",
    "outputId": "19aa508a-78f3-4257-9449-83d9aeffe307"
   },
   "outputs": [
    {
     "name": "stdout",
     "output_type": "stream",
     "text": [
      "['Other', 'Member-Collection(e1,e2)', 'Product-Producer(e2,e1)']\n"
     ]
    }
   ],
   "source": [
    "# You can provide inputs in the form of a list of sentences and call predict_with_loaded_model function.\n",
    "# The model will return the prediction for each sentence in the form of a list.\n",
    "# Make sure to put <e1> and <e2> tags around the entities.`\n",
    "\n",
    "# Example\n",
    "inputs = [\"Their <e1>composer</e1> has sunk into <e2>oblivion</e2>.\",\n",
    "          \"The fifty <e1>essays</e1> collected in this <e2>volume</e2> testify to most of the prominent themes from Professor Quispel's scholarly career.\",\n",
    "          \"The <e1>factory</e1>'s products have included flower pots, Finnish rooster-whistles, pans, <e2>trays</e2>, tea pots, ash trays and air moisturisers.\"]\n",
    "\n",
    "# run out prediction function to get outputs\n",
    "predict_with_loaded_model(inputs)"
   ]
  },
  {
   "cell_type": "code",
   "execution_count": null,
   "metadata": {
    "id": "y9nWNIWbvqLh"
   },
   "outputs": [],
   "source": []
  }
 ],
 "metadata": {
  "colab": {
   "provenance": []
  },
  "kernelspec": {
   "display_name": "Python 3 (ipykernel)",
   "language": "python",
   "name": "python3"
  },
  "language_info": {
   "codemirror_mode": {
    "name": "ipython",
    "version": 3
   },
   "file_extension": ".py",
   "mimetype": "text/x-python",
   "name": "python",
   "nbconvert_exporter": "python",
   "pygments_lexer": "ipython3",
   "version": "3.11.2"
  }
 },
 "nbformat": 4,
 "nbformat_minor": 4
}
