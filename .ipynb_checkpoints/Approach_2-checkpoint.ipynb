{
 "cells": [
  {
   "cell_type": "markdown",
   "metadata": {
    "id": "nnlJyD5WFBP7"
   },
   "source": [
    "# Relation Extraction - SemEval 2010\n",
    "\n",
    "---\n",
    "\n",
    "Task 8\n",
    "\n",
    "Group members:<br/>\n",
    "Mohammed Mehdi Patel - y28520mp<br/>\n",
    "Antas Singh - v06383as<br/>\n",
    "Nilakhi Das - b02373nd<br/>\n",
    "Ayush Garg - c81114ag<br/>\n",
    "\n",
    "<br>\n",
    "\n",
    "This file contains the code for our second approach.The model used incorporates an attention mechanism alongside bidirectional Long Short-Term Memory (LSTM) layer , this model is trained on features generated using NLP techniques.\n",
    "\n",
    "If you want to test our model by providing some inputs, you can directly go to the last 4 cells of this notebook. Instructions on how to provide inputs is provided in those cells. Make sure you install all the required packages with the first line of this notebook.<br/>\n",
    "**Note: The 4th last cell of this notebook mounts google drive since this notebook was prepared in google colab. You would not need to run this cell if you are not using google colab.**\n",
    "\n",
    "<br/>\n",
    "The notebook starts with an install statement of libraries that will be required to run this notebook and then what follows is our code to preprocess the data, create features and train and evaluate the model.\n",
    "\n",
    "<br/>\n"
   ]
  },
  {
   "cell_type": "markdown",
   "metadata": {
    "id": "jyFX0v_SIhhf"
   },
   "source": [
    "## Code Attributions and Enhancements:<br/>\n",
    "We got some idea of preprocessing the data files from  [Sahitya's repository on Github](https://github.com/sahitya0000/Relation-Classification/tree/master)\n",
    ".After preprocessing the data files and converting them to pandas dataframes, we used various NLP techniques to make features which will be used to train the model . One of the data preprocessing method and basic idea for bi-LSTM came from [Valette, Marion (2019). Simple Relation Extraction with a Bi-LSTM Model.](https://medium.com/southpigalle/simple-relation-extraction-with-a-bi-lstm-model-part-1-682b670d5e11). After learning from this article we have modified the model and added multiple new layers and attention mechanisms to increase the performance significantly. As mentioned in Valette, Marion article we have used word indices approach for one of the features in our model, in addition to that we have used techniques like relative positioning, PoS tagging , pretrained word vectors and many more changes which helped us achieve better performance.\n",
    "\n",
    "\n"
   ]
  },
  {
   "cell_type": "markdown",
   "metadata": {
    "id": "B7rJM2dtQoZe"
   },
   "source": [
    "Following is a summary our implementation:\n",
    "1.  Transformed our sentences into word indices. Each word has a unique index in the vocabulary constructed from the train set.\n",
    "2. The relative position of each word in the sentence with respect to each entity(e1 and e2) is calculated from the absolute positions indicated in the dataset and then normalizing these values\n",
    "3. Part of speech tagging is made for every sentence. Use spacy to find out POS tags\n",
    "4. Initializing an embedding layer in Keras using pre-trained word vectors from SpaCy, which are then used to construct an embedding matrix for the embedding layer.\n",
    "5. Using the following features to train the model with padding:\n",
    "<ul>\n",
    "<li>word indices</li>\n",
    "<li>relative position with respect to e1</li>\n",
    "<li>relative position with respect to e2</li>\n",
    "<li>pos tagging for each sentence</li>\n",
    "</ul>\n",
    "6. We made a model with multiple layers, first, we make a masking layer that will mask all the 0 in the input. This is applied to all 4 input features.\n",
    "7. We are using keras to build our model, and using keras we added a bi-LSTM layer, then output from this layer is given as input to a custom attention layer, and then a dense layer is used to generate output.\n",
    "8. We trained the above model with the described features and then tested the trained model on testing data.\n",
    "\n"
   ]
  },
  {
   "cell_type": "code",
   "execution_count": 21,
   "metadata": {
    "colab": {
     "base_uri": "https://localhost:8080/"
    },
    "id": "IiZ_CPfmMwNL",
    "outputId": "50a549cd-5147-4b67-ec85-43bbc6dd8a56"
   },
   "outputs": [
    {
     "name": "stdout",
     "output_type": "stream",
     "text": [
      "Requirement already satisfied: gensim in /usr/local/lib/python3.10/dist-packages (4.3.2)\n",
      "Requirement already satisfied: numpy in /usr/local/lib/python3.10/dist-packages (1.25.2)\n",
      "Requirement already satisfied: pandas in /usr/local/lib/python3.10/dist-packages (1.5.3)\n",
      "Requirement already satisfied: spacy in /usr/local/lib/python3.10/dist-packages (3.7.4)\n",
      "Requirement already satisfied: scikit-learn in /usr/local/lib/python3.10/dist-packages (1.2.2)\n",
      "Requirement already satisfied: joblib in /usr/local/lib/python3.10/dist-packages (1.3.2)\n",
      "Requirement already satisfied: seaborn in /usr/local/lib/python3.10/dist-packages (0.13.1)\n",
      "Requirement already satisfied: matplotlib in /usr/local/lib/python3.10/dist-packages (3.7.1)\n",
      "Requirement already satisfied: tensorflow in /usr/local/lib/python3.10/dist-packages (2.15.0)\n",
      "Requirement already satisfied: nltk in /usr/local/lib/python3.10/dist-packages (3.8.1)\n",
      "Requirement already satisfied: keras in /usr/local/lib/python3.10/dist-packages (2.15.0)\n",
      "Requirement already satisfied: scipy>=1.7.0 in /usr/local/lib/python3.10/dist-packages (from gensim) (1.11.4)\n",
      "Requirement already satisfied: smart-open>=1.8.1 in /usr/local/lib/python3.10/dist-packages (from gensim) (6.4.0)\n",
      "Requirement already satisfied: python-dateutil>=2.8.1 in /usr/local/lib/python3.10/dist-packages (from pandas) (2.8.2)\n",
      "Requirement already satisfied: pytz>=2020.1 in /usr/local/lib/python3.10/dist-packages (from pandas) (2023.4)\n",
      "Requirement already satisfied: spacy-legacy<3.1.0,>=3.0.11 in /usr/local/lib/python3.10/dist-packages (from spacy) (3.0.12)\n",
      "Requirement already satisfied: spacy-loggers<2.0.0,>=1.0.0 in /usr/local/lib/python3.10/dist-packages (from spacy) (1.0.5)\n",
      "Requirement already satisfied: murmurhash<1.1.0,>=0.28.0 in /usr/local/lib/python3.10/dist-packages (from spacy) (1.0.10)\n",
      "Requirement already satisfied: cymem<2.1.0,>=2.0.2 in /usr/local/lib/python3.10/dist-packages (from spacy) (2.0.8)\n",
      "Requirement already satisfied: preshed<3.1.0,>=3.0.2 in /usr/local/lib/python3.10/dist-packages (from spacy) (3.0.9)\n",
      "Requirement already satisfied: thinc<8.3.0,>=8.2.2 in /usr/local/lib/python3.10/dist-packages (from spacy) (8.2.3)\n",
      "Requirement already satisfied: wasabi<1.2.0,>=0.9.1 in /usr/local/lib/python3.10/dist-packages (from spacy) (1.1.2)\n",
      "Requirement already satisfied: srsly<3.0.0,>=2.4.3 in /usr/local/lib/python3.10/dist-packages (from spacy) (2.4.8)\n",
      "Requirement already satisfied: catalogue<2.1.0,>=2.0.6 in /usr/local/lib/python3.10/dist-packages (from spacy) (2.0.10)\n",
      "Requirement already satisfied: weasel<0.4.0,>=0.1.0 in /usr/local/lib/python3.10/dist-packages (from spacy) (0.3.4)\n",
      "Requirement already satisfied: typer<0.10.0,>=0.3.0 in /usr/local/lib/python3.10/dist-packages (from spacy) (0.9.0)\n",
      "Requirement already satisfied: tqdm<5.0.0,>=4.38.0 in /usr/local/lib/python3.10/dist-packages (from spacy) (4.66.2)\n",
      "Requirement already satisfied: requests<3.0.0,>=2.13.0 in /usr/local/lib/python3.10/dist-packages (from spacy) (2.31.0)\n",
      "Requirement already satisfied: pydantic!=1.8,!=1.8.1,<3.0.0,>=1.7.4 in /usr/local/lib/python3.10/dist-packages (from spacy) (2.6.3)\n",
      "Requirement already satisfied: jinja2 in /usr/local/lib/python3.10/dist-packages (from spacy) (3.1.3)\n",
      "Requirement already satisfied: setuptools in /usr/local/lib/python3.10/dist-packages (from spacy) (67.7.2)\n",
      "Requirement already satisfied: packaging>=20.0 in /usr/local/lib/python3.10/dist-packages (from spacy) (23.2)\n",
      "Requirement already satisfied: langcodes<4.0.0,>=3.2.0 in /usr/local/lib/python3.10/dist-packages (from spacy) (3.3.0)\n",
      "Requirement already satisfied: threadpoolctl>=2.0.0 in /usr/local/lib/python3.10/dist-packages (from scikit-learn) (3.3.0)\n",
      "Requirement already satisfied: contourpy>=1.0.1 in /usr/local/lib/python3.10/dist-packages (from matplotlib) (1.2.0)\n",
      "Requirement already satisfied: cycler>=0.10 in /usr/local/lib/python3.10/dist-packages (from matplotlib) (0.12.1)\n",
      "Requirement already satisfied: fonttools>=4.22.0 in /usr/local/lib/python3.10/dist-packages (from matplotlib) (4.49.0)\n",
      "Requirement already satisfied: kiwisolver>=1.0.1 in /usr/local/lib/python3.10/dist-packages (from matplotlib) (1.4.5)\n",
      "Requirement already satisfied: pillow>=6.2.0 in /usr/local/lib/python3.10/dist-packages (from matplotlib) (9.4.0)\n",
      "Requirement already satisfied: pyparsing>=2.3.1 in /usr/local/lib/python3.10/dist-packages (from matplotlib) (3.1.1)\n",
      "Requirement already satisfied: absl-py>=1.0.0 in /usr/local/lib/python3.10/dist-packages (from tensorflow) (1.4.0)\n",
      "Requirement already satisfied: astunparse>=1.6.0 in /usr/local/lib/python3.10/dist-packages (from tensorflow) (1.6.3)\n",
      "Requirement already satisfied: flatbuffers>=23.5.26 in /usr/local/lib/python3.10/dist-packages (from tensorflow) (23.5.26)\n",
      "Requirement already satisfied: gast!=0.5.0,!=0.5.1,!=0.5.2,>=0.2.1 in /usr/local/lib/python3.10/dist-packages (from tensorflow) (0.5.4)\n",
      "Requirement already satisfied: google-pasta>=0.1.1 in /usr/local/lib/python3.10/dist-packages (from tensorflow) (0.2.0)\n",
      "Requirement already satisfied: h5py>=2.9.0 in /usr/local/lib/python3.10/dist-packages (from tensorflow) (3.9.0)\n",
      "Requirement already satisfied: libclang>=13.0.0 in /usr/local/lib/python3.10/dist-packages (from tensorflow) (16.0.6)\n",
      "Requirement already satisfied: ml-dtypes~=0.2.0 in /usr/local/lib/python3.10/dist-packages (from tensorflow) (0.2.0)\n",
      "Requirement already satisfied: opt-einsum>=2.3.2 in /usr/local/lib/python3.10/dist-packages (from tensorflow) (3.3.0)\n",
      "Requirement already satisfied: protobuf!=4.21.0,!=4.21.1,!=4.21.2,!=4.21.3,!=4.21.4,!=4.21.5,<5.0.0dev,>=3.20.3 in /usr/local/lib/python3.10/dist-packages (from tensorflow) (3.20.3)\n",
      "Requirement already satisfied: six>=1.12.0 in /usr/local/lib/python3.10/dist-packages (from tensorflow) (1.16.0)\n",
      "Requirement already satisfied: termcolor>=1.1.0 in /usr/local/lib/python3.10/dist-packages (from tensorflow) (2.4.0)\n",
      "Requirement already satisfied: typing-extensions>=3.6.6 in /usr/local/lib/python3.10/dist-packages (from tensorflow) (4.10.0)\n",
      "Requirement already satisfied: wrapt<1.15,>=1.11.0 in /usr/local/lib/python3.10/dist-packages (from tensorflow) (1.14.1)\n",
      "Requirement already satisfied: tensorflow-io-gcs-filesystem>=0.23.1 in /usr/local/lib/python3.10/dist-packages (from tensorflow) (0.36.0)\n",
      "Requirement already satisfied: grpcio<2.0,>=1.24.3 in /usr/local/lib/python3.10/dist-packages (from tensorflow) (1.62.0)\n",
      "Requirement already satisfied: tensorboard<2.16,>=2.15 in /usr/local/lib/python3.10/dist-packages (from tensorflow) (2.15.2)\n",
      "Requirement already satisfied: tensorflow-estimator<2.16,>=2.15.0 in /usr/local/lib/python3.10/dist-packages (from tensorflow) (2.15.0)\n",
      "Requirement already satisfied: click in /usr/local/lib/python3.10/dist-packages (from nltk) (8.1.7)\n",
      "Requirement already satisfied: regex>=2021.8.3 in /usr/local/lib/python3.10/dist-packages (from nltk) (2023.12.25)\n",
      "Requirement already satisfied: wheel<1.0,>=0.23.0 in /usr/local/lib/python3.10/dist-packages (from astunparse>=1.6.0->tensorflow) (0.42.0)\n",
      "Requirement already satisfied: annotated-types>=0.4.0 in /usr/local/lib/python3.10/dist-packages (from pydantic!=1.8,!=1.8.1,<3.0.0,>=1.7.4->spacy) (0.6.0)\n",
      "Requirement already satisfied: pydantic-core==2.16.3 in /usr/local/lib/python3.10/dist-packages (from pydantic!=1.8,!=1.8.1,<3.0.0,>=1.7.4->spacy) (2.16.3)\n",
      "Requirement already satisfied: charset-normalizer<4,>=2 in /usr/local/lib/python3.10/dist-packages (from requests<3.0.0,>=2.13.0->spacy) (3.3.2)\n",
      "Requirement already satisfied: idna<4,>=2.5 in /usr/local/lib/python3.10/dist-packages (from requests<3.0.0,>=2.13.0->spacy) (3.6)\n",
      "Requirement already satisfied: urllib3<3,>=1.21.1 in /usr/local/lib/python3.10/dist-packages (from requests<3.0.0,>=2.13.0->spacy) (2.0.7)\n",
      "Requirement already satisfied: certifi>=2017.4.17 in /usr/local/lib/python3.10/dist-packages (from requests<3.0.0,>=2.13.0->spacy) (2024.2.2)\n",
      "Requirement already satisfied: google-auth<3,>=1.6.3 in /usr/local/lib/python3.10/dist-packages (from tensorboard<2.16,>=2.15->tensorflow) (2.27.0)\n",
      "Requirement already satisfied: google-auth-oauthlib<2,>=0.5 in /usr/local/lib/python3.10/dist-packages (from tensorboard<2.16,>=2.15->tensorflow) (1.2.0)\n",
      "Requirement already satisfied: markdown>=2.6.8 in /usr/local/lib/python3.10/dist-packages (from tensorboard<2.16,>=2.15->tensorflow) (3.5.2)\n",
      "Requirement already satisfied: tensorboard-data-server<0.8.0,>=0.7.0 in /usr/local/lib/python3.10/dist-packages (from tensorboard<2.16,>=2.15->tensorflow) (0.7.2)\n",
      "Requirement already satisfied: werkzeug>=1.0.1 in /usr/local/lib/python3.10/dist-packages (from tensorboard<2.16,>=2.15->tensorflow) (3.0.1)\n",
      "Requirement already satisfied: blis<0.8.0,>=0.7.8 in /usr/local/lib/python3.10/dist-packages (from thinc<8.3.0,>=8.2.2->spacy) (0.7.11)\n",
      "Requirement already satisfied: confection<1.0.0,>=0.0.1 in /usr/local/lib/python3.10/dist-packages (from thinc<8.3.0,>=8.2.2->spacy) (0.1.4)\n",
      "Requirement already satisfied: cloudpathlib<0.17.0,>=0.7.0 in /usr/local/lib/python3.10/dist-packages (from weasel<0.4.0,>=0.1.0->spacy) (0.16.0)\n",
      "Requirement already satisfied: MarkupSafe>=2.0 in /usr/local/lib/python3.10/dist-packages (from jinja2->spacy) (2.1.5)\n",
      "Requirement already satisfied: cachetools<6.0,>=2.0.0 in /usr/local/lib/python3.10/dist-packages (from google-auth<3,>=1.6.3->tensorboard<2.16,>=2.15->tensorflow) (5.3.3)\n",
      "Requirement already satisfied: pyasn1-modules>=0.2.1 in /usr/local/lib/python3.10/dist-packages (from google-auth<3,>=1.6.3->tensorboard<2.16,>=2.15->tensorflow) (0.3.0)\n",
      "Requirement already satisfied: rsa<5,>=3.1.4 in /usr/local/lib/python3.10/dist-packages (from google-auth<3,>=1.6.3->tensorboard<2.16,>=2.15->tensorflow) (4.9)\n",
      "Requirement already satisfied: requests-oauthlib>=0.7.0 in /usr/local/lib/python3.10/dist-packages (from google-auth-oauthlib<2,>=0.5->tensorboard<2.16,>=2.15->tensorflow) (1.3.1)\n",
      "Requirement already satisfied: pyasn1<0.6.0,>=0.4.6 in /usr/local/lib/python3.10/dist-packages (from pyasn1-modules>=0.2.1->google-auth<3,>=1.6.3->tensorboard<2.16,>=2.15->tensorflow) (0.5.1)\n",
      "Requirement already satisfied: oauthlib>=3.0.0 in /usr/local/lib/python3.10/dist-packages (from requests-oauthlib>=0.7.0->google-auth-oauthlib<2,>=0.5->tensorboard<2.16,>=2.15->tensorflow) (3.2.2)\n",
      "Collecting en-core-web-md==3.7.1\n",
      "  Downloading https://github.com/explosion/spacy-models/releases/download/en_core_web_md-3.7.1/en_core_web_md-3.7.1-py3-none-any.whl (42.8 MB)\n",
      "\u001b[2K     \u001b[90m━━━━━━━━━━━━━━━━━━━━━━━━━━━━━━━━━━━━━━━━\u001b[0m \u001b[32m42.8/42.8 MB\u001b[0m \u001b[31m25.2 MB/s\u001b[0m eta \u001b[36m0:00:00\u001b[0m\n",
      "\u001b[?25hRequirement already satisfied: spacy<3.8.0,>=3.7.2 in /usr/local/lib/python3.10/dist-packages (from en-core-web-md==3.7.1) (3.7.4)\n",
      "Requirement already satisfied: spacy-legacy<3.1.0,>=3.0.11 in /usr/local/lib/python3.10/dist-packages (from spacy<3.8.0,>=3.7.2->en-core-web-md==3.7.1) (3.0.12)\n",
      "Requirement already satisfied: spacy-loggers<2.0.0,>=1.0.0 in /usr/local/lib/python3.10/dist-packages (from spacy<3.8.0,>=3.7.2->en-core-web-md==3.7.1) (1.0.5)\n",
      "Requirement already satisfied: murmurhash<1.1.0,>=0.28.0 in /usr/local/lib/python3.10/dist-packages (from spacy<3.8.0,>=3.7.2->en-core-web-md==3.7.1) (1.0.10)\n",
      "Requirement already satisfied: cymem<2.1.0,>=2.0.2 in /usr/local/lib/python3.10/dist-packages (from spacy<3.8.0,>=3.7.2->en-core-web-md==3.7.1) (2.0.8)\n",
      "Requirement already satisfied: preshed<3.1.0,>=3.0.2 in /usr/local/lib/python3.10/dist-packages (from spacy<3.8.0,>=3.7.2->en-core-web-md==3.7.1) (3.0.9)\n",
      "Requirement already satisfied: thinc<8.3.0,>=8.2.2 in /usr/local/lib/python3.10/dist-packages (from spacy<3.8.0,>=3.7.2->en-core-web-md==3.7.1) (8.2.3)\n",
      "Requirement already satisfied: wasabi<1.2.0,>=0.9.1 in /usr/local/lib/python3.10/dist-packages (from spacy<3.8.0,>=3.7.2->en-core-web-md==3.7.1) (1.1.2)\n",
      "Requirement already satisfied: srsly<3.0.0,>=2.4.3 in /usr/local/lib/python3.10/dist-packages (from spacy<3.8.0,>=3.7.2->en-core-web-md==3.7.1) (2.4.8)\n",
      "Requirement already satisfied: catalogue<2.1.0,>=2.0.6 in /usr/local/lib/python3.10/dist-packages (from spacy<3.8.0,>=3.7.2->en-core-web-md==3.7.1) (2.0.10)\n",
      "Requirement already satisfied: weasel<0.4.0,>=0.1.0 in /usr/local/lib/python3.10/dist-packages (from spacy<3.8.0,>=3.7.2->en-core-web-md==3.7.1) (0.3.4)\n",
      "Requirement already satisfied: typer<0.10.0,>=0.3.0 in /usr/local/lib/python3.10/dist-packages (from spacy<3.8.0,>=3.7.2->en-core-web-md==3.7.1) (0.9.0)\n",
      "Requirement already satisfied: smart-open<7.0.0,>=5.2.1 in /usr/local/lib/python3.10/dist-packages (from spacy<3.8.0,>=3.7.2->en-core-web-md==3.7.1) (6.4.0)\n",
      "Requirement already satisfied: tqdm<5.0.0,>=4.38.0 in /usr/local/lib/python3.10/dist-packages (from spacy<3.8.0,>=3.7.2->en-core-web-md==3.7.1) (4.66.2)\n",
      "Requirement already satisfied: requests<3.0.0,>=2.13.0 in /usr/local/lib/python3.10/dist-packages (from spacy<3.8.0,>=3.7.2->en-core-web-md==3.7.1) (2.31.0)\n",
      "Requirement already satisfied: pydantic!=1.8,!=1.8.1,<3.0.0,>=1.7.4 in /usr/local/lib/python3.10/dist-packages (from spacy<3.8.0,>=3.7.2->en-core-web-md==3.7.1) (2.6.3)\n",
      "Requirement already satisfied: jinja2 in /usr/local/lib/python3.10/dist-packages (from spacy<3.8.0,>=3.7.2->en-core-web-md==3.7.1) (3.1.3)\n",
      "Requirement already satisfied: setuptools in /usr/local/lib/python3.10/dist-packages (from spacy<3.8.0,>=3.7.2->en-core-web-md==3.7.1) (67.7.2)\n",
      "Requirement already satisfied: packaging>=20.0 in /usr/local/lib/python3.10/dist-packages (from spacy<3.8.0,>=3.7.2->en-core-web-md==3.7.1) (23.2)\n",
      "Requirement already satisfied: langcodes<4.0.0,>=3.2.0 in /usr/local/lib/python3.10/dist-packages (from spacy<3.8.0,>=3.7.2->en-core-web-md==3.7.1) (3.3.0)\n",
      "Requirement already satisfied: numpy>=1.19.0 in /usr/local/lib/python3.10/dist-packages (from spacy<3.8.0,>=3.7.2->en-core-web-md==3.7.1) (1.25.2)\n",
      "Requirement already satisfied: annotated-types>=0.4.0 in /usr/local/lib/python3.10/dist-packages (from pydantic!=1.8,!=1.8.1,<3.0.0,>=1.7.4->spacy<3.8.0,>=3.7.2->en-core-web-md==3.7.1) (0.6.0)\n",
      "Requirement already satisfied: pydantic-core==2.16.3 in /usr/local/lib/python3.10/dist-packages (from pydantic!=1.8,!=1.8.1,<3.0.0,>=1.7.4->spacy<3.8.0,>=3.7.2->en-core-web-md==3.7.1) (2.16.3)\n",
      "Requirement already satisfied: typing-extensions>=4.6.1 in /usr/local/lib/python3.10/dist-packages (from pydantic!=1.8,!=1.8.1,<3.0.0,>=1.7.4->spacy<3.8.0,>=3.7.2->en-core-web-md==3.7.1) (4.10.0)\n",
      "Requirement already satisfied: charset-normalizer<4,>=2 in /usr/local/lib/python3.10/dist-packages (from requests<3.0.0,>=2.13.0->spacy<3.8.0,>=3.7.2->en-core-web-md==3.7.1) (3.3.2)\n",
      "Requirement already satisfied: idna<4,>=2.5 in /usr/local/lib/python3.10/dist-packages (from requests<3.0.0,>=2.13.0->spacy<3.8.0,>=3.7.2->en-core-web-md==3.7.1) (3.6)\n",
      "Requirement already satisfied: urllib3<3,>=1.21.1 in /usr/local/lib/python3.10/dist-packages (from requests<3.0.0,>=2.13.0->spacy<3.8.0,>=3.7.2->en-core-web-md==3.7.1) (2.0.7)\n",
      "Requirement already satisfied: certifi>=2017.4.17 in /usr/local/lib/python3.10/dist-packages (from requests<3.0.0,>=2.13.0->spacy<3.8.0,>=3.7.2->en-core-web-md==3.7.1) (2024.2.2)\n",
      "Requirement already satisfied: blis<0.8.0,>=0.7.8 in /usr/local/lib/python3.10/dist-packages (from thinc<8.3.0,>=8.2.2->spacy<3.8.0,>=3.7.2->en-core-web-md==3.7.1) (0.7.11)\n",
      "Requirement already satisfied: confection<1.0.0,>=0.0.1 in /usr/local/lib/python3.10/dist-packages (from thinc<8.3.0,>=8.2.2->spacy<3.8.0,>=3.7.2->en-core-web-md==3.7.1) (0.1.4)\n",
      "Requirement already satisfied: click<9.0.0,>=7.1.1 in /usr/local/lib/python3.10/dist-packages (from typer<0.10.0,>=0.3.0->spacy<3.8.0,>=3.7.2->en-core-web-md==3.7.1) (8.1.7)\n",
      "Requirement already satisfied: cloudpathlib<0.17.0,>=0.7.0 in /usr/local/lib/python3.10/dist-packages (from weasel<0.4.0,>=0.1.0->spacy<3.8.0,>=3.7.2->en-core-web-md==3.7.1) (0.16.0)\n",
      "Requirement already satisfied: MarkupSafe>=2.0 in /usr/local/lib/python3.10/dist-packages (from jinja2->spacy<3.8.0,>=3.7.2->en-core-web-md==3.7.1) (2.1.5)\n",
      "Installing collected packages: en-core-web-md\n",
      "Successfully installed en-core-web-md-3.7.1\n",
      "\u001b[38;5;2m✔ Download and installation successful\u001b[0m\n",
      "You can now load the package via spacy.load('en_core_web_md')\n",
      "\u001b[38;5;3m⚠ Restart to reload dependencies\u001b[0m\n",
      "If you are in a Jupyter or Colab notebook, you may need to restart Python in\n",
      "order to load all the package's dependencies. You can do this by selecting the\n",
      "'Restart kernel' or 'Restart runtime' option.\n"
     ]
    }
   ],
   "source": [
    "#if you get any error related to en_core_web_sm it may be related to you python version.\n",
    "#you can then try replacing 'python3' with 'python' and 'pip3' with 'pip'.\n",
    "\n",
    "!pip3 install gensim numpy pandas spacy scikit-learn joblib seaborn matplotlib tensorflow nltk keras\n",
    "!python -m spacy download en_core_web_md"
   ]
  },
  {
   "cell_type": "code",
   "execution_count": 4,
   "metadata": {
    "id": "L9fY060-EzI1"
   },
   "outputs": [],
   "source": [
    "import spacy\n",
    "import pandas as pd"
   ]
  },
  {
   "cell_type": "code",
   "execution_count": 5,
   "metadata": {
    "id": "YBK7WdneE9ym"
   },
   "outputs": [],
   "source": [
    "nlp = spacy.load(\"en_core_web_md\")"
   ]
  },
  {
   "cell_type": "code",
   "execution_count": 6,
   "metadata": {
    "colab": {
     "base_uri": "https://localhost:8080/"
    },
    "id": "FsYvERiTFHP6",
    "outputId": "f493c477-9815-49e7-b483-cfa3543266fa"
   },
   "outputs": [
    {
     "name": "stdout",
     "output_type": "stream",
     "text": [
      "Mounted at /gdrive\n",
      "/gdrive\n",
      "/gdrive/MyDrive/TextMining/SemEval2010_task8_all_data\n",
      "my_model.h5\t\t       SemEval2010_task8_testing_keys\n",
      "my_model.keras\t\t       SemEval2010_task8_training\n",
      "SemEval2010_task8_scorer-v1.2  SEMEVAL_TASK8_FULL_RELEASE_README.txt\n",
      "SemEval2010_task8_testing      tokenizer.kv\n"
     ]
    }
   ],
   "source": [
    "# Please uncomment and run this if using googlw colab\n",
    "# from google.colab import drive\n",
    "# drive.mount('/gdrive')\n",
    "# %cd /gdrive\n",
    "# %cd MyDrive/TextMining/SemEval2010_task8_all_data/\n",
    "# !ls"
   ]
  },
  {
   "cell_type": "code",
   "execution_count": 7,
   "metadata": {
    "colab": {
     "base_uri": "https://localhost:8080/"
    },
    "id": "o81MC5E6FzFj",
    "outputId": "8477628b-1bbb-483c-c0ad-f9eecf81cbb7"
   },
   "outputs": [
    {
     "name": "stdout",
     "output_type": "stream",
     "text": [
      "1\t\"The system as described above has its greatest application in an arrayed <e1>configuration</e1> of antenna <e2>elements</e2>.\"\n",
      "Component-Whole(e2,e1)\n",
      "Comment: Not a collection: there is structure here, organisation.\n",
      "\n",
      "2\t\"The <e1>child</e1> was carefully wrapped and bound into the <e2>cradle</e2> by means of a cord.\"\n",
      "Other\n",
      "Comment:\n",
      "\n",
      "3\t\"The <e1>author</e1> of a keygen uses a <e2>disassembler</e2> to look at the raw assembly code.\"\n",
      "Instrument-Agency(e2,e1)\n",
      "Comment:\n"
     ]
    }
   ],
   "source": [
    "lines = [line.strip() for line in open('SemEval2010_task8_training/TRAIN_FILE.TXT')]\n",
    "for line in lines[:11]:\n",
    "  print(line)"
   ]
  },
  {
   "cell_type": "markdown",
   "metadata": {
    "id": "4brs0vPYhw1V"
   },
   "source": [
    "# Creating train and test dataframes"
   ]
  },
  {
   "cell_type": "code",
   "execution_count": 8,
   "metadata": {
    "id": "G3PKSIE0G5oz"
   },
   "outputs": [],
   "source": [
    "records = []\n",
    "for i in range(0, len(lines), 4):\n",
    "\n",
    "  sentence_num, sentence = lines[i].split(\"\\t\")[0], lines[i].split(\"\\t\")[1]\n",
    "  relation = lines[i+1]\n",
    "  comment = lines[i+2]\n",
    "\n",
    "  record = list()\n",
    "  records.append([sentence_num, sentence, relation, comment])\n",
    "\n",
    "df = pd.DataFrame(records, columns=['s.no', 'sentence', 'relation', 'comment'])"
   ]
  },
  {
   "cell_type": "code",
   "execution_count": 9,
   "metadata": {
    "id": "pMbe9qkNKGo_"
   },
   "outputs": [],
   "source": [
    "# we want relations to be numbered classes in our dataframe\n",
    "# hence, we create a mapping between relations and their corresponding ids\n",
    "relation_ids = {\n",
    "    \"Other\": 0,\n",
    "    \"Message-Topic(e1,e2)\": 1,\n",
    "    \"Message-Topic(e2,e1)\": 2,\n",
    "    \"Product-Producer(e1,e2)\": 3,\n",
    "    \"Product-Producer(e2,e1)\": 4,\n",
    "    \"Instrument-Agency(e1,e2)\": 5,\n",
    "    \"Instrument-Agency(e2,e1)\": 6,\n",
    "    \"Entity-Destination(e1,e2)\": 7,\n",
    "    \"Entity-Destination(e2,e1)\": 8,\n",
    "    \"Cause-Effect(e1,e2)\": 9,\n",
    "    \"Cause-Effect(e2,e1)\": 10,\n",
    "    \"Component-Whole(e1,e2)\": 11,\n",
    "    \"Component-Whole(e2,e1)\": 12,\n",
    "    \"Entity-Origin(e1,e2)\": 13,\n",
    "    \"Entity-Origin(e2,e1)\": 14,\n",
    "    \"Member-Collection(e1,e2)\": 15,\n",
    "    \"Member-Collection(e2,e1)\": 16,\n",
    "    \"Content-Container(e1,e2)\": 17,\n",
    "    \"Content-Container(e2,e1)\": 18,\n",
    "}"
   ]
  },
  {
   "cell_type": "code",
   "execution_count": 10,
   "metadata": {
    "id": "cFofhtw4BruF"
   },
   "outputs": [],
   "source": [
    "df[\"relation\"] = df[\"relation\"].map(relation_ids)"
   ]
  },
  {
   "cell_type": "code",
   "execution_count": 11,
   "metadata": {
    "colab": {
     "base_uri": "https://localhost:8080/",
     "height": 206
    },
    "id": "qGNqXZxnMZuY",
    "outputId": "6a4635be-6dcf-4dff-d64e-c355f5473e8e"
   },
   "outputs": [
    {
     "data": {
      "application/vnd.google.colaboratory.intrinsic+json": {
       "summary": "{\n  \"name\": \"df\",\n  \"rows\": 8000,\n  \"fields\": [\n    {\n      \"column\": \"s.no\",\n      \"properties\": {\n        \"dtype\": \"string\",\n        \"num_unique_values\": 8000,\n        \"samples\": [\n          \"2216\",\n          \"2583\",\n          \"1663\"\n        ],\n        \"semantic_type\": \"\",\n        \"description\": \"\"\n      }\n    },\n    {\n      \"column\": \"sentence\",\n      \"properties\": {\n        \"dtype\": \"string\",\n        \"num_unique_values\": 8000,\n        \"samples\": [\n          \"\\\"The inhabitants send messages to each other by placing the <e1>message</e1> in a <e2>capsule</e2> and placing the capsule in a message tube.\\\"\",\n          \"\\\"I placed the <e1>cache</e1> in a natural <e2>cavity</e2>, at the base of a part of the fallen arch.\\\"\",\n          \"\\\"Since then, millions of <e1>dollars</e1> have gone into <e2>reconstructions</e2> for victims of tsunami in 2004.\\\"\"\n        ],\n        \"semantic_type\": \"\",\n        \"description\": \"\"\n      }\n    },\n    {\n      \"column\": \"relation\",\n      \"properties\": {\n        \"dtype\": \"number\",\n        \"std\": 5,\n        \"min\": 0,\n        \"max\": 18,\n        \"num_unique_values\": 19,\n        \"samples\": [\n          12,\n          7,\n          9\n        ],\n        \"semantic_type\": \"\",\n        \"description\": \"\"\n      }\n    },\n    {\n      \"column\": \"comment\",\n      \"properties\": {\n        \"dtype\": \"category\",\n        \"num_unique_values\": 1434,\n        \"samples\": [\n          \"Comment: (a) satisfied\",\n          \"Comment: head is not a product\",\n          \"Comment: wall is not a producer\"\n        ],\n        \"semantic_type\": \"\",\n        \"description\": \"\"\n      }\n    }\n  ]\n}",
       "type": "dataframe",
       "variable_name": "df"
      },
      "text/html": [
       "\n",
       "  <div id=\"df-c25db4a1-55c5-4bac-91bf-1cca8580ec01\" class=\"colab-df-container\">\n",
       "    <div>\n",
       "<style scoped>\n",
       "    .dataframe tbody tr th:only-of-type {\n",
       "        vertical-align: middle;\n",
       "    }\n",
       "\n",
       "    .dataframe tbody tr th {\n",
       "        vertical-align: top;\n",
       "    }\n",
       "\n",
       "    .dataframe thead th {\n",
       "        text-align: right;\n",
       "    }\n",
       "</style>\n",
       "<table border=\"1\" class=\"dataframe\">\n",
       "  <thead>\n",
       "    <tr style=\"text-align: right;\">\n",
       "      <th></th>\n",
       "      <th>s.no</th>\n",
       "      <th>sentence</th>\n",
       "      <th>relation</th>\n",
       "      <th>comment</th>\n",
       "    </tr>\n",
       "  </thead>\n",
       "  <tbody>\n",
       "    <tr>\n",
       "      <th>0</th>\n",
       "      <td>1</td>\n",
       "      <td>\"The system as described above has its greates...</td>\n",
       "      <td>12</td>\n",
       "      <td>Comment: Not a collection: there is structure ...</td>\n",
       "    </tr>\n",
       "    <tr>\n",
       "      <th>1</th>\n",
       "      <td>2</td>\n",
       "      <td>\"The &lt;e1&gt;child&lt;/e1&gt; was carefully wrapped and ...</td>\n",
       "      <td>0</td>\n",
       "      <td>Comment:</td>\n",
       "    </tr>\n",
       "    <tr>\n",
       "      <th>2</th>\n",
       "      <td>3</td>\n",
       "      <td>\"The &lt;e1&gt;author&lt;/e1&gt; of a keygen uses a &lt;e2&gt;di...</td>\n",
       "      <td>6</td>\n",
       "      <td>Comment:</td>\n",
       "    </tr>\n",
       "    <tr>\n",
       "      <th>3</th>\n",
       "      <td>4</td>\n",
       "      <td>\"A misty &lt;e1&gt;ridge&lt;/e1&gt; uprises from the &lt;e2&gt;s...</td>\n",
       "      <td>0</td>\n",
       "      <td>Comment:</td>\n",
       "    </tr>\n",
       "    <tr>\n",
       "      <th>4</th>\n",
       "      <td>5</td>\n",
       "      <td>\"The &lt;e1&gt;student&lt;/e1&gt; &lt;e2&gt;association&lt;/e2&gt; is ...</td>\n",
       "      <td>15</td>\n",
       "      <td>Comment:</td>\n",
       "    </tr>\n",
       "  </tbody>\n",
       "</table>\n",
       "</div>\n",
       "    <div class=\"colab-df-buttons\">\n",
       "\n",
       "  <div class=\"colab-df-container\">\n",
       "    <button class=\"colab-df-convert\" onclick=\"convertToInteractive('df-c25db4a1-55c5-4bac-91bf-1cca8580ec01')\"\n",
       "            title=\"Convert this dataframe to an interactive table.\"\n",
       "            style=\"display:none;\">\n",
       "\n",
       "  <svg xmlns=\"http://www.w3.org/2000/svg\" height=\"24px\" viewBox=\"0 -960 960 960\">\n",
       "    <path d=\"M120-120v-720h720v720H120Zm60-500h600v-160H180v160Zm220 220h160v-160H400v160Zm0 220h160v-160H400v160ZM180-400h160v-160H180v160Zm440 0h160v-160H620v160ZM180-180h160v-160H180v160Zm440 0h160v-160H620v160Z\"/>\n",
       "  </svg>\n",
       "    </button>\n",
       "\n",
       "  <style>\n",
       "    .colab-df-container {\n",
       "      display:flex;\n",
       "      gap: 12px;\n",
       "    }\n",
       "\n",
       "    .colab-df-convert {\n",
       "      background-color: #E8F0FE;\n",
       "      border: none;\n",
       "      border-radius: 50%;\n",
       "      cursor: pointer;\n",
       "      display: none;\n",
       "      fill: #1967D2;\n",
       "      height: 32px;\n",
       "      padding: 0 0 0 0;\n",
       "      width: 32px;\n",
       "    }\n",
       "\n",
       "    .colab-df-convert:hover {\n",
       "      background-color: #E2EBFA;\n",
       "      box-shadow: 0px 1px 2px rgba(60, 64, 67, 0.3), 0px 1px 3px 1px rgba(60, 64, 67, 0.15);\n",
       "      fill: #174EA6;\n",
       "    }\n",
       "\n",
       "    .colab-df-buttons div {\n",
       "      margin-bottom: 4px;\n",
       "    }\n",
       "\n",
       "    [theme=dark] .colab-df-convert {\n",
       "      background-color: #3B4455;\n",
       "      fill: #D2E3FC;\n",
       "    }\n",
       "\n",
       "    [theme=dark] .colab-df-convert:hover {\n",
       "      background-color: #434B5C;\n",
       "      box-shadow: 0px 1px 3px 1px rgba(0, 0, 0, 0.15);\n",
       "      filter: drop-shadow(0px 1px 2px rgba(0, 0, 0, 0.3));\n",
       "      fill: #FFFFFF;\n",
       "    }\n",
       "  </style>\n",
       "\n",
       "    <script>\n",
       "      const buttonEl =\n",
       "        document.querySelector('#df-c25db4a1-55c5-4bac-91bf-1cca8580ec01 button.colab-df-convert');\n",
       "      buttonEl.style.display =\n",
       "        google.colab.kernel.accessAllowed ? 'block' : 'none';\n",
       "\n",
       "      async function convertToInteractive(key) {\n",
       "        const element = document.querySelector('#df-c25db4a1-55c5-4bac-91bf-1cca8580ec01');\n",
       "        const dataTable =\n",
       "          await google.colab.kernel.invokeFunction('convertToInteractive',\n",
       "                                                    [key], {});\n",
       "        if (!dataTable) return;\n",
       "\n",
       "        const docLinkHtml = 'Like what you see? Visit the ' +\n",
       "          '<a target=\"_blank\" href=https://colab.research.google.com/notebooks/data_table.ipynb>data table notebook</a>'\n",
       "          + ' to learn more about interactive tables.';\n",
       "        element.innerHTML = '';\n",
       "        dataTable['output_type'] = 'display_data';\n",
       "        await google.colab.output.renderOutput(dataTable, element);\n",
       "        const docLink = document.createElement('div');\n",
       "        docLink.innerHTML = docLinkHtml;\n",
       "        element.appendChild(docLink);\n",
       "      }\n",
       "    </script>\n",
       "  </div>\n",
       "\n",
       "\n",
       "<div id=\"df-2c72d48c-dff2-4def-ad45-716df277a9e2\">\n",
       "  <button class=\"colab-df-quickchart\" onclick=\"quickchart('df-2c72d48c-dff2-4def-ad45-716df277a9e2')\"\n",
       "            title=\"Suggest charts\"\n",
       "            style=\"display:none;\">\n",
       "\n",
       "<svg xmlns=\"http://www.w3.org/2000/svg\" height=\"24px\"viewBox=\"0 0 24 24\"\n",
       "     width=\"24px\">\n",
       "    <g>\n",
       "        <path d=\"M19 3H5c-1.1 0-2 .9-2 2v14c0 1.1.9 2 2 2h14c1.1 0 2-.9 2-2V5c0-1.1-.9-2-2-2zM9 17H7v-7h2v7zm4 0h-2V7h2v10zm4 0h-2v-4h2v4z\"/>\n",
       "    </g>\n",
       "</svg>\n",
       "  </button>\n",
       "\n",
       "<style>\n",
       "  .colab-df-quickchart {\n",
       "      --bg-color: #E8F0FE;\n",
       "      --fill-color: #1967D2;\n",
       "      --hover-bg-color: #E2EBFA;\n",
       "      --hover-fill-color: #174EA6;\n",
       "      --disabled-fill-color: #AAA;\n",
       "      --disabled-bg-color: #DDD;\n",
       "  }\n",
       "\n",
       "  [theme=dark] .colab-df-quickchart {\n",
       "      --bg-color: #3B4455;\n",
       "      --fill-color: #D2E3FC;\n",
       "      --hover-bg-color: #434B5C;\n",
       "      --hover-fill-color: #FFFFFF;\n",
       "      --disabled-bg-color: #3B4455;\n",
       "      --disabled-fill-color: #666;\n",
       "  }\n",
       "\n",
       "  .colab-df-quickchart {\n",
       "    background-color: var(--bg-color);\n",
       "    border: none;\n",
       "    border-radius: 50%;\n",
       "    cursor: pointer;\n",
       "    display: none;\n",
       "    fill: var(--fill-color);\n",
       "    height: 32px;\n",
       "    padding: 0;\n",
       "    width: 32px;\n",
       "  }\n",
       "\n",
       "  .colab-df-quickchart:hover {\n",
       "    background-color: var(--hover-bg-color);\n",
       "    box-shadow: 0 1px 2px rgba(60, 64, 67, 0.3), 0 1px 3px 1px rgba(60, 64, 67, 0.15);\n",
       "    fill: var(--button-hover-fill-color);\n",
       "  }\n",
       "\n",
       "  .colab-df-quickchart-complete:disabled,\n",
       "  .colab-df-quickchart-complete:disabled:hover {\n",
       "    background-color: var(--disabled-bg-color);\n",
       "    fill: var(--disabled-fill-color);\n",
       "    box-shadow: none;\n",
       "  }\n",
       "\n",
       "  .colab-df-spinner {\n",
       "    border: 2px solid var(--fill-color);\n",
       "    border-color: transparent;\n",
       "    border-bottom-color: var(--fill-color);\n",
       "    animation:\n",
       "      spin 1s steps(1) infinite;\n",
       "  }\n",
       "\n",
       "  @keyframes spin {\n",
       "    0% {\n",
       "      border-color: transparent;\n",
       "      border-bottom-color: var(--fill-color);\n",
       "      border-left-color: var(--fill-color);\n",
       "    }\n",
       "    20% {\n",
       "      border-color: transparent;\n",
       "      border-left-color: var(--fill-color);\n",
       "      border-top-color: var(--fill-color);\n",
       "    }\n",
       "    30% {\n",
       "      border-color: transparent;\n",
       "      border-left-color: var(--fill-color);\n",
       "      border-top-color: var(--fill-color);\n",
       "      border-right-color: var(--fill-color);\n",
       "    }\n",
       "    40% {\n",
       "      border-color: transparent;\n",
       "      border-right-color: var(--fill-color);\n",
       "      border-top-color: var(--fill-color);\n",
       "    }\n",
       "    60% {\n",
       "      border-color: transparent;\n",
       "      border-right-color: var(--fill-color);\n",
       "    }\n",
       "    80% {\n",
       "      border-color: transparent;\n",
       "      border-right-color: var(--fill-color);\n",
       "      border-bottom-color: var(--fill-color);\n",
       "    }\n",
       "    90% {\n",
       "      border-color: transparent;\n",
       "      border-bottom-color: var(--fill-color);\n",
       "    }\n",
       "  }\n",
       "</style>\n",
       "\n",
       "  <script>\n",
       "    async function quickchart(key) {\n",
       "      const quickchartButtonEl =\n",
       "        document.querySelector('#' + key + ' button');\n",
       "      quickchartButtonEl.disabled = true;  // To prevent multiple clicks.\n",
       "      quickchartButtonEl.classList.add('colab-df-spinner');\n",
       "      try {\n",
       "        const charts = await google.colab.kernel.invokeFunction(\n",
       "            'suggestCharts', [key], {});\n",
       "      } catch (error) {\n",
       "        console.error('Error during call to suggestCharts:', error);\n",
       "      }\n",
       "      quickchartButtonEl.classList.remove('colab-df-spinner');\n",
       "      quickchartButtonEl.classList.add('colab-df-quickchart-complete');\n",
       "    }\n",
       "    (() => {\n",
       "      let quickchartButtonEl =\n",
       "        document.querySelector('#df-2c72d48c-dff2-4def-ad45-716df277a9e2 button');\n",
       "      quickchartButtonEl.style.display =\n",
       "        google.colab.kernel.accessAllowed ? 'block' : 'none';\n",
       "    })();\n",
       "  </script>\n",
       "</div>\n",
       "    </div>\n",
       "  </div>\n"
      ],
      "text/plain": [
       "  s.no                                           sentence  relation  \\\n",
       "0    1  \"The system as described above has its greates...        12   \n",
       "1    2  \"The <e1>child</e1> was carefully wrapped and ...         0   \n",
       "2    3  \"The <e1>author</e1> of a keygen uses a <e2>di...         6   \n",
       "3    4  \"A misty <e1>ridge</e1> uprises from the <e2>s...         0   \n",
       "4    5  \"The <e1>student</e1> <e2>association</e2> is ...        15   \n",
       "\n",
       "                                             comment  \n",
       "0  Comment: Not a collection: there is structure ...  \n",
       "1                                           Comment:  \n",
       "2                                           Comment:  \n",
       "3                                           Comment:  \n",
       "4                                           Comment:  "
      ]
     },
     "execution_count": 11,
     "metadata": {},
     "output_type": "execute_result"
    }
   ],
   "source": [
    "df.head()"
   ]
  },
  {
   "cell_type": "code",
   "execution_count": 12,
   "metadata": {
    "id": "ThAbu2_6LTc2"
   },
   "outputs": [],
   "source": [
    "lines = [line.strip() for line in open('SemEval2010_task8_testing_keys/TEST_FILE_FULL.TXT')]\n",
    "\n",
    "records = []\n",
    "for i in range(0, len(lines), 4):\n",
    "\n",
    "  sentence_num, sentence = lines[i].split(\"\\t\")[0], lines[i].split(\"\\t\")[1]\n",
    "  relation = lines[i+1]\n",
    "  comment = lines[i+2]\n",
    "\n",
    "  record = list()\n",
    "  records.append([sentence_num, sentence, relation, comment])\n",
    "\n",
    "test_df = pd.DataFrame(records, columns=['s.no', 'sentence', 'relation', 'comment'])\n",
    "\n",
    "test_df[\"relation\"] = test_df[\"relation\"].map(relation_ids)"
   ]
  },
  {
   "cell_type": "code",
   "execution_count": 13,
   "metadata": {
    "colab": {
     "base_uri": "https://localhost:8080/",
     "height": 206
    },
    "id": "4YNJMgeoLnGU",
    "outputId": "40f37add-51f5-40a2-b0e0-09a4332798e2"
   },
   "outputs": [
    {
     "data": {
      "application/vnd.google.colaboratory.intrinsic+json": {
       "summary": "{\n  \"name\": \"test_df\",\n  \"rows\": 2717,\n  \"fields\": [\n    {\n      \"column\": \"s.no\",\n      \"properties\": {\n        \"dtype\": \"string\",\n        \"num_unique_values\": 2717,\n        \"samples\": [\n          \"10072\",\n          \"8444\",\n          \"9398\"\n        ],\n        \"semantic_type\": \"\",\n        \"description\": \"\"\n      }\n    },\n    {\n      \"column\": \"sentence\",\n      \"properties\": {\n        \"dtype\": \"string\",\n        \"num_unique_values\": 2717,\n        \"samples\": [\n          \"\\\"The <e1>letter</e1> contains instructions for completion, and encloses a blank <e2>copy</e2> of the Assurance of Compliance.\\\"\",\n          \"\\\"The outlet has the single L-shaped prong for the dryer, but the <e1>oven</e1> has the standard 3-prong flat <e2>plug</e2>.\\\"\",\n          \"\\\"Pressure <e1>regulation</e1> using the <e2>valve</e2> and different amounts of fluid goes a long way in keeping your hydraulic log splitter in action.\\\"\"\n        ],\n        \"semantic_type\": \"\",\n        \"description\": \"\"\n      }\n    },\n    {\n      \"column\": \"relation\",\n      \"properties\": {\n        \"dtype\": \"number\",\n        \"std\": 5,\n        \"min\": 0,\n        \"max\": 18,\n        \"num_unique_values\": 19,\n        \"samples\": [\n          1,\n          11,\n          14\n        ],\n        \"semantic_type\": \"\",\n        \"description\": \"\"\n      }\n    },\n    {\n      \"column\": \"comment\",\n      \"properties\": {\n        \"dtype\": \"category\",\n        \"num_unique_values\": 529,\n        \"samples\": [\n          \"Comment: participation = Other; symposium is closer to workshop/conference than to gathering, so Other.\",\n          \"Comment: the modality is in the next clause.\",\n          \"Comment: the company is involved in the making of landscapes; modality is outside\"\n        ],\n        \"semantic_type\": \"\",\n        \"description\": \"\"\n      }\n    }\n  ]\n}",
       "type": "dataframe",
       "variable_name": "test_df"
      },
      "text/html": [
       "\n",
       "  <div id=\"df-3d2f376f-9158-4aa0-b41a-8a6405ba4373\" class=\"colab-df-container\">\n",
       "    <div>\n",
       "<style scoped>\n",
       "    .dataframe tbody tr th:only-of-type {\n",
       "        vertical-align: middle;\n",
       "    }\n",
       "\n",
       "    .dataframe tbody tr th {\n",
       "        vertical-align: top;\n",
       "    }\n",
       "\n",
       "    .dataframe thead th {\n",
       "        text-align: right;\n",
       "    }\n",
       "</style>\n",
       "<table border=\"1\" class=\"dataframe\">\n",
       "  <thead>\n",
       "    <tr style=\"text-align: right;\">\n",
       "      <th></th>\n",
       "      <th>s.no</th>\n",
       "      <th>sentence</th>\n",
       "      <th>relation</th>\n",
       "      <th>comment</th>\n",
       "    </tr>\n",
       "  </thead>\n",
       "  <tbody>\n",
       "    <tr>\n",
       "      <th>0</th>\n",
       "      <td>8001</td>\n",
       "      <td>\"The most common &lt;e1&gt;audits&lt;/e1&gt; were about &lt;e...</td>\n",
       "      <td>1</td>\n",
       "      <td>Comment: Assuming an audit = an audit document.</td>\n",
       "    </tr>\n",
       "    <tr>\n",
       "      <th>1</th>\n",
       "      <td>8002</td>\n",
       "      <td>\"The &lt;e1&gt;company&lt;/e1&gt; fabricates plastic &lt;e2&gt;c...</td>\n",
       "      <td>4</td>\n",
       "      <td>Comment: (a) is satisfied</td>\n",
       "    </tr>\n",
       "    <tr>\n",
       "      <th>2</th>\n",
       "      <td>8003</td>\n",
       "      <td>\"The school &lt;e1&gt;master&lt;/e1&gt; teaches the lesson...</td>\n",
       "      <td>6</td>\n",
       "      <td>Comment:</td>\n",
       "    </tr>\n",
       "    <tr>\n",
       "      <th>3</th>\n",
       "      <td>8004</td>\n",
       "      <td>\"The suspect dumped the dead &lt;e1&gt;body&lt;/e1&gt; int...</td>\n",
       "      <td>7</td>\n",
       "      <td>Comment:</td>\n",
       "    </tr>\n",
       "    <tr>\n",
       "      <th>4</th>\n",
       "      <td>8005</td>\n",
       "      <td>\"Avian &lt;e1&gt;influenza&lt;/e1&gt; is an infectious dis...</td>\n",
       "      <td>10</td>\n",
       "      <td>Comment:</td>\n",
       "    </tr>\n",
       "  </tbody>\n",
       "</table>\n",
       "</div>\n",
       "    <div class=\"colab-df-buttons\">\n",
       "\n",
       "  <div class=\"colab-df-container\">\n",
       "    <button class=\"colab-df-convert\" onclick=\"convertToInteractive('df-3d2f376f-9158-4aa0-b41a-8a6405ba4373')\"\n",
       "            title=\"Convert this dataframe to an interactive table.\"\n",
       "            style=\"display:none;\">\n",
       "\n",
       "  <svg xmlns=\"http://www.w3.org/2000/svg\" height=\"24px\" viewBox=\"0 -960 960 960\">\n",
       "    <path d=\"M120-120v-720h720v720H120Zm60-500h600v-160H180v160Zm220 220h160v-160H400v160Zm0 220h160v-160H400v160ZM180-400h160v-160H180v160Zm440 0h160v-160H620v160ZM180-180h160v-160H180v160Zm440 0h160v-160H620v160Z\"/>\n",
       "  </svg>\n",
       "    </button>\n",
       "\n",
       "  <style>\n",
       "    .colab-df-container {\n",
       "      display:flex;\n",
       "      gap: 12px;\n",
       "    }\n",
       "\n",
       "    .colab-df-convert {\n",
       "      background-color: #E8F0FE;\n",
       "      border: none;\n",
       "      border-radius: 50%;\n",
       "      cursor: pointer;\n",
       "      display: none;\n",
       "      fill: #1967D2;\n",
       "      height: 32px;\n",
       "      padding: 0 0 0 0;\n",
       "      width: 32px;\n",
       "    }\n",
       "\n",
       "    .colab-df-convert:hover {\n",
       "      background-color: #E2EBFA;\n",
       "      box-shadow: 0px 1px 2px rgba(60, 64, 67, 0.3), 0px 1px 3px 1px rgba(60, 64, 67, 0.15);\n",
       "      fill: #174EA6;\n",
       "    }\n",
       "\n",
       "    .colab-df-buttons div {\n",
       "      margin-bottom: 4px;\n",
       "    }\n",
       "\n",
       "    [theme=dark] .colab-df-convert {\n",
       "      background-color: #3B4455;\n",
       "      fill: #D2E3FC;\n",
       "    }\n",
       "\n",
       "    [theme=dark] .colab-df-convert:hover {\n",
       "      background-color: #434B5C;\n",
       "      box-shadow: 0px 1px 3px 1px rgba(0, 0, 0, 0.15);\n",
       "      filter: drop-shadow(0px 1px 2px rgba(0, 0, 0, 0.3));\n",
       "      fill: #FFFFFF;\n",
       "    }\n",
       "  </style>\n",
       "\n",
       "    <script>\n",
       "      const buttonEl =\n",
       "        document.querySelector('#df-3d2f376f-9158-4aa0-b41a-8a6405ba4373 button.colab-df-convert');\n",
       "      buttonEl.style.display =\n",
       "        google.colab.kernel.accessAllowed ? 'block' : 'none';\n",
       "\n",
       "      async function convertToInteractive(key) {\n",
       "        const element = document.querySelector('#df-3d2f376f-9158-4aa0-b41a-8a6405ba4373');\n",
       "        const dataTable =\n",
       "          await google.colab.kernel.invokeFunction('convertToInteractive',\n",
       "                                                    [key], {});\n",
       "        if (!dataTable) return;\n",
       "\n",
       "        const docLinkHtml = 'Like what you see? Visit the ' +\n",
       "          '<a target=\"_blank\" href=https://colab.research.google.com/notebooks/data_table.ipynb>data table notebook</a>'\n",
       "          + ' to learn more about interactive tables.';\n",
       "        element.innerHTML = '';\n",
       "        dataTable['output_type'] = 'display_data';\n",
       "        await google.colab.output.renderOutput(dataTable, element);\n",
       "        const docLink = document.createElement('div');\n",
       "        docLink.innerHTML = docLinkHtml;\n",
       "        element.appendChild(docLink);\n",
       "      }\n",
       "    </script>\n",
       "  </div>\n",
       "\n",
       "\n",
       "<div id=\"df-15c2ab81-48df-48e5-bc84-e7b25944c165\">\n",
       "  <button class=\"colab-df-quickchart\" onclick=\"quickchart('df-15c2ab81-48df-48e5-bc84-e7b25944c165')\"\n",
       "            title=\"Suggest charts\"\n",
       "            style=\"display:none;\">\n",
       "\n",
       "<svg xmlns=\"http://www.w3.org/2000/svg\" height=\"24px\"viewBox=\"0 0 24 24\"\n",
       "     width=\"24px\">\n",
       "    <g>\n",
       "        <path d=\"M19 3H5c-1.1 0-2 .9-2 2v14c0 1.1.9 2 2 2h14c1.1 0 2-.9 2-2V5c0-1.1-.9-2-2-2zM9 17H7v-7h2v7zm4 0h-2V7h2v10zm4 0h-2v-4h2v4z\"/>\n",
       "    </g>\n",
       "</svg>\n",
       "  </button>\n",
       "\n",
       "<style>\n",
       "  .colab-df-quickchart {\n",
       "      --bg-color: #E8F0FE;\n",
       "      --fill-color: #1967D2;\n",
       "      --hover-bg-color: #E2EBFA;\n",
       "      --hover-fill-color: #174EA6;\n",
       "      --disabled-fill-color: #AAA;\n",
       "      --disabled-bg-color: #DDD;\n",
       "  }\n",
       "\n",
       "  [theme=dark] .colab-df-quickchart {\n",
       "      --bg-color: #3B4455;\n",
       "      --fill-color: #D2E3FC;\n",
       "      --hover-bg-color: #434B5C;\n",
       "      --hover-fill-color: #FFFFFF;\n",
       "      --disabled-bg-color: #3B4455;\n",
       "      --disabled-fill-color: #666;\n",
       "  }\n",
       "\n",
       "  .colab-df-quickchart {\n",
       "    background-color: var(--bg-color);\n",
       "    border: none;\n",
       "    border-radius: 50%;\n",
       "    cursor: pointer;\n",
       "    display: none;\n",
       "    fill: var(--fill-color);\n",
       "    height: 32px;\n",
       "    padding: 0;\n",
       "    width: 32px;\n",
       "  }\n",
       "\n",
       "  .colab-df-quickchart:hover {\n",
       "    background-color: var(--hover-bg-color);\n",
       "    box-shadow: 0 1px 2px rgba(60, 64, 67, 0.3), 0 1px 3px 1px rgba(60, 64, 67, 0.15);\n",
       "    fill: var(--button-hover-fill-color);\n",
       "  }\n",
       "\n",
       "  .colab-df-quickchart-complete:disabled,\n",
       "  .colab-df-quickchart-complete:disabled:hover {\n",
       "    background-color: var(--disabled-bg-color);\n",
       "    fill: var(--disabled-fill-color);\n",
       "    box-shadow: none;\n",
       "  }\n",
       "\n",
       "  .colab-df-spinner {\n",
       "    border: 2px solid var(--fill-color);\n",
       "    border-color: transparent;\n",
       "    border-bottom-color: var(--fill-color);\n",
       "    animation:\n",
       "      spin 1s steps(1) infinite;\n",
       "  }\n",
       "\n",
       "  @keyframes spin {\n",
       "    0% {\n",
       "      border-color: transparent;\n",
       "      border-bottom-color: var(--fill-color);\n",
       "      border-left-color: var(--fill-color);\n",
       "    }\n",
       "    20% {\n",
       "      border-color: transparent;\n",
       "      border-left-color: var(--fill-color);\n",
       "      border-top-color: var(--fill-color);\n",
       "    }\n",
       "    30% {\n",
       "      border-color: transparent;\n",
       "      border-left-color: var(--fill-color);\n",
       "      border-top-color: var(--fill-color);\n",
       "      border-right-color: var(--fill-color);\n",
       "    }\n",
       "    40% {\n",
       "      border-color: transparent;\n",
       "      border-right-color: var(--fill-color);\n",
       "      border-top-color: var(--fill-color);\n",
       "    }\n",
       "    60% {\n",
       "      border-color: transparent;\n",
       "      border-right-color: var(--fill-color);\n",
       "    }\n",
       "    80% {\n",
       "      border-color: transparent;\n",
       "      border-right-color: var(--fill-color);\n",
       "      border-bottom-color: var(--fill-color);\n",
       "    }\n",
       "    90% {\n",
       "      border-color: transparent;\n",
       "      border-bottom-color: var(--fill-color);\n",
       "    }\n",
       "  }\n",
       "</style>\n",
       "\n",
       "  <script>\n",
       "    async function quickchart(key) {\n",
       "      const quickchartButtonEl =\n",
       "        document.querySelector('#' + key + ' button');\n",
       "      quickchartButtonEl.disabled = true;  // To prevent multiple clicks.\n",
       "      quickchartButtonEl.classList.add('colab-df-spinner');\n",
       "      try {\n",
       "        const charts = await google.colab.kernel.invokeFunction(\n",
       "            'suggestCharts', [key], {});\n",
       "      } catch (error) {\n",
       "        console.error('Error during call to suggestCharts:', error);\n",
       "      }\n",
       "      quickchartButtonEl.classList.remove('colab-df-spinner');\n",
       "      quickchartButtonEl.classList.add('colab-df-quickchart-complete');\n",
       "    }\n",
       "    (() => {\n",
       "      let quickchartButtonEl =\n",
       "        document.querySelector('#df-15c2ab81-48df-48e5-bc84-e7b25944c165 button');\n",
       "      quickchartButtonEl.style.display =\n",
       "        google.colab.kernel.accessAllowed ? 'block' : 'none';\n",
       "    })();\n",
       "  </script>\n",
       "</div>\n",
       "    </div>\n",
       "  </div>\n"
      ],
      "text/plain": [
       "   s.no                                           sentence  relation  \\\n",
       "0  8001  \"The most common <e1>audits</e1> were about <e...         1   \n",
       "1  8002  \"The <e1>company</e1> fabricates plastic <e2>c...         4   \n",
       "2  8003  \"The school <e1>master</e1> teaches the lesson...         6   \n",
       "3  8004  \"The suspect dumped the dead <e1>body</e1> int...         7   \n",
       "4  8005  \"Avian <e1>influenza</e1> is an infectious dis...        10   \n",
       "\n",
       "                                           comment  \n",
       "0  Comment: Assuming an audit = an audit document.  \n",
       "1                        Comment: (a) is satisfied  \n",
       "2                                         Comment:  \n",
       "3                                         Comment:  \n",
       "4                                         Comment:  "
      ]
     },
     "execution_count": 13,
     "metadata": {},
     "output_type": "execute_result"
    }
   ],
   "source": [
    "test_df.head()"
   ]
  },
  {
   "cell_type": "code",
   "execution_count": 14,
   "metadata": {
    "id": "JrXjEm5PLJKE"
   },
   "outputs": [],
   "source": [
    "from keras.preprocessing.text import Tokenizer\n",
    "from keras.preprocessing.sequence import pad_sequences\n",
    "import numpy as np\n"
   ]
  },
  {
   "cell_type": "markdown",
   "metadata": {
    "id": "mTgfz16LjJrT"
   },
   "source": [
    "# Making unique index for every word in the datset"
   ]
  },
  {
   "cell_type": "code",
   "execution_count": 15,
   "metadata": {
    "id": "aioKd3uAuu2Y"
   },
   "outputs": [],
   "source": [
    "n_most_common_words = 20000\n",
    "max_len = 100\n",
    "\n",
    "# creating a tokenizer on the given dataset using custom filters\n",
    "tokenizer= Tokenizer(num_words=n_most_common_words, filters= '!\"#$%&().:;-?@[]^_{|}~</>', lower=True)\n",
    "\n",
    "tokenizer.fit_on_texts(df['sentence'].values)\n",
    "\n",
    "sequences=tokenizer.texts_to_sequences(df['sentence'].values)\n",
    "\n",
    "word_index = tokenizer.word_index\n",
    "\n",
    "X = pad_sequences(sequences, maxlen=max_len)"
   ]
  },
  {
   "cell_type": "markdown",
   "metadata": {
    "id": "xPJv3ewlkqQO"
   },
   "source": [
    "# Functions to calculate relative positions and normalize the same\n"
   ]
  },
  {
   "cell_type": "code",
   "execution_count": 16,
   "metadata": {
    "id": "Ksk2n4kinhRS"
   },
   "outputs": [],
   "source": [
    "def calculate_relative_positions(sentence, e1_pos, e2_pos):\n",
    "    '''\n",
    "    Parmaeters:\n",
    "    - sentence\n",
    "    - positon of e1 in the sentence\n",
    "    - position of e2 in the sentence\n",
    "\n",
    "    Returns relative positions\n",
    "    '''\n",
    "    words = sentence.split()  # Split the sentence into words\n",
    "    pos1 = [(i - e1_pos + 100)/100 for i in range(len(words))]  # Calculate relative positions for e1\n",
    "    pos2 = [(i - e2_pos + 100)/100 for i in range(len(words))]  # Calculate relative positions for e2\n",
    "    return pos1, pos2\n",
    "\n",
    "def find_entity_positions(sentence):\n",
    "    '''\n",
    "    function to return relative positions of all elements with respect to e1 and e2 with padding.\n",
    "    '''\n",
    "    e1_pos = -1\n",
    "    e2_pos = -1\n",
    "    words = sentence.split()  # Split the sentence into words\n",
    "    for idx, word in enumerate(words):\n",
    "        if \"<e1>\" in word and \"</e1>\" in word:\n",
    "            e1_pos = idx\n",
    "        elif \"<e2>\" in word and \"</e2>\" in word:\n",
    "            e2_pos = idx\n",
    "    pos1,pos2 = calculate_relative_positions(sentence,e1_pos,e2_pos)\n",
    "    pos1 = pad_sequences([pos1], maxlen=max_len, dtype='float32')\n",
    "    pos2=pad_sequences([pos2], maxlen=max_len, dtype='float32')\n",
    "    return pos1, pos2"
   ]
  },
  {
   "cell_type": "code",
   "execution_count": 17,
   "metadata": {
    "id": "hweDGbm8pjYH"
   },
   "outputs": [],
   "source": [
    "#Finding relative distance for every sentence and making a numpy array\n",
    "pos1_list = []\n",
    "pos2_list = []\n",
    "\n",
    "for sentence in df['sentence'].values:\n",
    "    e1_pos, e2_pos = find_entity_positions(sentence)\n",
    "    pos1_list.append(e1_pos)\n",
    "    pos2_list.append(e2_pos)\n",
    "\n",
    "pos1_array = np.array(pos1_list)\n",
    "pos2_array = np.array(pos2_list)\n",
    "pos1_array = pos1_array.reshape(pos1_array.shape[0], pos1_array.shape[2])\n",
    "pos2_array = pos2_array.reshape(pos2_array.shape[0], pos2_array.shape[2])"
   ]
  },
  {
   "cell_type": "markdown",
   "metadata": {},
   "source": [
    "## Part-of-Speech tagging"
   ]
  },
  {
   "cell_type": "code",
   "execution_count": 18,
   "metadata": {
    "id": "etODMAqpZLhD"
   },
   "outputs": [],
   "source": [
    "def pos_to_numerical(sentences):\n",
    "    '''\n",
    "    Function that returns Part-of-Speech(POS) tags of all words in the sentence\n",
    "    We convert the POS tags to numbers so that it can be used in the model.\n",
    "    '''\n",
    "    pos_encoded = []\n",
    "    for sentence in sentences:\n",
    "        # Process the sentence using spaCy\n",
    "        doc = nlp(sentence)\n",
    "        # Extract POS tags and filter out unwanted tags\n",
    "        pos_tags = [token.tag_ for token in doc if token.text not in ['<','>','/','\"','.']]\n",
    "        # Convert POS tags to numerical values (you may need to encode them differently based on your requirements)\n",
    "        pos_encoded_sentence = [ord(tag[0]) for tag in pos_tags]  # Example encoding\n",
    "        pos_encoded.append(pos_encoded_sentence)\n",
    "    return pos_encoded\n",
    "\n",
    "# Convert 'sentence' column to numerical POS tags\n",
    "numerical_pos_tags = pos_to_numerical(df['sentence'].values)\n",
    "\n",
    "# Pad sequences to a fixed length\n",
    "max_len = 100\n",
    "padded_sequences = pad_sequences(numerical_pos_tags, maxlen=max_len)\n",
    "\n"
   ]
  },
  {
   "cell_type": "code",
   "execution_count": 19,
   "metadata": {
    "id": "xD6O3mFUyVJ7"
   },
   "outputs": [],
   "source": [
    " #The to_categorical function from Keras converts categorical class labels into one-hot encoded vectors.\n",
    " from keras.utils import to_categorical\n",
    " labels=to_categorical(df['relation'], num_classes=len(df.relation.unique()))\n",
    " X_train, y_train = X, labels"
   ]
  },
  {
   "cell_type": "code",
   "execution_count": 20,
   "metadata": {
    "id": "7T5YfxRi6y33"
   },
   "outputs": [],
   "source": [
    "import tensorflow as tf\n",
    "from keras.models import Sequential\n",
    "from keras.layers import Embedding\n",
    "from keras.layers import Bidirectional\n",
    "from keras.layers import LSTM\n",
    "from keras.layers import Dense,Layer\n",
    "from keras.layers import Input\n",
    "from keras.layers import concatenate, Masking\n",
    "from keras.models import Model\n",
    "import matplotlib.pyplot as plt"
   ]
  },
  {
   "cell_type": "markdown",
   "metadata": {
    "id": "WrnY2Hj6qbnc"
   },
   "source": [
    "## Initializing an embedding layer in Keras using pre-trained word vectors from SpaCy, constructing an embedding matrix using word_index."
   ]
  },
  {
   "cell_type": "code",
   "execution_count": 21,
   "metadata": {
    "id": "DQfI0LbkR76f"
   },
   "outputs": [],
   "source": [
    "\n",
    "# Create an embedding matrix from SpaCy word vectors\n",
    "embedding_size = nlp.vocab.vectors_length\n",
    "num_words = len(tokenizer.word_index) + 1\n",
    "embedding_matrix = np.zeros((num_words, embedding_size))\n",
    "\n",
    "# List to hold word vectors\n",
    "word_vectors = []\n",
    "\n",
    "# Iterate over the word index and handle out-of-vocabulary words\n",
    "for word, i in tokenizer.word_index.items():\n",
    "    if i >= num_words:\n",
    "        continue\n",
    "    if word in nlp.vocab:\n",
    "        word_vectors.append(nlp.vocab[word].vector)\n",
    "    else:\n",
    "        # Handle out-of-vocabulary words (e.g., by assigning a random vector)\n",
    "        word_vectors.append(np.random.normal(size=embedding_size))\n",
    "\n",
    "# Convert the list of word vectors to a NumPy array\n",
    "embedding_matrix[:len(word_vectors)] = np.array(word_vectors)\n",
    "\n",
    "# Define the embedding layer using the embedding matrix\n",
    "embedding_layer = Embedding(num_words, embedding_size, weights=[embedding_matrix],\n",
    "                            input_length=max_len, trainable=False)"
   ]
  },
  {
   "cell_type": "markdown",
   "metadata": {
    "id": "YsPAMBuKrOkM"
   },
   "source": [
    "### Defining input layers for word indices, positional sequence e1, positional sequence e2, and padded sequences, and creates corresponding embedding layers with specified dimensions and lengths."
   ]
  },
  {
   "cell_type": "code",
   "execution_count": 22,
   "metadata": {
    "id": "97jKZWxRife_"
   },
   "outputs": [],
   "source": [
    "word_input = Input(shape=(None,))\n",
    "word_embedding = embedding_layer(word_input)\n",
    "input_seq_pos1 = Input(shape=(None,))\n",
    "embed_seq_pos1 = Embedding(2,100,input_length=max_len,trainable=True)(input_seq_pos1)\n",
    "input_seq_pos2 = Input(shape=(None,))\n",
    "embed_seq_pos2 = Embedding(2,100,input_length=max_len,trainable=True)(input_seq_pos2)\n",
    "input_padded_sequences = Input(shape=(None,))\n",
    "embed_padded_sequences = Embedding(1000, 100, input_length=max_len, trainable=True)(input_padded_sequences)"
   ]
  },
  {
   "cell_type": "markdown",
   "metadata": {
    "id": "LuxEEdTtr8oD"
   },
   "source": [
    "## Making the model with Bidirectional LSTM layers, incorporating an attention mechanism using a custom AttentionLayer"
   ]
  },
  {
   "cell_type": "code",
   "execution_count": 23,
   "metadata": {
    "colab": {
     "base_uri": "https://localhost:8080/"
    },
    "id": "IDPBS0a56y6k",
    "outputId": "335d8397-96d3-4e38-80ff-8b94ad8132b4"
   },
   "outputs": [
    {
     "name": "stdout",
     "output_type": "stream",
     "text": [
      "Model: \"model\"\n",
      "__________________________________________________________________________________________________\n",
      " Layer (type)                Output Shape                 Param #   Connected to                  \n",
      "==================================================================================================\n",
      " input_1 (InputLayer)        [(None, None)]               0         []                            \n",
      "                                                                                                  \n",
      " input_2 (InputLayer)        [(None, None)]               0         []                            \n",
      "                                                                                                  \n",
      " input_3 (InputLayer)        [(None, None)]               0         []                            \n",
      "                                                                                                  \n",
      " input_4 (InputLayer)        [(None, None)]               0         []                            \n",
      "                                                                                                  \n",
      " embedding (Embedding)       (None, None, 300)            6445800   ['input_1[0][0]']             \n",
      "                                                                                                  \n",
      " embedding_1 (Embedding)     (None, None, 100)            200       ['input_2[0][0]']             \n",
      "                                                                                                  \n",
      " embedding_2 (Embedding)     (None, None, 100)            200       ['input_3[0][0]']             \n",
      "                                                                                                  \n",
      " embedding_3 (Embedding)     (None, None, 100)            100000    ['input_4[0][0]']             \n",
      "                                                                                                  \n",
      " masking (Masking)           multiple                     0         ['embedding[0][0]',           \n",
      "                                                                     'embedding_1[0][0]',         \n",
      "                                                                     'embedding_2[0][0]',         \n",
      "                                                                     'embedding_3[0][0]']         \n",
      "                                                                                                  \n",
      " concatenate (Concatenate)   (None, None, 600)            0         ['masking[0][0]',             \n",
      "                                                                     'masking[1][0]',             \n",
      "                                                                     'masking[2][0]',             \n",
      "                                                                     'masking[3][0]']             \n",
      "                                                                                                  \n",
      " bidirectional (Bidirection  (None, None, 512)            1755136   ['concatenate[0][0]']         \n",
      " al)                                                                                              \n",
      "                                                                                                  \n",
      " attention_layer (Attention  (None, 512)                  65793     ['bidirectional[0][0]']       \n",
      " Layer)                                                                                           \n",
      "                                                                                                  \n",
      " dense_2 (Dense)             (None, 19)                   9747      ['attention_layer[0][0]']     \n",
      "                                                                                                  \n",
      "==================================================================================================\n",
      "Total params: 8376876 (31.96 MB)\n",
      "Trainable params: 1931076 (7.37 MB)\n",
      "Non-trainable params: 6445800 (24.59 MB)\n",
      "__________________________________________________________________________________________________\n",
      "None\n"
     ]
    }
   ],
   "source": [
    "#The AttentionLayer class implements an attention mechanism for sequence data, computing context vectors based on input sequences and learned attention weights.\n",
    "\n",
    "class AttentionLayer(Layer):\n",
    "    def __init__(self, units):\n",
    "        super(AttentionLayer, self).__init__()\n",
    "        self.units = units\n",
    "        # Define the weight matrices for attention mechanism\n",
    "        self.W = Dense(units)\n",
    "        self.V = Dense(1)\n",
    "\n",
    "    def call(self, inputs):\n",
    "        # Calculate attention scores\n",
    "        score = tf.nn.tanh(self.W(inputs))\n",
    "        # Apply softmax to obtain attention weights\n",
    "        attention_weights = tf.nn.softmax(self.V(score), axis=1)\n",
    "        # Apply attention weights to input sequences\n",
    "        context_vector = attention_weights * inputs\n",
    "        # Aggregate context vector across the sequence length\n",
    "        context_vector = tf.reduce_sum(context_vector, axis=1)\n",
    "        return context_vector\n",
    "\n",
    "\n",
    "# Define the Masking layer\n",
    "masking_layer = Masking(mask_value=0)  # Assuming 0 represents padding in your input data\n",
    "# Apply masking to each input\n",
    "masked_word_embedding = masking_layer(word_embedding)\n",
    "masked_embed_seq_pos1 = masking_layer(embed_seq_pos1)\n",
    "masked_embed_seq_pos2 = masking_layer(embed_seq_pos2)\n",
    "masked_embed_padded_sequences = masking_layer(embed_padded_sequences)\n",
    "xInput = concatenate([masked_word_embedding, masked_embed_seq_pos1, masked_embed_seq_pos2,masked_embed_padded_sequences])\n",
    "# Define the first Bidirectional LSTM layer\n",
    "bidirectional_lstm_1 = Bidirectional(LSTM(256, dropout=0.2, recurrent_dropout=0.3, return_sequences=True))(xInput)\n",
    "# Apply Attention Mechanism\n",
    "attention_output = AttentionLayer(units=128)(bidirectional_lstm_1)\n",
    "# Output layer\n",
    "output = Dense(labels.shape[1], activation='softmax')(attention_output)\n",
    "# Create the model\n",
    "model = Model(inputs=[word_input, input_seq_pos1, input_seq_pos2,input_padded_sequences], outputs=output)\n",
    "# Compile the model\n",
    "model.compile(optimizer='adam', loss='categorical_crossentropy', metrics=['acc'])\n",
    "# Print model summary\n",
    "print(model.summary())\n"
   ]
  },
  {
   "cell_type": "markdown",
   "metadata": {
    "id": "r4qkfv4Xs5o_"
   },
   "source": [
    "## Training the model"
   ]
  },
  {
   "cell_type": "code",
   "execution_count": 30,
   "metadata": {
    "colab": {
     "base_uri": "https://localhost:8080/"
    },
    "id": "l5uAj9V17jKj",
    "outputId": "45b0bf7e-7ce9-43e0-9b1a-0b1c6689cb9b"
   },
   "outputs": [
    {
     "name": "stdout",
     "output_type": "stream",
     "text": [
      "Epoch 1/10\n",
      "124/124 [==============================] - 537s 4s/step - loss: 0.4303 - acc: 0.8763 - val_loss: 1.7735 - val_acc: 0.5125\n",
      "Epoch 2/10\n",
      "124/124 [==============================] - 536s 4s/step - loss: 0.3357 - acc: 0.9047 - val_loss: 1.7839 - val_acc: 0.4500\n",
      "Epoch 3/10\n",
      "124/124 [==============================] - 536s 4s/step - loss: 0.2720 - acc: 0.9275 - val_loss: 1.6600 - val_acc: 0.5000\n",
      "Epoch 4/10\n",
      "124/124 [==============================] - 535s 4s/step - loss: 0.2103 - acc: 0.9486 - val_loss: 1.9997 - val_acc: 0.4875\n",
      "Epoch 5/10\n",
      "124/124 [==============================] - 572s 5s/step - loss: 0.1719 - acc: 0.9615 - val_loss: 1.8357 - val_acc: 0.4750\n",
      "Epoch 6/10\n",
      "124/124 [==============================] - 533s 4s/step - loss: 0.1457 - acc: 0.9689 - val_loss: 2.0248 - val_acc: 0.4250\n",
      "Epoch 7/10\n",
      "124/124 [==============================] - 537s 4s/step - loss: 0.1193 - acc: 0.9769 - val_loss: 1.9715 - val_acc: 0.5000\n",
      "Epoch 8/10\n",
      "124/124 [==============================] - 537s 4s/step - loss: 0.1051 - acc: 0.9804 - val_loss: 1.9626 - val_acc: 0.5250\n",
      "Epoch 9/10\n",
      "124/124 [==============================] - 537s 4s/step - loss: 0.1005 - acc: 0.9806 - val_loss: 2.0298 - val_acc: 0.5375\n",
      "Epoch 10/10\n",
      "124/124 [==============================] - 537s 4s/step - loss: 0.0922 - acc: 0.9821 - val_loss: 2.0229 - val_acc: 0.5250\n"
     ]
    },
    {
     "data": {
      "text/plain": [
       "<keras.src.callbacks.History at 0x7b2747384040>"
      ]
     },
     "execution_count": 30,
     "metadata": {},
     "output_type": "execute_result"
    }
   ],
   "source": [
    "model.fit([X_train, pos1_array, pos2_array,padded_sequences], y_train, epochs=10, batch_size=64,validation_split=0.01)"
   ]
  },
  {
   "cell_type": "markdown",
   "metadata": {
    "id": "sNFrMAyJth7Q"
   },
   "source": [
    "## Preparing Testing data"
   ]
  },
  {
   "cell_type": "code",
   "execution_count": 31,
   "metadata": {
    "id": "iefVFjPhBpyH"
   },
   "outputs": [],
   "source": [
    "#Applying word index\n",
    "max_len=100\n",
    "sequencesTest=tokenizer.texts_to_sequences(test_df['sentence'].values)\n",
    "X_test = pad_sequences(sequencesTest, maxlen=max_len)\n",
    "\n",
    "# Convert 'sentence' column to numerical POS tags\n",
    "numerical_pos_tags_test = pos_to_numerical(test_df['sentence'].values)\n",
    "\n",
    "# Pad sequences to a fixed length\n",
    "max_len = 100\n",
    "padded_sequences_test = pad_sequences(numerical_pos_tags_test, maxlen=max_len)\n",
    "\n",
    "#One hot encoding\n",
    "labels_test=to_categorical(test_df['relation'], num_classes=len(df.relation.unique()))\n",
    "\n",
    "X_test_data, y_test_data = X_test, labels_test\n",
    "\n",
    "#Relative position\n",
    "pos1_list_test = []\n",
    "pos2_list_test = []\n",
    "\n",
    "for sentence in test_df['sentence'].values:\n",
    "    e1_pos, e2_pos = find_entity_positions(sentence)\n",
    "    pos1_list_test.append(e1_pos)\n",
    "    pos2_list_test.append(e2_pos)\n",
    "\n",
    "pos1_array_test = np.array(pos1_list_test)\n",
    "pos2_array_test = np.array(pos2_list_test)\n",
    "pos1_array_test = pos1_array_test.reshape(pos1_array_test.shape[0], pos1_array_test.shape[2])\n",
    "pos2_array_test = pos2_array_test.reshape(pos2_array_test.shape[0], pos2_array_test.shape[2])"
   ]
  },
  {
   "cell_type": "markdown",
   "metadata": {
    "id": "LlwMzC-YwGBh"
   },
   "source": [
    "## Testing the model's performance and making confusion matrix and classification report metrics."
   ]
  },
  {
   "cell_type": "code",
   "execution_count": 32,
   "metadata": {
    "colab": {
     "base_uri": "https://localhost:8080/",
     "height": 1000
    },
    "id": "yAaQusINCy0i",
    "outputId": "57f3e5c8-59bd-41ec-d793-247cd9b67098"
   },
   "outputs": [
    {
     "name": "stdout",
     "output_type": "stream",
     "text": [
      "85/85 [==============================] - 65s 767ms/step\n",
      "[[178  24   6  18  16   5  24  26   0  10  18  30  15  17   3   4  40  15\n",
      "    5]\n",
      " [ 53 126   1   2   5   2   3   0   0   4   1   2   9   1   0   0   1   0\n",
      "    0]\n",
      " [ 14   1  28   0   0   0   0   0   0   2   0   0   3   1   0   0   0   2\n",
      "    0]\n",
      " [ 30   1   0  58   3   1   0   0   0   2   7   2   2   2   0   0   0   0\n",
      "    0]\n",
      " [ 29   4   2   5  55   1   4   0   0   2   1   5   9   2   0   0   4   0\n",
      "    0]\n",
      " [  5   1   0   2   0  12   0   0   0   0   0   1   1   0   0   0   0   0\n",
      "    0]\n",
      " [ 28   1   0   4   3   0  83   1   0   0   1   0  11   1   0   0   0   0\n",
      "    1]\n",
      " [ 31   2   4   0   0   0   0 238   0   0   0   0   0   0   0   0   1  15\n",
      "    0]\n",
      " [  0   0   0   0   0   0   1   0   0   0   0   0   0   0   0   0   0   0\n",
      "    0]\n",
      " [  9   4   1   0   3   0   0   0   0 112   2   1   2   0   0   0   0   0\n",
      "    0]\n",
      " [ 10   0   0   3   1   0   1   0   0   0 168   0   0  11   0   0   0   0\n",
      "    0]\n",
      " [ 20   3   1   1   1   2   1   2   0   0   0 116   4   0   0   4   4   2\n",
      "    1]\n",
      " [ 17   3   0   0   6   0   9   0   0   1   1   1  91   3   3   0  11   2\n",
      "    2]\n",
      " [ 31   1   0   2   0   0   0   1   0   0  24   0   1 148   1   1   0   1\n",
      "    0]\n",
      " [  2   0   0   1   2   1   0   1   0   5   0   0   1   0  32   0   1   1\n",
      "    0]\n",
      " [  7   0   1   0   1   0   0   0   0   0   0   3   0   1   0  16   1   2\n",
      "    0]\n",
      " [ 11   0   0   0   2   0   0   0   0   0   0   6   4   0   1   0 177   0\n",
      "    0]\n",
      " [ 12   0   0   0   0   0   0  10   0   0   0   3   0   0   0   0   0 128\n",
      "    0]\n",
      " [  4   0   0   0   2   0   0   0   0   0   0   0   2   0   1   0   1   0\n",
      "   29]]\n",
      "              precision    recall  f1-score   support\n",
      "\n",
      "           0      0.363     0.392     0.377       454\n",
      "           1      0.737     0.600     0.661       210\n",
      "           2      0.636     0.549     0.589        51\n",
      "           3      0.604     0.537     0.569       108\n",
      "           4      0.550     0.447     0.493       123\n",
      "           5      0.500     0.545     0.522        22\n",
      "           6      0.659     0.619     0.638       134\n",
      "           7      0.853     0.818     0.835       291\n",
      "           8      0.000     0.000     0.000         1\n",
      "           9      0.812     0.836     0.824       134\n",
      "          10      0.753     0.866     0.806       194\n",
      "          11      0.682     0.716     0.699       162\n",
      "          12      0.587     0.607     0.597       150\n",
      "          13      0.791     0.701     0.744       211\n",
      "          14      0.780     0.681     0.727        47\n",
      "          15      0.640     0.500     0.561        32\n",
      "          16      0.734     0.881     0.801       201\n",
      "          17      0.762     0.837     0.798       153\n",
      "          18      0.763     0.744     0.753        39\n",
      "\n",
      "    accuracy                          0.661      2717\n",
      "   macro avg      0.643     0.625     0.631      2717\n",
      "weighted avg      0.664     0.661     0.660      2717\n",
      "\n"
     ]
    },
    {
     "name": "stderr",
     "output_type": "stream",
     "text": [
      "/usr/local/lib/python3.10/dist-packages/sklearn/metrics/_classification.py:1344: UndefinedMetricWarning: Precision and F-score are ill-defined and being set to 0.0 in labels with no predicted samples. Use `zero_division` parameter to control this behavior.\n",
      "  _warn_prf(average, modifier, msg_start, len(result))\n",
      "/usr/local/lib/python3.10/dist-packages/sklearn/metrics/_classification.py:1344: UndefinedMetricWarning: Precision and F-score are ill-defined and being set to 0.0 in labels with no predicted samples. Use `zero_division` parameter to control this behavior.\n",
      "  _warn_prf(average, modifier, msg_start, len(result))\n",
      "/usr/local/lib/python3.10/dist-packages/sklearn/metrics/_classification.py:1344: UndefinedMetricWarning: Precision and F-score are ill-defined and being set to 0.0 in labels with no predicted samples. Use `zero_division` parameter to control this behavior.\n",
      "  _warn_prf(average, modifier, msg_start, len(result))\n"
     ]
    },
    {
     "data": {
      "image/png": "[encoded data removed]",
      "text/plain": [
       "<Figure size 800x600 with 2 Axes>"
      ]
     },
     "metadata": {},
     "output_type": "display_data"
    }
   ],
   "source": [
    "from sklearn.metrics import confusion_matrix\n",
    "from sklearn.metrics import classification_report\n",
    "import seaborn as sns\n",
    "\n",
    "\n",
    "index, true_labels = np.where(y_test_data == 1)\n",
    "true_labels\n",
    "y_test_gold = []\n",
    "\n",
    "prediction_probas = model.predict([X_test_data, pos1_array_test, pos2_array_test,padded_sequences_test])\n",
    "\n",
    "predictions = [np.argmax(pred) for pred in prediction_probas]\n",
    "\n",
    "print(confusion_matrix(true_labels, predictions)) #from sklearn.metrics\n",
    "print(classification_report(true_labels, predictions, digits=3))\n",
    "\n",
    "cm = confusion_matrix(true_labels, predictions)\n",
    "labels = [i for i in range(19)]\n",
    "plt.figure(figsize=(8, 6))\n",
    "sns.heatmap(cm, annot=True, cmap='Blues', fmt='g', xticklabels=labels, yticklabels=labels)\n",
    "plt.xlabel('Predicted labels')\n",
    "plt.ylabel('True labels')\n",
    "plt.title('Confusion Matrix plotted as a heatmap')\n",
    "plt.show()"
   ]
  },
  {
   "cell_type": "markdown",
   "metadata": {
    "id": "wf3g4tMdPJVp"
   },
   "source": [
    "## Saving the model and word index"
   ]
  },
  {
   "cell_type": "code",
   "execution_count": 33,
   "metadata": {
    "id": "V1yqeGj0-yaH"
   },
   "outputs": [],
   "source": [
    "from keras.models import load_model\n",
    "\n",
    "# Assuming 'model' is your Keras model\n",
    "model.save(\"my_model2.keras\")"
   ]
  },
  {
   "cell_type": "code",
   "execution_count": 34,
   "metadata": {
    "colab": {
     "base_uri": "https://localhost:8080/"
    },
    "id": "l9fYQ2x-XohU",
    "outputId": "1e72c84c-b8f8-46ac-ca9c-fd8509da927b"
   },
   "outputs": [
    {
     "name": "stderr",
     "output_type": "stream",
     "text": [
      "/usr/local/lib/python3.10/dist-packages/gensim/models/keyedvectors.py:551: UserWarning: Adding single vectors to a KeyedVectors which grows by one each time can be costly. Consider adding in batches or preallocating to the required size.\n",
      "  warnings.warn(\n"
     ]
    }
   ],
   "source": [
    "from gensim.models import KeyedVectors\n",
    "\n",
    "# Create an empty KeyedVectors object\n",
    "kv = KeyedVectors(vector_size=1)\n",
    "a=0\n",
    "# Iterate over the word index of the Tokenizer and add words to the KeyedVectors object\n",
    "for word, index in tokenizer.word_index.items():\n",
    "    kv.add_vector(word, index)\n",
    "# Save the KeyedVectors object as .kv file\n",
    "kv.save('tokenizer.kv')"
   ]
  },
  {
   "cell_type": "markdown",
   "metadata": {
    "id": "IDLRrUz3S5ip"
   },
   "source": [
    "# Testing the model on user input"
   ]
  },
  {
   "cell_type": "code",
   "execution_count": 9,
   "metadata": {
    "colab": {
     "base_uri": "https://localhost:8080/"
    },
    "id": "oC7uH0APEaXh",
    "outputId": "3cc41a08-42d0-468e-c6ef-6eade3f5f2e2"
   },
   "outputs": [
    {
     "name": "stdout",
     "output_type": "stream",
     "text": [
      "Drive already mounted at /gdrive; to attempt to forcibly remount, call drive.mount(\"/gdrive\", force_remount=True).\n",
      "/gdrive\n",
      "/gdrive/MyDrive/TextMining\n"
     ]
    }
   ],
   "source": [
    "# UNCOMMENT and RUN THIS CELL IF YOU ARE USING GOOGLE COLAB\n",
    "# mount drive and change directory\n",
    "# from google.colab import drive\n",
    "# drive.mount('/gdrive')\n",
    "# %cd /gdrive\n",
    "# %cd MyDrive/TextMining/"
   ]
  },
  {
   "cell_type": "code",
   "execution_count": 16,
   "metadata": {
    "id": "SjQ3awsiB9yK"
   },
   "outputs": [],
   "source": [
    "from keras.layers import Dense,Layer\n",
    "from keras.models import load_model\n",
    "import tensorflow as tf\n",
    "import numpy as np\n",
    "\n",
    "\n",
    "\n",
    "class AttentionLayer(Layer):\n",
    "    def __init__(self, units):\n",
    "        super(AttentionLayer, self).__init__()\n",
    "        self.units = units\n",
    "        # Define the weight matrices for attention mechanism\n",
    "        self.W = Dense(units)\n",
    "        self.V = Dense(1)\n",
    "\n",
    "    def call(self, inputs):\n",
    "        # Calculate attention scores\n",
    "        score = tf.nn.tanh(self.W(inputs))\n",
    "        # Apply softmax to obtain attention weights\n",
    "        attention_weights = tf.nn.softmax(self.V(score), axis=1)\n",
    "        # Apply attention weights to input sequences\n",
    "        context_vector = attention_weights * inputs\n",
    "        # Aggregate context vector across the sequence length\n",
    "        context_vector = tf.reduce_sum(context_vector, axis=1)\n",
    "        return context_vector\n",
    "import keras\n",
    "keras.utils.get_custom_objects()[\"AttentionLayer\"] = AttentionLayer\n",
    "\n",
    "# loading our saved model. Please make sure to download the model using the link given in the README file.\n",
    "loaded_model = load_model(\"my_model2.keras\")\n",
    "\n",
    "\n",
    "from gensim.models import KeyedVectors\n",
    "from keras.preprocessing.text import Tokenizer\n",
    "\n",
    "\n",
    "# Load the KeyedVectors object from the .kv file\n",
    "kv = KeyedVectors.load('tokenizer.kv')\n",
    "\n",
    "# Convert the loaded word index to tokenizer format\n",
    "tokenizer= Tokenizer(num_words=25000, filters= '!\"#$%&().:;-?@[]^_{|}~</>', lower=True)\n",
    "tokenizer.word_index = {word: index+1 for index, word in enumerate(kv.index_to_key)}\n",
    "\n"
   ]
  },
  {
   "cell_type": "code",
   "execution_count": 24,
   "metadata": {
    "id": "DHCtxwzNhuFM"
   },
   "outputs": [],
   "source": [
    "from keras.preprocessing.sequence import pad_sequences\n",
    "import spacy\n",
    "\n",
    "max_len = 100\n",
    "nlp = spacy.load(\"en_core_web_md\")\n",
    "def pos_to_numerical(sentences):\n",
    "    pos_encoded = []\n",
    "    for sentence in sentences:\n",
    "        # Process the sentence using spaCy\n",
    "        doc = nlp(sentence)\n",
    "        # Extract POS tags and filter out unwanted tags\n",
    "        pos_tags = [token.tag_ for token in doc if token.text not in ['<','>','/','\"','.']]\n",
    "        # Convert POS tags to numerical values (you may need to encode them differently based on your requirements)\n",
    "        pos_encoded_sentence = [ord(tag[0]) for tag in pos_tags]  # Example encoding\n",
    "        pos_encoded.append(pos_encoded_sentence)\n",
    "    return pos_encoded\n",
    "\n",
    "def calculate_relative_positions(sentence, e1_pos, e2_pos):\n",
    "    words = sentence.split()  # Split the sentence into words\n",
    "    pos1 = [(i - e1_pos + 100)/100 for i in range(len(words))]  # Calculate relative positions for e1\n",
    "    pos2 = [(i - e2_pos + 100)/100 for i in range(len(words))]  # Calculate relative positions for e2\n",
    "    return pos1, pos2\n",
    "\n",
    "def find_entity_positions(sentence):\n",
    "    e1_pos = -1\n",
    "    e2_pos = -1\n",
    "    words = sentence.split()  # Split the sentence into words\n",
    "    for idx, word in enumerate(words):\n",
    "        if \"<e1>\" in word and \"</e1>\" in word:\n",
    "            e1_pos = idx\n",
    "        elif \"<e2>\" in word and \"</e2>\" in word:\n",
    "            e2_pos = idx\n",
    "    pos1,pos2 = calculate_relative_positions(sentence,e1_pos,e2_pos)\n",
    "    pos1 = pad_sequences([pos1], maxlen=max_len, dtype='float32')\n",
    "    pos2=pad_sequences([pos2], maxlen=max_len, dtype='float32')\n",
    "    return pos1, pos2\n",
    "\n",
    "# Following is a mapping between relations and their corresponding ids\n",
    "relation_ids = {\n",
    "    \"Other\": 0,\n",
    "    \"Message-Topic(e1,e2)\": 1,\n",
    "    \"Message-Topic(e2,e1)\": 2,\n",
    "    \"Product-Producer(e1,e2)\": 3,\n",
    "    \"Product-Producer(e2,e1)\": 4,\n",
    "    \"Instrument-Agency(e1,e2)\": 5,\n",
    "    \"Instrument-Agency(e2,e1)\": 6,\n",
    "    \"Entity-Destination(e1,e2)\": 7,\n",
    "    \"Entity-Destination(e2,e1)\": 8,\n",
    "    \"Cause-Effect(e1,e2)\": 9,\n",
    "    \"Cause-Effect(e2,e1)\": 10,\n",
    "    \"Component-Whole(e1,e2)\": 11,\n",
    "    \"Component-Whole(e2,e1)\": 12,\n",
    "    \"Entity-Origin(e1,e2)\": 13,\n",
    "    \"Entity-Origin(e2,e1)\": 14,\n",
    "    \"Member-Collection(e1,e2)\": 15,\n",
    "    \"Member-Collection(e2,e1)\": 16,\n",
    "    \"Content-Container(e1,e2)\": 17,\n",
    "    \"Content-Container(e2,e1)\": 18,\n",
    "}\n",
    "ids_to_relations = {id: relation for id, relation in enumerate(relation_ids)}\n",
    "\n",
    "\n",
    "\n",
    "def get_predictions(inputs):\n",
    "    sequences = tokenizer.texts_to_sequences(inputs)\n",
    "    index_input = pad_sequences(sequences, maxlen=max_len)\n",
    "\n",
    "    #Finding relative distance for every sentence and making a numpy array\n",
    "    pos1_list = []\n",
    "    pos2_list = []\n",
    "\n",
    "    for sentence in inputs:\n",
    "        e1_pos, e2_pos = find_entity_positions(sentence)\n",
    "        pos1_list.append(e1_pos)\n",
    "        pos2_list.append(e2_pos)\n",
    "\n",
    "    pos1_array = np.array(pos1_list)\n",
    "    pos2_array = np.array(pos2_list)\n",
    "    pos1_array_input = pos1_array.reshape(pos1_array.shape[0], pos1_array.shape[2])\n",
    "    pos2_array_input = pos2_array.reshape(pos2_array.shape[0], pos2_array.shape[2])\n",
    "    # Convert 'sentence' column to numerical POS tags\n",
    "    numerical_pos_tags = pos_to_numerical(inputs)\n",
    "\n",
    "    # Pad sequences to a fixed length\n",
    "    padded_sequences_input = pad_sequences(numerical_pos_tags, maxlen=max_len)\n",
    "\n",
    "    prediction_probas = loaded_model.predict([index_input, pos1_array_input, pos2_array_input,padded_sequences_input])\n",
    "    predictions = [np.argmax(pred) for pred in prediction_probas]\n",
    "\n",
    "    predictions = [ids_to_relations[id] for id in predictions]\n",
    "\n",
    "    print(predictions)\n"
   ]
  },
  {
   "cell_type": "code",
   "execution_count": 25,
   "metadata": {
    "colab": {
     "base_uri": "https://localhost:8080/"
    },
    "id": "qsJ6xUVAvVN3",
    "outputId": "bd517347-6554-4cdd-925d-f7cfdd591f9f"
   },
   "outputs": [
    {
     "name": "stdout",
     "output_type": "stream",
     "text": [
      "1/1 [==============================] - 0s 290ms/step\n",
      "['Other', 'Member-Collection(e1,e2)', 'Message-Topic(e1,e2)']\n"
     ]
    }
   ],
   "source": [
    "# You can provide inputs in the form of a list of sentences and call predict_with_loaded_model function.\n",
    "# The model will return the prediction for each sentence in the form of a list.\n",
    "# Make sure to put <e1> and <e2> tags around the entities.\n",
    "inputs = [\"Their <e1>composer</e1> has sunk into <e2>oblivion</e2>.\",\n",
    "          \"The fifty <e1>essays</e1> collected in this <e2>volume</e2> testify to most of the prominent themes from Professor Quispel's scholarly career.\",\n",
    "          \"he Pulitzer Committee issues an official <e1>citation</e1> explaining the <e2>reasons</e2> for the award.\"]\n",
    "\n",
    "get_predictions(inputs)\n"
   ]
  }
 ],
 "metadata": {
  "colab": {
   "provenance": []
  },
  "kernelspec": {
   "display_name": "Python 3 (ipykernel)",
   "language": "python",
   "name": "python3"
  },
  "language_info": {
   "codemirror_mode": {
    "name": "ipython",
    "version": 3
   },
   "file_extension": ".py",
   "mimetype": "text/x-python",
   "name": "python",
   "nbconvert_exporter": "python",
   "pygments_lexer": "ipython3",
   "version": "3.11.2"
  }
 },
 "nbformat": 4,
 "nbformat_minor": 4
}
